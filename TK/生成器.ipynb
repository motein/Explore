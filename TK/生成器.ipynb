{
 "cells": [
  {
   "cell_type": "code",
   "execution_count": 57,
   "metadata": {},
   "outputs": [],
   "source": [
    "import pandas as pd"
   ]
  },
  {
   "cell_type": "code",
   "execution_count": 265,
   "metadata": {},
   "outputs": [],
   "source": [
    "data = pd.read_excel(\"data.xlsx\")\n",
    "names = pd.read_excel(\"names2.xlsx\")"
   ]
  },
  {
   "cell_type": "code",
   "execution_count": 262,
   "metadata": {},
   "outputs": [],
   "source": [
    "raw_name_label = \"1、您的姓名：\""
   ]
  },
  {
   "cell_type": "code",
   "execution_count": 268,
   "metadata": {},
   "outputs": [
    {
     "data": {
      "text/plain": [
       "(['一线',\n",
       "  '总部',\n",
       "  '总部',\n",
       "  '一线',\n",
       "  '一线',\n",
       "  '一线',\n",
       "  '一线',\n",
       "  '一线',\n",
       "  '事业部',\n",
       "  '一线',\n",
       "  '事业部',\n",
       "  '一线',\n",
       "  '一线',\n",
       "  '一线',\n",
       "  '一线',\n",
       "  '总部',\n",
       "  '一线',\n",
       "  '一线',\n",
       "  '事业部',\n",
       "  '总部',\n",
       "  '总部',\n",
       "  '一线',\n",
       "  '一线',\n",
       "  '事业部',\n",
       "  '事业部',\n",
       "  '一线',\n",
       "  '事业部',\n",
       "  '一线',\n",
       "  '一线',\n",
       "  '一线',\n",
       "  '事业部',\n",
       "  '一线',\n",
       "  '总部',\n",
       "  '事业部',\n",
       "  '总部',\n",
       "  '事业部',\n",
       "  '一线',\n",
       "  '一线',\n",
       "  '一线',\n",
       "  '事业部',\n",
       "  '事业部',\n",
       "  '一线',\n",
       "  '事业部',\n",
       "  '一线',\n",
       "  '一线',\n",
       "  '总部',\n",
       "  '总部',\n",
       "  '事业部',\n",
       "  '一线',\n",
       "  '一线',\n",
       "  '一线',\n",
       "  '一线',\n",
       "  '一线',\n",
       "  '事业部',\n",
       "  '一线',\n",
       "  '事业部',\n",
       "  '一线',\n",
       "  '一线',\n",
       "  '一线',\n",
       "  '一线',\n",
       "  '一线',\n",
       "  '一线',\n",
       "  '一线',\n",
       "  '一线',\n",
       "  '总部',\n",
       "  '总部',\n",
       "  '一线',\n",
       "  '一线',\n",
       "  '一线',\n",
       "  '一线',\n",
       "  '一线',\n",
       "  '一线',\n",
       "  '一线',\n",
       "  '一线',\n",
       "  '事业部',\n",
       "  '一线',\n",
       "  '一线',\n",
       "  '事业部',\n",
       "  '一线',\n",
       "  '一线',\n",
       "  '一线',\n",
       "  '一线',\n",
       "  '一线',\n",
       "  '一线',\n",
       "  '一线',\n",
       "  '一线',\n",
       "  '一线',\n",
       "  '一线',\n",
       "  '一线',\n",
       "  '总部',\n",
       "  '一线',\n",
       "  '事业部',\n",
       "  '一线',\n",
       "  '一线',\n",
       "  '一线',\n",
       "  '一线',\n",
       "  '一线',\n",
       "  '一线',\n",
       "  '一线',\n",
       "  '一线',\n",
       "  '一线',\n",
       "  '事业部',\n",
       "  '一线',\n",
       "  '事业部',\n",
       "  '一线',\n",
       "  '一线',\n",
       "  '一线'],\n",
       " ['6及以上',\n",
       "  '1~5',\n",
       "  '1~5',\n",
       "  '1~5',\n",
       "  '1~5',\n",
       "  '1~5',\n",
       "  '1~5',\n",
       "  '1~5',\n",
       "  '6及以上',\n",
       "  '1~5',\n",
       "  '6及以上',\n",
       "  '1~5',\n",
       "  '1~5',\n",
       "  '1~5',\n",
       "  '1~5',\n",
       "  '6及以上',\n",
       "  '1~5',\n",
       "  '1~5',\n",
       "  '1~5',\n",
       "  '6及以上',\n",
       "  '1~5',\n",
       "  '1~5',\n",
       "  '6及以上',\n",
       "  '1~5',\n",
       "  '1~5',\n",
       "  '1~5',\n",
       "  '1~5',\n",
       "  '1~5',\n",
       "  '6及以上',\n",
       "  '6及以上',\n",
       "  '1~5',\n",
       "  '1~5',\n",
       "  '6及以上',\n",
       "  '1~5',\n",
       "  '1~5',\n",
       "  '1~5',\n",
       "  '1~5',\n",
       "  '1~5',\n",
       "  '1~5',\n",
       "  '1~5',\n",
       "  '1~5',\n",
       "  '1~5',\n",
       "  '1~5',\n",
       "  '1~5',\n",
       "  '1~5',\n",
       "  '1~5',\n",
       "  '6及以上',\n",
       "  '1~5',\n",
       "  '1~5',\n",
       "  '1~5',\n",
       "  '1~5',\n",
       "  '1~5',\n",
       "  '1~5',\n",
       "  '1~5',\n",
       "  '1~5',\n",
       "  '1~5',\n",
       "  '1~5',\n",
       "  '1~5',\n",
       "  '1~5',\n",
       "  '1~5',\n",
       "  '1~5',\n",
       "  '6及以上',\n",
       "  '1~5',\n",
       "  '1~5',\n",
       "  '1~5',\n",
       "  '1~5',\n",
       "  '1~5',\n",
       "  '1~5',\n",
       "  '1~5',\n",
       "  '1~5',\n",
       "  '1~5',\n",
       "  '1~5',\n",
       "  '1~5',\n",
       "  '1~5',\n",
       "  '6及以上',\n",
       "  '1~5',\n",
       "  '1~5',\n",
       "  '1~5',\n",
       "  '1~5',\n",
       "  '1~5',\n",
       "  '6及以上',\n",
       "  '1~5',\n",
       "  '1~5',\n",
       "  '1~5',\n",
       "  '1~5',\n",
       "  '6及以上',\n",
       "  '1~5',\n",
       "  '1~5',\n",
       "  '6及以上',\n",
       "  '1~5',\n",
       "  '1~5',\n",
       "  '6及以上',\n",
       "  '1~5',\n",
       "  '1~5',\n",
       "  '1~5',\n",
       "  '1~5',\n",
       "  '1~5',\n",
       "  '1~5',\n",
       "  '1~5',\n",
       "  '1~5',\n",
       "  '1~5',\n",
       "  '1~5',\n",
       "  '1~5',\n",
       "  '1~5',\n",
       "  '6及以上',\n",
       "  '6及以上',\n",
       "  '6及以上'])"
      ]
     },
     "execution_count": 268,
     "metadata": {},
     "output_type": "execute_result"
    }
   ],
   "source": [
    "d_label = names[\"标签1（机构）\"].dropna().tolist()\n",
    "d_level = names[\"标签2（职级）\"].dropna().tolist()\n",
    "# d_label, d_level"
   ]
  },
  {
   "cell_type": "code",
   "execution_count": 269,
   "metadata": {},
   "outputs": [
    {
     "data": {
      "text/plain": [
       "({'一线', '事业部', '总部'}, {'1~5', '6及以上'})"
      ]
     },
     "execution_count": 269,
     "metadata": {},
     "output_type": "execute_result"
    }
   ],
   "source": [
    "d_label_group = set(d_label)\n",
    "d_level_group = set(d_level)\n",
    "d_label_group, d_level_group"
   ]
  },
  {
   "cell_type": "code",
   "execution_count": 276,
   "metadata": {},
   "outputs": [],
   "source": [
    "d_dict = {}\n",
    "level_dict = {}\n",
    "for d_label in d_label_group:\n",
    "    temp = []\n",
    "    for i in range(len(names)):\n",
    "        item = names.loc[i]\n",
    "        if item[\"标签1（机构）\"] == d_label:\n",
    "            temp.append(item[\"姓名\"])\n",
    "    d_dict[d_label] = temp\n",
    "    \n",
    "for d_level in d_level_group:\n",
    "    temp = []\n",
    "    for i in range(len(names)):\n",
    "        item = names.loc[i]\n",
    "        if item[\"标签2（职级）\"] == d_level:\n",
    "            temp.append(item[\"姓名\"])\n",
    "    level_dict[d_level] = temp"
   ]
  },
  {
   "cell_type": "code",
   "execution_count": 277,
   "metadata": {},
   "outputs": [
    {
     "data": {
      "text/plain": [
       "{'1~5': ['朱金勇',\n",
       "  '孙政',\n",
       "  '裴红玲',\n",
       "  '李珏',\n",
       "  '盛秋红',\n",
       "  '毕雅楠',\n",
       "  '沈晶',\n",
       "  '曾建荣',\n",
       "  '谭丽庆',\n",
       "  '菅瑞',\n",
       "  '李亚芬',\n",
       "  '张曼丽',\n",
       "  '唐粟',\n",
       "  '石英华',\n",
       "  '韩书斌',\n",
       "  '刘焰炤',\n",
       "  '王晓君',\n",
       "  '师瑶',\n",
       "  '李艳凤',\n",
       "  '彭迪琳',\n",
       "  '蒋蕾',\n",
       "  '陈霁',\n",
       "  '刘磊',\n",
       "  '王艾',\n",
       "  '吴婷艳',\n",
       "  '陈若',\n",
       "  '伊雯',\n",
       "  '郝娜娜',\n",
       "  '朱瑾',\n",
       "  '刘宇',\n",
       "  '袁鹏',\n",
       "  '孙世伟',\n",
       "  '刘小鹏',\n",
       "  '周嘉霖',\n",
       "  '李翠',\n",
       "  '吴冕',\n",
       "  '张璐璐',\n",
       "  '刘逸思',\n",
       "  '刘秀云',\n",
       "  '许丽莉',\n",
       "  '王妮',\n",
       "  '陈毓红',\n",
       "  '王静静',\n",
       "  '韦晓晨',\n",
       "  '谢媛媛',\n",
       "  '杨晓龙',\n",
       "  '李蓓',\n",
       "  '宋璐',\n",
       "  '顾桂颖',\n",
       "  '连玲歌',\n",
       "  '李敬欢',\n",
       "  '任倩楠',\n",
       "  '王袁新',\n",
       "  '董博',\n",
       "  '毛启月',\n",
       "  '赵晶',\n",
       "  '杨滟宏',\n",
       "  '许逸明',\n",
       "  '刘春宇',\n",
       "  '李磊',\n",
       "  '孙蕾',\n",
       "  '麦依敏',\n",
       "  '冯雪',\n",
       "  '彭洁',\n",
       "  '闵芳',\n",
       "  '张朔',\n",
       "  '袁杏',\n",
       "  '韩依纯',\n",
       "  '安雪飞',\n",
       "  '梁志龙',\n",
       "  '姜虹羽',\n",
       "  '李海娜',\n",
       "  '于磊',\n",
       "  '陈丽婷',\n",
       "  '杨艺',\n",
       "  '徐旭',\n",
       "  '郭媛媛',\n",
       "  '梁峻城',\n",
       "  '施慧雯',\n",
       "  '彭玮祎',\n",
       "  '黄丽',\n",
       "  '许琳英',\n",
       "  '邵凤',\n",
       "  '俞彦',\n",
       "  '曾卓',\n",
       "  '黄亚波',\n",
       "  '王新宇',\n",
       "  '褚冠雅'],\n",
       " '6及以上': ['宋妍',\n",
       "  '詹文慧',\n",
       "  '胡蓉',\n",
       "  '谢昭',\n",
       "  '张立旺',\n",
       "  '刘雯',\n",
       "  '李荣苇',\n",
       "  '谭蓉',\n",
       "  '张亭午',\n",
       "  '蒋荣',\n",
       "  '金明',\n",
       "  '白杨',\n",
       "  '支增艳',\n",
       "  '魏文兰',\n",
       "  '王中升',\n",
       "  '张国军',\n",
       "  '张岚',\n",
       "  '甘令',\n",
       "  '彭小建']}"
      ]
     },
     "execution_count": 277,
     "metadata": {},
     "output_type": "execute_result"
    }
   ],
   "source": [
    "# d_dict\n",
    "# level_dict"
   ]
  },
  {
   "cell_type": "code",
   "execution_count": 278,
   "metadata": {},
   "outputs": [
    {
     "name": "stdout",
     "output_type": "stream",
     "text": [
      "{'朱金勇': '1~5', '孙政': '1~5', '裴红玲': '1~5', '李珏': '1~5', '盛秋红': '1~5', '毕雅楠': '1~5', '沈晶': '1~5', '曾建荣': '1~5', '谭丽庆': '1~5', '菅瑞': '1~5', '李亚芬': '1~5', '张曼丽': '1~5', '唐粟': '1~5', '石英华': '1~5', '韩书斌': '1~5', '刘焰炤': '1~5', '王晓君': '1~5', '师瑶': '1~5', '李艳凤': '1~5', '彭迪琳': '1~5', '蒋蕾': '1~5', '陈霁': '1~5', '刘磊': '1~5', '王艾': '1~5', '吴婷艳': '1~5', '陈若': '1~5', '伊雯': '1~5', '郝娜娜': '1~5', '朱瑾': '1~5', '刘宇': '1~5', '袁鹏': '1~5', '孙世伟': '1~5', '刘小鹏': '1~5', '周嘉霖': '1~5', '李翠': '1~5', '吴冕': '1~5', '张璐璐': '1~5', '刘逸思': '1~5', '刘秀云': '1~5', '许丽莉': '1~5', '王妮': '1~5', '陈毓红': '1~5', '王静静': '1~5', '韦晓晨': '1~5', '谢媛媛': '1~5', '杨晓龙': '1~5', '李蓓': '1~5', '宋璐': '1~5', '顾桂颖': '1~5', '连玲歌': '1~5', '李敬欢': '1~5', '任倩楠': '1~5', '王袁新': '1~5', '董博': '1~5', '毛启月': '1~5', '赵晶': '1~5', '杨滟宏': '1~5', '许逸明': '1~5', '刘春宇': '1~5', '李磊': '1~5', '孙蕾': '1~5', '麦依敏': '1~5', '冯雪': '1~5', '彭洁': '1~5', '闵芳': '1~5', '张朔': '1~5', '袁杏': '1~5', '韩依纯': '1~5', '安雪飞': '1~5', '梁志龙': '1~5', '姜虹羽': '1~5', '李海娜': '1~5', '于磊': '1~5', '陈丽婷': '1~5', '杨艺': '1~5', '徐旭': '1~5', '郭媛媛': '1~5', '梁峻城': '1~5', '施慧雯': '1~5', '彭玮祎': '1~5', '黄丽': '1~5', '许琳英': '1~5', '邵凤': '1~5', '俞彦': '1~5', '曾卓': '1~5', '黄亚波': '1~5', '王新宇': '1~5', '褚冠雅': '1~5', '宋妍': '6及以上', '詹文慧': '6及以上', '胡蓉': '6及以上', '谢昭': '6及以上', '张立旺': '6及以上', '刘雯': '6及以上', '李荣苇': '6及以上', '谭蓉': '6及以上', '张亭午': '6及以上', '蒋荣': '6及以上', '金明': '6及以上', '白杨': '6及以上', '支增艳': '6及以上', '魏文兰': '6及以上', '王中升': '6及以上', '张国军': '6及以上', '张岚': '6及以上', '甘令': '6及以上', '彭小建': '6及以上'}\n"
     ]
    }
   ],
   "source": [
    "dd_dict = {}\n",
    "for i in d_dict:\n",
    "    for j in d_dict[i]:\n",
    "        dd_dict[j] = i\n",
    "# print(dd_dict)\n",
    "\n",
    "ll_dict = {}\n",
    "for i in level_dict:\n",
    "    for j in level_dict[i]:\n",
    "        ll_dict[j] = i\n",
    "print(ll_dict)"
   ]
  },
  {
   "cell_type": "code",
   "execution_count": 69,
   "metadata": {},
   "outputs": [],
   "source": [
    "# data.columns"
   ]
  },
  {
   "cell_type": "code",
   "execution_count": 279,
   "metadata": {},
   "outputs": [
    {
     "data": {
      "text/plain": [
       "[2, 3, 4, 5, 6, 7]"
      ]
     },
     "execution_count": 279,
     "metadata": {},
     "output_type": "execute_result"
    }
   ],
   "source": [
    "question_seq = list(range(2, 8))\n",
    "question_seq"
   ]
  },
  {
   "cell_type": "code",
   "execution_count": 280,
   "metadata": {},
   "outputs": [],
   "source": [
    "raw_dict = {}\n",
    "for i in question_seq:\n",
    "    temp = []\n",
    "    for col in data.columns:\n",
    "        if col.startswith(str(i)+\"、(\"):\n",
    "            temp.append(col)\n",
    "    raw_dict[i] = temp"
   ]
  },
  {
   "cell_type": "code",
   "execution_count": 281,
   "metadata": {},
   "outputs": [],
   "source": [
    "# raw_dict"
   ]
  },
  {
   "cell_type": "code",
   "execution_count": 282,
   "metadata": {},
   "outputs": [
    {
     "name": "stdout",
     "output_type": "stream",
     "text": [
      "107\n"
     ]
    }
   ],
   "source": [
    "result = {}\n",
    "for j in range(len(data)):\n",
    "    person = data.loc[j]\n",
    "    name = person[\"1、您的姓名：\"]\n",
    "#     print(name)\n",
    "    temp = {}\n",
    "    for q_num in raw_dict:\n",
    "        q_dict = {}\n",
    "        for m in raw_dict[q_num]:\n",
    "            q_dict[m] = int(person[m])\n",
    "        \n",
    "        q_dict = dict(sorted(q_dict.items(), key=lambda item: item[1])) # sort\n",
    "#         print(q_dict)\n",
    "        temp[q_num] = q_dict\n",
    "    result[name] = temp\n",
    "print(len(result.keys()))"
   ]
  },
  {
   "cell_type": "code",
   "execution_count": 283,
   "metadata": {},
   "outputs": [
    {
     "data": {
      "text/plain": [
       "{2: {'2、(人才库建设和运营)': 1,\n",
       "  '2、(招聘智能化)': 2,\n",
       "  '2、(招聘技能培训（业务部门面试官）)': 3,\n",
       "  '2、(招聘技能培训（人力招聘经理）)': 4,\n",
       "  '2、(招聘流程优化和候选人体验提升)': 5,\n",
       "  '2、(招聘系统建设)': 6,\n",
       "  '2、(招聘数据分析、报表自动化)': 7},\n",
       " 3: {'3、(其他)': -2,\n",
       "  '3、(优化当前DHR和北森系统流程)': 1,\n",
       "  '3、(设计和提升候选人体验、招聘礼仪)': 2,\n",
       "  '3、(优化背景调查政策和流程)': 3,\n",
       "  '3、(提供结构化面试工具模板)': 4,\n",
       "  '3、(提供用于吸引候选人的健投介绍材料)': 5,\n",
       "  '3、(提供招聘各环节的标准话术)': 6,\n",
       "  '3、(优化招聘激励政策)': 7},\n",
       " 4: {'4、(其他)': -2,\n",
       "  '4、(面试技巧培训)': 1,\n",
       "  '4、(招聘系统操作手册和招聘流程培训)': 2,\n",
       "  '4、(招聘需求分析和人才画像的培训)': 3,\n",
       "  '4、(招聘经理能力素质模型)': 4,\n",
       "  '4、(人才MAPPING与招聘渠道拓展的培训)': 5,\n",
       "  '4、(人才分析、评价和测评的培训)': 6},\n",
       " 5: {'5、(其他)': -2,\n",
       "  '5、(自动发现候选人并智能推荐)': 1,\n",
       "  '5、(AI面试)': 2,\n",
       "  '5、(机器人自动回复候选人问题)': 3,\n",
       "  '5、(智能外呼)': 4},\n",
       " 6: {'6、(其他)': -2,\n",
       "  '6、(活水计划)': 1,\n",
       "  '6、(优化内推激励政策)': 2,\n",
       "  '6、(人才库结构化、分级分类和标签化，增强搜索能力)': 3,\n",
       "  '6、(引入社交化内推，如“六度推”、“仟寻”)': 4},\n",
       " 7: {'7、(其他)': -2,\n",
       "  '7、(优化DHR招聘模块)': 1,\n",
       "  '7、(优化北森招聘系统)': 2,\n",
       "  '7、(推进业务部门使用招聘系统，全流程线上化)': 3,\n",
       "  '7、(提供准确全面的招聘数据分析、管理看板、招聘报表)': 4}}"
      ]
     },
     "execution_count": 283,
     "metadata": {},
     "output_type": "execute_result"
    }
   ],
   "source": [
    "# result[\"宋妍\"]"
   ]
  },
  {
   "cell_type": "code",
   "execution_count": 284,
   "metadata": {},
   "outputs": [],
   "source": [
    "cols = [\"标签\", \"姓名\", \"排序1\", \"排序2\", \"排序3\", \"排序4\", \"排序5\", \"排序6\", \"排序7\", \"排序8\"]\n",
    "with pd.ExcelWriter('output.xlsx') as writer:\n",
    "    for seq in question_seq:\n",
    "        sheet_data = []\n",
    "        for name in result:\n",
    "            one_row = [\"\"] * 8\n",
    "            person = result[name]\n",
    "            raw = person[seq]\n",
    "#             print(raw)\n",
    "            index = 7\n",
    "            for q_item in raw:\n",
    "                if raw[q_item] >= 0:\n",
    "                    one_row[index] = q_item[3: len(q_item)-1]\n",
    "                    index = index-1\n",
    "#             print(one_row)\n",
    "            sheet_data.append([dd_dict[name], name] + one_row)\n",
    "        sheet_df = pd.DataFrame(sheet_data,\n",
    "                   columns=cols)\n",
    "        sheet_df.to_excel(writer, sheet_name=\"第%s题\" % seq, index=False)"
   ]
  },
  {
   "cell_type": "code",
   "execution_count": 285,
   "metadata": {},
   "outputs": [],
   "source": [
    "doc = pd.read_excel(\"output.xlsx\")"
   ]
  },
  {
   "cell_type": "code",
   "execution_count": 286,
   "metadata": {},
   "outputs": [],
   "source": [
    "import numpy as np"
   ]
  },
  {
   "cell_type": "code",
   "execution_count": 287,
   "metadata": {},
   "outputs": [
    {
     "data": {
      "text/plain": [
       "{'人才库建设和运营': {0: 0, 1: 11, 2: 16, 3: 13, 4: 15, 5: 14, 6: 13, 7: 20},\n",
       " '招聘智能化': {0: 0, 1: 18, 2: 16, 3: 10, 4: 15, 5: 22, 6: 16, 7: 8},\n",
       " '招聘技能培训（业务部门面试官）': {0: 0, 1: 12, 2: 17, 3: 23, 4: 15, 5: 11, 6: 14, 7: 10},\n",
       " '招聘技能培训（人力招聘经理）': {0: 0, 1: 21, 2: 16, 3: 14, 4: 8, 5: 10, 6: 18, 7: 14},\n",
       " '招聘流程优化和候选人体验提升': {0: 0, 1: 5, 2: 9, 3: 7, 4: 23, 5: 16, 6: 12, 7: 33},\n",
       " '招聘系统建设': {0: 0, 1: 17, 2: 14, 3: 14, 4: 15, 5: 17, 6: 12, 7: 12},\n",
       " '招聘数据分析、报表自动化': {0: 0, 1: 13, 2: 11, 3: 19, 4: 11, 5: 15, 6: 21, 7: 10}}"
      ]
     },
     "execution_count": 287,
     "metadata": {},
     "output_type": "execute_result"
    }
   ],
   "source": [
    "def parse_one_sheet(doc):\n",
    "    count_dict = {}\n",
    "    for i in range(len(doc)):\n",
    "        temp = list(doc.iloc[i])\n",
    "#         print(temp)\n",
    "        for score in range(7, -1, -1):\n",
    "#             print(str(temp[score+2]) + \"BBB\")\n",
    "            if str(temp[score+2]) != 'nan':\n",
    "                if temp[score+2] not in count_dict:\n",
    "                    count_dict[temp[score+2]] = {}\n",
    "                    for score2 in range(0, 8):\n",
    "                        count_dict[temp[score+2]][score2] = 0\n",
    "                    \n",
    "                count_dict[temp[score+2]][score] = count_dict[temp[score+2]][score] + 1\n",
    "    return count_dict\n",
    "        \n",
    "count_dict = parse_one_sheet(doc)\n",
    "count_dict"
   ]
  },
  {
   "cell_type": "code",
   "execution_count": 288,
   "metadata": {},
   "outputs": [
    {
     "data": {
      "text/plain": [
       "(['选项', '平均综合得分', '填写次数', '0', '1', '2', '3', '4', '5', '6', '7'],\n",
       " [0, 1, 2, 3, 4, 5, 6, 7])"
      ]
     },
     "execution_count": 288,
     "metadata": {},
     "output_type": "execute_result"
    }
   ],
   "source": [
    "xls = pd.ExcelFile(\"output.xlsx\")\n",
    "cols = ['选项', '平均综合得分', '填写次数']\n",
    "for i in range(0, 8):\n",
    "    cols.append(str(i))\n",
    "weights = list(range(0, 8))\n",
    "cols, weights"
   ]
  },
  {
   "cell_type": "code",
   "execution_count": 296,
   "metadata": {},
   "outputs": [],
   "source": [
    "for seq in question_seq:\n",
    "    filename = '第%s题' % seq\n",
    "    with pd.ExcelWriter(filename + '（机构）.xlsx') as writer:\n",
    "        df = pd.read_excel(xls, filename)\n",
    "        for part_name in d_label_group:\n",
    "#             print(df['标签'])\n",
    "            part_df = df.loc[df['标签']==part_name]\n",
    "            count_dict = parse_one_sheet(part_df)\n",
    "\n",
    "            sheet_data = []\n",
    "            for k in count_dict.keys():\n",
    "                values = list(count_dict[k].values())\n",
    "                total = sum(values)\n",
    "                avg = np.dot(weights, values) / total\n",
    "                sheet_data.append([k, avg, total] + values)\n",
    "            sheet_df = pd.DataFrame(sheet_data, columns=cols)\n",
    "            sheet_df.to_excel(writer, sheet_name=part_name, index=False)"
   ]
  },
  {
   "cell_type": "code",
   "execution_count": null,
   "metadata": {},
   "outputs": [],
   "source": []
  },
  {
   "cell_type": "code",
   "execution_count": null,
   "metadata": {},
   "outputs": [],
   "source": []
  },
  {
   "cell_type": "code",
   "execution_count": null,
   "metadata": {},
   "outputs": [],
   "source": []
  },
  {
   "cell_type": "code",
   "execution_count": null,
   "metadata": {},
   "outputs": [],
   "source": []
  },
  {
   "cell_type": "code",
   "execution_count": null,
   "metadata": {},
   "outputs": [],
   "source": []
  }
 ],
 "metadata": {
  "kernelspec": {
   "display_name": "Python 3",
   "language": "python",
   "name": "python3"
  },
  "language_info": {
   "codemirror_mode": {
    "name": "ipython",
    "version": 3
   },
   "file_extension": ".py",
   "mimetype": "text/x-python",
   "name": "python",
   "nbconvert_exporter": "python",
   "pygments_lexer": "ipython3",
   "version": "3.7.4"
  }
 },
 "nbformat": 4,
 "nbformat_minor": 2
}
