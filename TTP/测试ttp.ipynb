{
 "cells": [
  {
   "cell_type": "code",
   "execution_count": 1,
   "metadata": {},
   "outputs": [],
   "source": [
    "from ttp import ttp"
   ]
  },
  {
   "cell_type": "code",
   "execution_count": 2,
   "metadata": {},
   "outputs": [],
   "source": [
    "template = \"template.txt\"\n",
    "output_file = \"data.txt\""
   ]
  },
  {
   "cell_type": "code",
   "execution_count": 20,
   "metadata": {},
   "outputs": [
    {
     "name": "stdout",
     "output_type": "stream",
     "text": [
      "[]\n"
     ]
    }
   ],
   "source": [
    "with open(template, 'rb') as f, open(output_file, 'rb') as output:\n",
    "#     res = output.read()\n",
    "#     print(type(res), len(res))\n",
    "#     print(res)\n",
    "    parser = ttp(data=output.read(), template=f.read())\n",
    "    vpn_sessions_results = parser.result(format='json')[0]\n",
    "    print(vpn_sessions_results)"
   ]
  },
  {
   "cell_type": "code",
   "execution_count": 27,
   "metadata": {},
   "outputs": [],
   "source": [
    "data = \"\"\"\n",
    "Connection   : 5.5.5.5\n",
    "Protocol     : IKEv2 IPsec\n",
    "Login Time   : 01:01:01 CDT Sun Sep 27 2020\n",
    "Duration     : 1d 00h:01m:s\n",
    "Connection   : 7.7.7.7\n",
    "Protocol     : IKEv2\n",
    "Login Time   : 00:00:00 CDT Thu Sep 26 2020\n",
    "Duration     : 2d 8h:31m:08s\n",
    "\"\"\""
   ]
  },
  {
   "cell_type": "code",
   "execution_count": 28,
   "metadata": {},
   "outputs": [],
   "source": [
    "template = \"\"\"\n",
    "Connection   : {{remote_ip}}\n",
    "Protocol     : {{protocol | _line_}}\n",
    "Login Time   : {{logintime | _line_}}\n",
    "Duration     : {{duration | _line_}}\n",
    "\"\"\""
   ]
  },
  {
   "cell_type": "code",
   "execution_count": 29,
   "metadata": {},
   "outputs": [
    {
     "name": "stdout",
     "output_type": "stream",
     "text": [
      "[]\n"
     ]
    }
   ],
   "source": [
    "parser = ttp(data=data, template=template)\n",
    "vpn_sessions_results = parser.result(format='json')[0]\n",
    "print(vpn_sessions_results)"
   ]
  },
  {
   "cell_type": "code",
   "execution_count": null,
   "metadata": {},
   "outputs": [],
   "source": []
  }
 ],
 "metadata": {
  "kernelspec": {
   "display_name": "Python 3",
   "language": "python",
   "name": "python3"
  },
  "language_info": {
   "codemirror_mode": {
    "name": "ipython",
    "version": 3
   },
   "file_extension": ".py",
   "mimetype": "text/x-python",
   "name": "python",
   "nbconvert_exporter": "python",
   "pygments_lexer": "ipython3",
   "version": "3.7.4"
  }
 },
 "nbformat": 4,
 "nbformat_minor": 2
}
