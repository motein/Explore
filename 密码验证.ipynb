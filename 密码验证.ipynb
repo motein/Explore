{
 "cells": [
  {
   "cell_type": "markdown",
   "metadata": {},
   "source": [
    "## 参考\n",
    "1. [Encryption and Decryption in Python](https://nitratine.net/blog/post/encryption-and-decryption-in-python/#:~:text=To%20encrypt%20a%20message%2C%20you,encode()%20).&text=The%20variable%20encrypted%20will%20now,URL%20safe%20base64%20encoded%20key.)"
   ]
  },
  {
   "cell_type": "code",
   "execution_count": 1,
   "metadata": {},
   "outputs": [],
   "source": [
    "passwd1 = b'\\r\\nqGSIb3DQEBCwUAMHgxCzAJBgNV\\r\\nBAYTAkNODVQQHDAhDaGFveWFuZzEbMBkG\\r\\n'\n",
    "passwd2 = b'motein@XA'"
   ]
  },
  {
   "cell_type": "code",
   "execution_count": 4,
   "metadata": {},
   "outputs": [],
   "source": [
    "def concatenate_pw(passwd1, passwd2, separator=b'0x00'):\n",
    "    conc = passwd1 + separator + passwd2\n",
    "    return conc"
   ]
  },
  {
   "cell_type": "code",
   "execution_count": 7,
   "metadata": {},
   "outputs": [
    {
     "data": {
      "text/plain": [
       "b'\\r\\nqGSIb3DQEBCwUAMHgxCzAJBgNV\\r\\nBAYTAkNODVQQHDAhDaGFveWFuZzEbMBkG\\r\\n0x00motein@XA'"
      ]
     },
     "execution_count": 7,
     "metadata": {},
     "output_type": "execute_result"
    }
   ],
   "source": [
    "c = concatenate_pw(passwd1, passwd2)\n",
    "c"
   ]
  },
  {
   "cell_type": "code",
   "execution_count": 10,
   "metadata": {},
   "outputs": [],
   "source": [
    "with open(r\"system\", \"wb\") as f:\n",
    "    f.write(c)"
   ]
  },
  {
   "cell_type": "code",
   "execution_count": 11,
   "metadata": {},
   "outputs": [
    {
     "name": "stdout",
     "output_type": "stream",
     "text": [
      "b'\\r\\nqGSIb3DQEBCwUAMHgxCzAJBgNV\\r\\nBAYTAkNODVQQHDAhDaGFveWFuZzEbMBkG\\r\\n0x00motein@XA'\n"
     ]
    }
   ],
   "source": [
    "with open(r\"system\", \"rb\") as f:\n",
    "    content = f.read()\n",
    "    print(content)"
   ]
  },
  {
   "cell_type": "code",
   "execution_count": 12,
   "metadata": {},
   "outputs": [
    {
     "data": {
      "text/plain": [
       "[b'\\r\\nqGSIb3DQEBCwUAMHgxCzAJBgNV\\r\\nBAYTAkNODVQQHDAhDaGFveWFuZzEbMBkG\\r\\n',\n",
       " b'motein@XA']"
      ]
     },
     "execution_count": 12,
     "metadata": {},
     "output_type": "execute_result"
    }
   ],
   "source": [
    "content.split(b'0x00')"
   ]
  },
  {
   "cell_type": "code",
   "execution_count": 13,
   "metadata": {},
   "outputs": [],
   "source": [
    "import base64"
   ]
  },
  {
   "cell_type": "code",
   "execution_count": 16,
   "metadata": {},
   "outputs": [
    {
     "data": {
      "text/plain": [
       "b'DQpxR1NJYjNEUUVCQ3dVQU1IZ3hDekFKQmdOVg0KQkFZVEFrTk9EVlFRSERBaERhR0Z2ZVdGdVp6RWJNQmtHDQoweDAwbW90ZWluQFhB'"
      ]
     },
     "execution_count": 16,
     "metadata": {},
     "output_type": "execute_result"
    }
   ],
   "source": [
    "s = base64.b64encode(content)\n",
    "s"
   ]
  },
  {
   "cell_type": "code",
   "execution_count": 18,
   "metadata": {},
   "outputs": [
    {
     "data": {
      "text/plain": [
       "'DQpxR1NJYjNEUUVCQ3dVQU1IZ3hDekFKQmdOVg0KQkFZVEFrTk9EVlFRSERBaERhR0Z2ZVdGdVp6RWJNQmtHDQoweDAwbW90ZWluQFhB'"
      ]
     },
     "execution_count": 18,
     "metadata": {},
     "output_type": "execute_result"
    }
   ],
   "source": [
    "s.decode(\"ascii\")"
   ]
  },
  {
   "cell_type": "code",
   "execution_count": 20,
   "metadata": {},
   "outputs": [
    {
     "data": {
      "text/plain": [
       "b'H3Q5kh5pRWmzkifQOylv2EibN9x62RkZJqNt7l7si3A='"
      ]
     },
     "execution_count": 20,
     "metadata": {},
     "output_type": "execute_result"
    }
   ],
   "source": [
    "from cryptography.fernet import Fernet\n",
    "key = Fernet.generate_key()\n",
    "key"
   ]
  },
  {
   "cell_type": "code",
   "execution_count": 21,
   "metadata": {},
   "outputs": [
    {
     "ename": "AttributeError",
     "evalue": "'bytes' object has no attribute 'encode'",
     "output_type": "error",
     "traceback": [
      "\u001b[1;31m---------------------------------------------------------------------------\u001b[0m",
      "\u001b[1;31mAttributeError\u001b[0m                            Traceback (most recent call last)",
      "\u001b[1;32m<ipython-input-21-d674f0d286e8>\u001b[0m in \u001b[0;36m<module>\u001b[1;34m\u001b[0m\n\u001b[1;32m----> 1\u001b[1;33m \u001b[0mkey\u001b[0m\u001b[1;33m.\u001b[0m\u001b[0mencode\u001b[0m\u001b[1;33m(\u001b[0m\u001b[1;33m)\u001b[0m\u001b[1;33m\u001b[0m\u001b[1;33m\u001b[0m\u001b[0m\n\u001b[0m",
      "\u001b[1;31mAttributeError\u001b[0m: 'bytes' object has no attribute 'encode'"
     ]
    }
   ],
   "source": [
    "Fernet"
   ]
  },
  {
   "cell_type": "code",
   "execution_count": null,
   "metadata": {},
   "outputs": [],
   "source": []
  }
 ],
 "metadata": {
  "kernelspec": {
   "display_name": "Python 3",
   "language": "python",
   "name": "python3"
  },
  "language_info": {
   "codemirror_mode": {
    "name": "ipython",
    "version": 3
   },
   "file_extension": ".py",
   "mimetype": "text/x-python",
   "name": "python",
   "nbconvert_exporter": "python",
   "pygments_lexer": "ipython3",
   "version": "3.7.4"
  }
 },
 "nbformat": 4,
 "nbformat_minor": 2
}
