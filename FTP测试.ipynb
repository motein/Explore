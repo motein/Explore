{
 "cells": [
  {
   "cell_type": "code",
   "execution_count": 78,
   "metadata": {},
   "outputs": [],
   "source": [
    "from ftplib import FTP"
   ]
  },
  {
   "cell_type": "code",
   "execution_count": 96,
   "metadata": {},
   "outputs": [],
   "source": [
    "ftp = FTP('10.66.2.55')"
   ]
  },
  {
   "cell_type": "code",
   "execution_count": 97,
   "metadata": {},
   "outputs": [
    {
     "data": {
      "text/plain": [
       "'230 User logged in.'"
      ]
     },
     "execution_count": 97,
     "metadata": {},
     "output_type": "execute_result"
    }
   ],
   "source": [
    "ftp.login()"
   ]
  },
  {
   "cell_type": "code",
   "execution_count": 98,
   "metadata": {},
   "outputs": [
    {
     "name": "stdout",
     "output_type": "stream",
     "text": [
      "03-02-21  02:34PM       <DIR>          RDT\n"
     ]
    }
   ],
   "source": [
    "ftp.dir()"
   ]
  },
  {
   "cell_type": "code",
   "execution_count": 99,
   "metadata": {},
   "outputs": [
    {
     "data": {
      "text/plain": [
       "'250 CWD command successful.'"
      ]
     },
     "execution_count": 99,
     "metadata": {},
     "output_type": "execute_result"
    }
   ],
   "source": [
    "ftp.cwd('PPT')"
   ]
  },
  {
   "cell_type": "code",
   "execution_count": 100,
   "metadata": {},
   "outputs": [
    {
     "name": "stdout",
     "output_type": "stream",
     "text": [
      "04-13-21  03:45PM       <DIR>          DIAG\n",
      "04-13-21  03:27PM       <DIR>          Log\n",
      "03-29-21  11:05AM              3132271 PrototypeGUI_20210326.pptx\n",
      "03-23-21  04:11PM              2281757 Salt Prototype Design.pptx\n",
      "02-24-21  03:09PM              1943898 Salt ¨C test health monitor on the edge.pptx\n",
      "04-13-21  05:33PM             11334994 Salt_Demo_Plan.pptx\n",
      "04-13-21  03:56PM             28239704 service guide.pdf\n",
      "04-08-21  05:02PM              7115017 SimulatedData_20210401.pptx\n",
      "04-13-21  11:17AM              5984982 The art of comparison _ quality management.pptx\n",
      "04-09-21  03:05PM              1985331 Update.pptx\n"
     ]
    }
   ],
   "source": [
    "ftp.dir()"
   ]
  },
  {
   "cell_type": "code",
   "execution_count": 101,
   "metadata": {},
   "outputs": [
    {
     "name": "stdout",
     "output_type": "stream",
     "text": [
      "04-13-21  03:45PM       <DIR>          DIAG\n",
      "04-13-21  03:27PM       <DIR>          Log\n",
      "03-29-21  11:05AM              3132271 PrototypeGUI_20210326.pptx\n",
      "03-23-21  04:11PM              2281757 Salt Prototype Design.pptx\n",
      "02-24-21  03:09PM              1943898 Salt ¨C test health monitor on the edge.pptx\n",
      "04-13-21  05:33PM             11334994 Salt_Demo_Plan.pptx\n",
      "04-13-21  03:56PM             28239704 service guide.pdf\n",
      "04-08-21  05:02PM              7115017 SimulatedData_20210401.pptx\n",
      "04-13-21  11:17AM              5984982 The art of comparison _ quality management.pptx\n",
      "04-09-21  03:05PM              1985331 Update.pptx\n"
     ]
    },
    {
     "data": {
      "text/plain": [
       "'226 Transfer complete.'"
      ]
     },
     "execution_count": 101,
     "metadata": {},
     "output_type": "execute_result"
    }
   ],
   "source": [
    "ftp.retrlines('LIST')"
   ]
  },
  {
   "cell_type": "code",
   "execution_count": 103,
   "metadata": {},
   "outputs": [
    {
     "data": {
      "text/plain": [
       "'226 Transfer complete.'"
      ]
     },
     "execution_count": 103,
     "metadata": {},
     "output_type": "execute_result"
    }
   ],
   "source": [
    "lines = []\n",
    "ftp.retrlines('LIST', lines.append)"
   ]
  },
  {
   "cell_type": "code",
   "execution_count": 104,
   "metadata": {},
   "outputs": [
    {
     "data": {
      "text/plain": [
       "['04-13-21  03:45PM       <DIR>          DIAG',\n",
       " '04-13-21  03:27PM       <DIR>          Log',\n",
       " '03-29-21  11:05AM              3132271 PrototypeGUI_20210326.pptx',\n",
       " '03-23-21  04:11PM              2281757 Salt Prototype Design.pptx',\n",
       " '02-24-21  03:09PM              1943898 Salt ¨C test health monitor on the edge.pptx',\n",
       " '04-13-21  05:33PM             11334994 Salt_Demo_Plan.pptx',\n",
       " '04-13-21  03:56PM             28239704 service guide.pdf',\n",
       " '04-08-21  05:02PM              7115017 SimulatedData_20210401.pptx',\n",
       " '04-13-21  11:17AM              5984982 The art of comparison _ quality management.pptx',\n",
       " '04-09-21  03:05PM              1985331 Update.pptx']"
      ]
     },
     "execution_count": 104,
     "metadata": {},
     "output_type": "execute_result"
    }
   ],
   "source": [
    "lines"
   ]
  },
  {
   "cell_type": "code",
   "execution_count": 105,
   "metadata": {},
   "outputs": [
    {
     "data": {
      "text/plain": [
       "'221 Goodbye.'"
      ]
     },
     "execution_count": 105,
     "metadata": {},
     "output_type": "execute_result"
    }
   ],
   "source": [
    "ftp.quit()"
   ]
  },
  {
   "cell_type": "code",
   "execution_count": null,
   "metadata": {},
   "outputs": [],
   "source": []
  }
 ],
 "metadata": {
  "kernelspec": {
   "display_name": "Python 3",
   "language": "python",
   "name": "python3"
  },
  "language_info": {
   "codemirror_mode": {
    "name": "ipython",
    "version": 3
   },
   "file_extension": ".py",
   "mimetype": "text/x-python",
   "name": "python",
   "nbconvert_exporter": "python",
   "pygments_lexer": "ipython3",
   "version": "3.7.4"
  }
 },
 "nbformat": 4,
 "nbformat_minor": 2
}
