{
 "cells": [
  {
   "cell_type": "code",
   "execution_count": 37,
   "metadata": {},
   "outputs": [],
   "source": [
    "from ftplib import FTP"
   ]
  },
  {
   "cell_type": "code",
   "execution_count": 38,
   "metadata": {},
   "outputs": [],
   "source": [
    "# ftp = FTP('10.66.2.55')\n",
    "ftp = FTP('10.0.2.15')"
   ]
  },
  {
   "cell_type": "code",
   "execution_count": 39,
   "metadata": {},
   "outputs": [
    {
     "data": {
      "text/plain": [
       "'230 Login successful.'"
      ]
     },
     "execution_count": 39,
     "metadata": {},
     "output_type": "execute_result"
    }
   ],
   "source": [
    "ftp.login()"
   ]
  },
  {
   "cell_type": "code",
   "execution_count": 41,
   "metadata": {},
   "outputs": [
    {
     "data": {
      "text/plain": [
       "'/'"
      ]
     },
     "execution_count": 41,
     "metadata": {},
     "output_type": "execute_result"
    }
   ],
   "source": [
    "ftp.pwd()"
   ]
  },
  {
   "cell_type": "code",
   "execution_count": 42,
   "metadata": {},
   "outputs": [
    {
     "name": "stdout",
     "output_type": "stream",
     "text": [
      "drwxrwxr-x    2 1000     1000         4096 Mar 05 13:52 convert\n",
      "drwxrwxr-x    9 1000     1000         4096 Nov 28 00:05 etc\n",
      "drwxr-xr-x   35 1000     1000        61440 Nov 28 00:05 include\n",
      "drwxr-xr-x    6 0        0            4096 Mar 03 17:09 opt\n",
      "drwxrwxr-x    2 1000     1000         4096 Feb 03 23:50 raw\n",
      "drwxrwxr-x    2 1000     1000         4096 Feb 03 23:23 result\n"
     ]
    }
   ],
   "source": [
    "ftp.dir()"
   ]
  },
  {
   "cell_type": "code",
   "execution_count": 43,
   "metadata": {},
   "outputs": [
    {
     "data": {
      "text/plain": [
       "'250 Directory successfully changed.'"
      ]
     },
     "execution_count": 43,
     "metadata": {},
     "output_type": "execute_result"
    }
   ],
   "source": [
    "# ftp.cwd(\"PPT\") # For Windows\n",
    "ftp.cwd(\"opt\") # For Linux"
   ]
  },
  {
   "cell_type": "code",
   "execution_count": 44,
   "metadata": {},
   "outputs": [
    {
     "name": "stdout",
     "output_type": "stream",
     "text": [
      "drwxr-xr-x    8 0        0            4096 Mar 03 17:10 VBoxGuestAdditions-6.1.18\n",
      "drwx--x--x    4 0        0            4096 Jan 12 14:27 containerd\n",
      "drwxr-xr-x   17 1000     1000         4096 Nov 28 00:05 root\n",
      "drwxr-xr-x    9 1000     1000         4096 Dec 17 22:10 smartgit\n"
     ]
    }
   ],
   "source": [
    "ftp.dir()"
   ]
  },
  {
   "cell_type": "code",
   "execution_count": 45,
   "metadata": {},
   "outputs": [
    {
     "name": "stdout",
     "output_type": "stream",
     "text": [
      "drwxr-xr-x    8 0        0            4096 Mar 03 17:10 VBoxGuestAdditions-6.1.18\n",
      "drwx--x--x    4 0        0            4096 Jan 12 14:27 containerd\n",
      "drwxr-xr-x   17 1000     1000         4096 Nov 28 00:05 root\n",
      "drwxr-xr-x    9 1000     1000         4096 Dec 17 22:10 smartgit\n"
     ]
    },
    {
     "data": {
      "text/plain": [
       "'226 Directory send OK.'"
      ]
     },
     "execution_count": 45,
     "metadata": {},
     "output_type": "execute_result"
    }
   ],
   "source": [
    "ftp.retrlines('LIST')"
   ]
  },
  {
   "cell_type": "code",
   "execution_count": 46,
   "metadata": {},
   "outputs": [
    {
     "data": {
      "text/plain": [
       "'226 Directory send OK.'"
      ]
     },
     "execution_count": 46,
     "metadata": {},
     "output_type": "execute_result"
    }
   ],
   "source": [
    "lines = []\n",
    "ftp.retrlines('LIST', lines.append)"
   ]
  },
  {
   "cell_type": "code",
   "execution_count": 47,
   "metadata": {},
   "outputs": [
    {
     "data": {
      "text/plain": [
       "['drwxr-xr-x    8 0        0            4096 Mar 03 17:10 VBoxGuestAdditions-6.1.18',\n",
       " 'drwx--x--x    4 0        0            4096 Jan 12 14:27 containerd',\n",
       " 'drwxr-xr-x   17 1000     1000         4096 Nov 28 00:05 root',\n",
       " 'drwxr-xr-x    9 1000     1000         4096 Dec 17 22:10 smartgit']"
      ]
     },
     "execution_count": 47,
     "metadata": {},
     "output_type": "execute_result"
    }
   ],
   "source": [
    "lines"
   ]
  },
  {
   "cell_type": "code",
   "execution_count": 48,
   "metadata": {},
   "outputs": [
    {
     "data": {
      "text/plain": [
       "'221 Goodbye.'"
      ]
     },
     "execution_count": 48,
     "metadata": {},
     "output_type": "execute_result"
    }
   ],
   "source": [
    "ftp.quit()"
   ]
  },
  {
   "cell_type": "code",
   "execution_count": null,
   "metadata": {},
   "outputs": [],
   "source": []
  }
 ],
 "metadata": {
  "kernelspec": {
   "display_name": "Python 3",
   "language": "python",
   "name": "python3"
  },
  "language_info": {
   "codemirror_mode": {
    "name": "ipython",
    "version": 3
   },
   "file_extension": ".py",
   "mimetype": "text/x-python",
   "name": "python",
   "nbconvert_exporter": "python",
   "pygments_lexer": "ipython3",
   "version": "3.8.5"
  }
 },
 "nbformat": 4,
 "nbformat_minor": 2
}
