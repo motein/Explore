{
 "cells": [
  {
   "cell_type": "code",
   "execution_count": 34,
   "metadata": {},
   "outputs": [],
   "source": [
    "import pandas as pd\n",
    "import numpy as np\n",
    "from scipy import stats\n",
    "import scipy.optimize as optimize\n",
    "from scipy.stats import genpareto, norm, uniform\n",
    "from skgof import ks_test, cvm_test, ad_test\n",
    "import matplotlib.pyplot as plt"
   ]
  },
  {
   "cell_type": "code",
   "execution_count": 2,
   "metadata": {},
   "outputs": [],
   "source": [
    "data = np.array([1.7, 2.2, 14.4, 1.1, 0.4, 20.6, 5.3, 0.7, 1.9,\n",
    "13, 12, 9.3, 1.4, 18.7, 8.5, 25.5, 11.6, 14.1, 22.1, 1.1, 2.5, 14.4,\n",
    "1.7, 37.6, 0.6, 2.2, 39, 0.3, 15, 11, 7.3, 22.9, 1.7, 0.1, 1.1, 0.6,\n",
    "9, 1.7, 7, 20.1, 0.4, 2.8, 14.1, 9.9, 10.4, 10.7, 30, 3.6, 5.6,\n",
    "30.8, 13.3, 4.2, 25.5, 3.4, 11.9, 21.5, 27.6, 36.4, 2.7, 64, 1.5,\n",
    "2.5, 27.4, 1, 27.1, 20.2, 16.8, 5.3, 9.7, 27.5, 2.5, 27])"
   ]
  },
  {
   "cell_type": "code",
   "execution_count": 3,
   "metadata": {},
   "outputs": [],
   "source": [
    "def opt_function_gpd(theta0, data):\n",
    "    N = len(data)\n",
    "    s1 = np.sum(np.log(1-theta0*data))\n",
    "    s2 = N*np.log(-1/(N*theta0) * s1)\n",
    "#     print('s2', s2)\n",
    "    return N + s1 + s2\n",
    "\n",
    "def get_k_alpha(theta, data):\n",
    "    N = len(data)\n",
    "    s = np.sum(np.log(1-theta*data))\n",
    "    k = -1/N * s\n",
    "    alpha = k/theta\n",
    "    return k, alpha"
   ]
  },
  {
   "cell_type": "code",
   "execution_count": 4,
   "metadata": {},
   "outputs": [
    {
     "name": "stdout",
     "output_type": "stream",
     "text": [
      "Optimization terminated successfully.\n",
      "         Current function value: 252.127954\n",
      "         Iterations: 11\n",
      "         Function evaluations: 23\n"
     ]
    },
    {
     "data": {
      "text/plain": [
       "array([-7.64257812e-05])"
      ]
     },
     "execution_count": 4,
     "metadata": {},
     "output_type": "execute_result"
    }
   ],
   "source": [
    "res = optimize.minimize(opt_function_gpd, -0.00007, args=(data), method='Nelder-Mead', tol=1e-8, options={'disp':True})\n",
    "res.x"
   ]
  },
  {
   "cell_type": "code",
   "execution_count": 5,
   "metadata": {},
   "outputs": [
    {
     "name": "stderr",
     "output_type": "stream",
     "text": [
      "C:\\Anaconda3\\lib\\site-packages\\scipy\\stats\\_continuous_distns.py:2282: RuntimeWarning: divide by zero encountered in true_divide\n",
      "  val = val + cnk * (-1) ** ki / (1.0 - c * ki)\n",
      "C:\\Anaconda3\\lib\\site-packages\\scipy\\stats\\_distn_infrastructure.py:1059: RuntimeWarning: invalid value encountered in subtract\n",
      "  mu2 = mu2p - mu * mu\n",
      "C:\\Anaconda3\\lib\\site-packages\\scipy\\stats\\_distn_infrastructure.py:2381: RuntimeWarning: invalid value encountered in double_scalars\n",
      "  Lhat = muhat - Shat*mu\n"
     ]
    },
    {
     "data": {
      "text/plain": [
       "(0.00093171044399552, 0, 12.192762604144477)"
      ]
     },
     "execution_count": 5,
     "metadata": {},
     "output_type": "execute_result"
    }
   ],
   "source": [
    "genpareto.fit(data, floc=0)"
   ]
  },
  {
   "cell_type": "code",
   "execution_count": 6,
   "metadata": {},
   "outputs": [
    {
     "data": {
      "text/plain": [
       "(-0.0009318439724662177, 12.19279616413758)"
      ]
     },
     "execution_count": 6,
     "metadata": {},
     "output_type": "execute_result"
    }
   ],
   "source": [
    "get_k_alpha(res.x[0], data)"
   ]
  },
  {
   "cell_type": "code",
   "execution_count": 7,
   "metadata": {},
   "outputs": [],
   "source": [
    "def get_A2(data, k, alpha):\n",
    "    N = len(data)\n",
    "    s = 0\n",
    "    for i in range(1, N+1):\n",
    "        s = s + (2*i-1)*(np.log(genpareto.cdf(data[i-1], k, 0, alpha)) + np.log(1-genpareto.cdf(data[N-i], k, 0, alpha)))\n",
    "    s = -1/N*s - N\n",
    "    return s\n",
    "\n",
    "def get_W2(data, k, alpha):\n",
    "    N = len(data)\n",
    "    s = 1/(12*N)\n",
    "    for i in range(1, N+1):\n",
    "        s = s + (genpareto.cdf(data[i-1], k, 0, alpha) - (2*i-1)/(2*N))**2\n",
    "    \n",
    "    return s"
   ]
  },
  {
   "cell_type": "code",
   "execution_count": 8,
   "metadata": {},
   "outputs": [
    {
     "data": {
      "text/plain": [
       "(0.23322760298404213, 1.467144830583237)"
      ]
     },
     "execution_count": 8,
     "metadata": {},
     "output_type": "execute_result"
    }
   ],
   "source": [
    "get_W2(sorted(data), -0.006, 12.14), get_A2(sorted(data), -0.006, 12.14)"
   ]
  },
  {
   "cell_type": "code",
   "execution_count": 20,
   "metadata": {},
   "outputs": [
    {
     "data": {
      "text/plain": [
       "(0.2303640036495989, 1.4560321678490453)"
      ]
     },
     "execution_count": 20,
     "metadata": {},
     "output_type": "execute_result"
    }
   ],
   "source": [
    "w2, a2 = get_W2(sorted(data), 0.00093171044399552, 12.192762604144477), get_A2(sorted(data), 0.00093171044399552, 12.192762604144477)\n",
    "w2, a2"
   ]
  },
  {
   "cell_type": "code",
   "execution_count": 10,
   "metadata": {},
   "outputs": [],
   "source": [
    "def F_func(x, k, alpha):\n",
    "    return 1 - (1-k*x/alpha)**(1/k)"
   ]
  },
  {
   "cell_type": "code",
   "execution_count": 11,
   "metadata": {},
   "outputs": [],
   "source": [
    "def get_Z(data, k, alpha):\n",
    "    res = []\n",
    "    for x in data:\n",
    "#         res.append(genpareto.cdf(x, k, 0, alpha))\n",
    "        res.append(F_func(x, k, alpha))\n",
    "    return np.array(res)"
   ]
  },
  {
   "cell_type": "code",
   "execution_count": 12,
   "metadata": {},
   "outputs": [
    {
     "data": {
      "text/plain": [
       "array([0.00816808, 0.02430481, 0.03227454, 0.03227454, 0.04801942,\n",
       "       0.04801942, 0.05579563, 0.07874555, 0.086271  , 0.086271  ,\n",
       "       0.086271  , 0.10848085, 0.11576362, 0.13015134, 0.13015134,\n",
       "       0.13015134, 0.13015134, 0.14430516, 0.16510564, 0.16510564,\n",
       "       0.18540095, 0.18540095, 0.18540095, 0.19865658, 0.20520336,\n",
       "       0.24337701, 0.25569006, 0.29144099, 0.35258783, 0.35258783,\n",
       "       0.36832936, 0.43688121, 0.45057494, 0.50210266, 0.52212054,\n",
       "       0.5337432 , 0.54880195, 0.55614812, 0.57399497, 0.58435708,\n",
       "       0.59446736, 0.61395679, 0.62334772, 0.62642703, 0.65587015,\n",
       "       0.66424237, 0.68558678, 0.68558678, 0.69323667, 0.69323667,\n",
       "       0.7079831 , 0.74810722, 0.78449983, 0.80790904, 0.80948045,\n",
       "       0.81563873, 0.82877748, 0.83701268, 0.84738068, 0.87673822,\n",
       "       0.87673822, 0.89103363, 0.89192551, 0.89455762, 0.89542068,\n",
       "       0.89627669, 0.91484657, 0.92026655, 0.94968929, 0.95441768,\n",
       "       0.95937593, 0.99481452])"
      ]
     },
     "execution_count": 12,
     "metadata": {},
     "output_type": "execute_result"
    }
   ],
   "source": [
    "Z = get_Z(sorted(data), 0.00093171044399552, 12.192762604144477)\n",
    "# Z = get_Z(sorted(data), 0.006, 12.14)\n",
    "Z"
   ]
  },
  {
   "cell_type": "code",
   "execution_count": 106,
   "metadata": {},
   "outputs": [
    {
     "data": {
      "text/plain": [
       "GofResult(statistic=0.23101743473906552, pvalue=0.21478804492050874)"
      ]
     },
     "execution_count": 106,
     "metadata": {},
     "output_type": "execute_result"
    }
   ],
   "source": [
    "cvm_test(Z, uniform(0, 1))"
   ]
  },
  {
   "cell_type": "code",
   "execution_count": 107,
   "metadata": {},
   "outputs": [
    {
     "data": {
      "text/plain": [
       "GofResult(statistic=1.4595058932866891, pvalue=0.18647052176387946)"
      ]
     },
     "execution_count": 107,
     "metadata": {},
     "output_type": "execute_result"
    }
   ],
   "source": [
    "ad_test(Z, uniform(0.0, 1.0))"
   ]
  },
  {
   "cell_type": "code",
   "execution_count": 98,
   "metadata": {},
   "outputs": [
    {
     "data": {
      "text/plain": [
       "KstestResult(statistic=0.14205791265082257, pvalue=0.09905351528254956)"
      ]
     },
     "execution_count": 98,
     "metadata": {},
     "output_type": "execute_result"
    }
   ],
   "source": [
    "stats.kstest(Z, stats.uniform(loc=0.0, scale=1.0).cdf)"
   ]
  },
  {
   "cell_type": "code",
   "execution_count": 54,
   "metadata": {},
   "outputs": [
    {
     "data": {
      "text/plain": [
       "72"
      ]
     },
     "execution_count": 54,
     "metadata": {},
     "output_type": "execute_result"
    }
   ],
   "source": [
    "len(data)"
   ]
  },
  {
   "cell_type": "code",
   "execution_count": 68,
   "metadata": {},
   "outputs": [
    {
     "data": {
      "text/plain": [
       "GofResult(statistic=0.65, pvalue=0.03521250000000009)"
      ]
     },
     "execution_count": 68,
     "metadata": {},
     "output_type": "execute_result"
    }
   ],
   "source": [
    " ks_test((0.1, 0.9, 0.1, 0.1), uniform(0, 1))"
   ]
  },
  {
   "cell_type": "code",
   "execution_count": 16,
   "metadata": {},
   "outputs": [
    {
     "data": {
      "text/plain": [
       "61.24555320336755"
      ]
     },
     "execution_count": 16,
     "metadata": {},
     "output_type": "execute_result"
    }
   ],
   "source": [
    "genpareto.sf(0.999, 0.5)"
   ]
  },
  {
   "cell_type": "code",
   "execution_count": 46,
   "metadata": {},
   "outputs": [
    {
     "data": {
      "text/html": [
       "<div>\n",
       "<style scoped>\n",
       "    .dataframe tbody tr th:only-of-type {\n",
       "        vertical-align: middle;\n",
       "    }\n",
       "\n",
       "    .dataframe tbody tr th {\n",
       "        vertical-align: top;\n",
       "    }\n",
       "\n",
       "    .dataframe thead th {\n",
       "        text-align: right;\n",
       "    }\n",
       "</style>\n",
       "<table border=\"1\" class=\"dataframe\">\n",
       "  <thead>\n",
       "    <tr style=\"text-align: right;\">\n",
       "      <th></th>\n",
       "      <th>p/a</th>\n",
       "      <th>0.5</th>\n",
       "      <th>0.25</th>\n",
       "      <th>0.1</th>\n",
       "      <th>0.05</th>\n",
       "      <th>0.025</th>\n",
       "      <th>0.01</th>\n",
       "      <th>0.005</th>\n",
       "      <th>0.001</th>\n",
       "    </tr>\n",
       "  </thead>\n",
       "  <tbody>\n",
       "    <tr>\n",
       "      <th>0</th>\n",
       "      <td>-0.9</td>\n",
       "      <td>0.046</td>\n",
       "      <td>0.067</td>\n",
       "      <td>0.094</td>\n",
       "      <td>0.115</td>\n",
       "      <td>0.136</td>\n",
       "      <td>0.165</td>\n",
       "      <td>0.187</td>\n",
       "      <td>0.239</td>\n",
       "    </tr>\n",
       "    <tr>\n",
       "      <th>1</th>\n",
       "      <td>-0.5</td>\n",
       "      <td>0.049</td>\n",
       "      <td>0.072</td>\n",
       "      <td>0.101</td>\n",
       "      <td>0.124</td>\n",
       "      <td>0.147</td>\n",
       "      <td>0.179</td>\n",
       "      <td>0.204</td>\n",
       "      <td>0.264</td>\n",
       "    </tr>\n",
       "    <tr>\n",
       "      <th>2</th>\n",
       "      <td>-0.2</td>\n",
       "      <td>0.053</td>\n",
       "      <td>0.078</td>\n",
       "      <td>0.111</td>\n",
       "      <td>0.137</td>\n",
       "      <td>0.164</td>\n",
       "      <td>0.200</td>\n",
       "      <td>0.228</td>\n",
       "      <td>0.294</td>\n",
       "    </tr>\n",
       "    <tr>\n",
       "      <th>3</th>\n",
       "      <td>-0.1</td>\n",
       "      <td>0.055</td>\n",
       "      <td>0.081</td>\n",
       "      <td>0.116</td>\n",
       "      <td>0.144</td>\n",
       "      <td>0.172</td>\n",
       "      <td>0.210</td>\n",
       "      <td>0.240</td>\n",
       "      <td>0.310</td>\n",
       "    </tr>\n",
       "    <tr>\n",
       "      <th>4</th>\n",
       "      <td>0.0</td>\n",
       "      <td>0.057</td>\n",
       "      <td>0.086</td>\n",
       "      <td>0.124</td>\n",
       "      <td>0.153</td>\n",
       "      <td>0.183</td>\n",
       "      <td>0.224</td>\n",
       "      <td>0.255</td>\n",
       "      <td>0.330</td>\n",
       "    </tr>\n",
       "    <tr>\n",
       "      <th>5</th>\n",
       "      <td>0.1</td>\n",
       "      <td>0.059</td>\n",
       "      <td>0.089</td>\n",
       "      <td>0.129</td>\n",
       "      <td>0.160</td>\n",
       "      <td>0.192</td>\n",
       "      <td>0.236</td>\n",
       "      <td>0.270</td>\n",
       "      <td>0.351</td>\n",
       "    </tr>\n",
       "    <tr>\n",
       "      <th>6</th>\n",
       "      <td>0.2</td>\n",
       "      <td>0.062</td>\n",
       "      <td>0.094</td>\n",
       "      <td>0.137</td>\n",
       "      <td>0.171</td>\n",
       "      <td>0.206</td>\n",
       "      <td>0.254</td>\n",
       "      <td>0.291</td>\n",
       "      <td>0.380</td>\n",
       "    </tr>\n",
       "    <tr>\n",
       "      <th>7</th>\n",
       "      <td>0.3</td>\n",
       "      <td>0.065</td>\n",
       "      <td>0.100</td>\n",
       "      <td>0.147</td>\n",
       "      <td>0.184</td>\n",
       "      <td>0.223</td>\n",
       "      <td>0.276</td>\n",
       "      <td>0.317</td>\n",
       "      <td>0.415</td>\n",
       "    </tr>\n",
       "    <tr>\n",
       "      <th>8</th>\n",
       "      <td>0.4</td>\n",
       "      <td>0.069</td>\n",
       "      <td>0.107</td>\n",
       "      <td>0.159</td>\n",
       "      <td>0.201</td>\n",
       "      <td>0.244</td>\n",
       "      <td>0.303</td>\n",
       "      <td>0.349</td>\n",
       "      <td>0.458</td>\n",
       "    </tr>\n",
       "    <tr>\n",
       "      <th>9</th>\n",
       "      <td>0.5</td>\n",
       "      <td>0.074</td>\n",
       "      <td>0.116</td>\n",
       "      <td>0.174</td>\n",
       "      <td>0.222</td>\n",
       "      <td>0.271</td>\n",
       "      <td>0.338</td>\n",
       "      <td>0.390</td>\n",
       "      <td>0.513</td>\n",
       "    </tr>\n",
       "  </tbody>\n",
       "</table>\n",
       "</div>"
      ],
      "text/plain": [
       "   p/a    0.5   0.25    0.1   0.05  0.025   0.01  0.005  0.001\n",
       "0 -0.9  0.046  0.067  0.094  0.115  0.136  0.165  0.187  0.239\n",
       "1 -0.5  0.049  0.072  0.101  0.124  0.147  0.179  0.204  0.264\n",
       "2 -0.2  0.053  0.078  0.111  0.137  0.164  0.200  0.228  0.294\n",
       "3 -0.1  0.055  0.081  0.116  0.144  0.172  0.210  0.240  0.310\n",
       "4  0.0  0.057  0.086  0.124  0.153  0.183  0.224  0.255  0.330\n",
       "5  0.1  0.059  0.089  0.129  0.160  0.192  0.236  0.270  0.351\n",
       "6  0.2  0.062  0.094  0.137  0.171  0.206  0.254  0.291  0.380\n",
       "7  0.3  0.065  0.100  0.147  0.184  0.223  0.276  0.317  0.415\n",
       "8  0.4  0.069  0.107  0.159  0.201  0.244  0.303  0.349  0.458\n",
       "9  0.5  0.074  0.116  0.174  0.222  0.271  0.338  0.390  0.513"
      ]
     },
     "execution_count": 46,
     "metadata": {},
     "output_type": "execute_result"
    }
   ],
   "source": [
    "doc = pd.read_csv('W2.csv')\n",
    "doc"
   ]
  },
  {
   "cell_type": "code",
   "execution_count": 47,
   "metadata": {},
   "outputs": [
    {
     "data": {
      "text/plain": [
       "[0.046, 0.067, 0.094, 0.115, 0.136, 0.165, 0.187, 0.239]"
      ]
     },
     "execution_count": 47,
     "metadata": {},
     "output_type": "execute_result"
    }
   ],
   "source": [
    "d1 = doc.loc[0].tolist()[1:]\n",
    "Y = [0.5,0.25,0.1,0.05,0.025,0.01,0.005,0.001]\n",
    "d1"
   ]
  },
  {
   "cell_type": "code",
   "execution_count": 62,
   "metadata": {},
   "outputs": [
    {
     "data": {
      "text/plain": [
       "[<matplotlib.lines.Line2D at 0x2605df148c8>]"
      ]
     },
     "execution_count": 62,
     "metadata": {},
     "output_type": "execute_result"
    },
    {
     "data": {
      "image/png": "[encoded data removed]",
      "text/plain": [
       "<Figure size 432x288 with 1 Axes>"
      ]
     },
     "metadata": {
      "needs_background": "light"
     },
     "output_type": "display_data"
    }
   ],
   "source": [
    "plt.xlim(0.25,0.03)\n",
    "plt.plot(d1,Y)"
   ]
  },
  {
   "cell_type": "code",
   "execution_count": 61,
   "metadata": {},
   "outputs": [
    {
     "data": {
      "text/plain": [
       "[<matplotlib.lines.Line2D at 0x2605deacd88>]"
      ]
     },
     "execution_count": 61,
     "metadata": {},
     "output_type": "execute_result"
    },
    {
     "data": {
      "image/png": "[encoded data removed]",
      "text/plain": [
       "<Figure size 432x288 with 1 Axes>"
      ]
     },
     "metadata": {
      "needs_background": "light"
     },
     "output_type": "display_data"
    }
   ],
   "source": [
    "plt.xlim(0.55,0)\n",
    "plt.plot(Y,d1)"
   ]
  },
  {
   "cell_type": "code",
   "execution_count": 51,
   "metadata": {},
   "outputs": [
    {
     "data": {
      "text/plain": [
       "[-0.9, -0.5, -0.2, -0.1, 0.0, 0.1, 0.2, 0.3, 0.4, 0.5]"
      ]
     },
     "execution_count": 51,
     "metadata": {},
     "output_type": "execute_result"
    }
   ],
   "source": [
    "Y2 = doc['p/a'].tolist()\n",
    "Y2"
   ]
  },
  {
   "cell_type": "code",
   "execution_count": 52,
   "metadata": {},
   "outputs": [
    {
     "data": {
      "text/plain": [
       "[0.046,\n",
       " 0.049,\n",
       " 0.053,\n",
       " 0.055,\n",
       " 0.057,\n",
       " 0.059000000000000004,\n",
       " 0.062,\n",
       " 0.065,\n",
       " 0.069,\n",
       " 0.07400000000000001]"
      ]
     },
     "execution_count": 52,
     "metadata": {},
     "output_type": "execute_result"
    }
   ],
   "source": [
    "D2 = doc['0.5'].tolist()\n",
    "D2"
   ]
  },
  {
   "cell_type": "code",
   "execution_count": 64,
   "metadata": {},
   "outputs": [
    {
     "data": {
      "text/plain": [
       "[<matplotlib.lines.Line2D at 0x2605dfe9608>]"
      ]
     },
     "execution_count": 64,
     "metadata": {},
     "output_type": "execute_result"
    },
    {
     "data": {
      "image/png": "[encoded data removed]",
      "text/plain": [
       "<Figure size 432x288 with 1 Axes>"
      ]
     },
     "metadata": {
      "needs_background": "light"
     },
     "output_type": "display_data"
    }
   ],
   "source": [
    "plt.xlim(0.55,-1)\n",
    "plt.plot(Y2,D2)"
   ]
  },
  {
   "cell_type": "code",
   "execution_count": 66,
   "metadata": {},
   "outputs": [
    {
     "data": {
      "text/plain": [
       "[<matplotlib.lines.Line2D at 0x2605dfa34c8>]"
      ]
     },
     "execution_count": 66,
     "metadata": {},
     "output_type": "execute_result"
    },
    {
     "data": {
      "image/png": "[encoded data removed]",
      "text/plain": [
       "<Figure size 432x288 with 1 Axes>"
      ]
     },
     "metadata": {
      "needs_background": "light"
     },
     "output_type": "display_data"
    }
   ],
   "source": [
    "plt.xlim(0.08,0.04)\n",
    "plt.plot(D2,Y2)"
   ]
  },
  {
   "cell_type": "code",
   "execution_count": null,
   "metadata": {},
   "outputs": [],
   "source": []
  }
 ],
 "metadata": {
  "kernelspec": {
   "display_name": "Python 3",
   "language": "python",
   "name": "python3"
  },
  "language_info": {
   "codemirror_mode": {
    "name": "ipython",
    "version": 3
   },
   "file_extension": ".py",
   "mimetype": "text/x-python",
   "name": "python",
   "nbconvert_exporter": "python",
   "pygments_lexer": "ipython3",
   "version": "3.7.4"
  }
 },
 "nbformat": 4,
 "nbformat_minor": 2
}
