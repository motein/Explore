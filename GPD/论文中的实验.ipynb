{
 "cells": [
  {
   "cell_type": "code",
   "execution_count": 85,
   "metadata": {},
   "outputs": [],
   "source": [
    "import pandas as pd\n",
    "import numpy as np\n",
    "from scipy import stats\n",
    "import scipy.optimize as optimize\n",
    "from scipy.stats import genpareto, norm, uniform\n",
    "from skgof import ks_test, cvm_test, ad_test"
   ]
  },
  {
   "cell_type": "code",
   "execution_count": 86,
   "metadata": {},
   "outputs": [],
   "source": [
    "data = np.array([1.7, 2.2, 14.4, 1.1, 0.4, 20.6, 5.3, 0.7, 1.9,\n",
    "13, 12, 9.3, 1.4, 18.7, 8.5, 25.5, 11.6, 14.1, 22.1, 1.1, 2.5, 14.4,\n",
    "1.7, 37.6, 0.6, 2.2, 39, 0.3, 15, 11, 7.3, 22.9, 1.7, 0.1, 1.1, 0.6,\n",
    "9, 1.7, 7, 20.1, 0.4, 2.8, 14.1, 9.9, 10.4, 10.7, 30, 3.6, 5.6,\n",
    "30.8, 13.3, 4.2, 25.5, 3.4, 11.9, 21.5, 27.6, 36.4, 2.7, 64, 1.5,\n",
    "2.5, 27.4, 1, 27.1, 20.2, 16.8, 5.3, 9.7, 27.5, 2.5, 27])"
   ]
  },
  {
   "cell_type": "code",
   "execution_count": 87,
   "metadata": {},
   "outputs": [],
   "source": [
    "def opt_function_gpd(theta0, data):\n",
    "    N = len(data)\n",
    "    s1 = np.sum(np.log(1-theta0*data))\n",
    "    s2 = N*np.log(-1/(N*theta0) * s1)\n",
    "#     print('s2', s2)\n",
    "    return N + s1 + s2\n",
    "\n",
    "def get_k_alpha(theta, data):\n",
    "    N = len(data)\n",
    "    s = np.sum(np.log(1-theta*data))\n",
    "    k = -1/N * s\n",
    "    alpha = k/theta\n",
    "    return k, alpha"
   ]
  },
  {
   "cell_type": "code",
   "execution_count": 88,
   "metadata": {},
   "outputs": [
    {
     "name": "stdout",
     "output_type": "stream",
     "text": [
      "Optimization terminated successfully.\n",
      "         Current function value: 252.127954\n",
      "         Iterations: 11\n",
      "         Function evaluations: 23\n"
     ]
    },
    {
     "data": {
      "text/plain": [
       "array([-7.64257812e-05])"
      ]
     },
     "execution_count": 88,
     "metadata": {},
     "output_type": "execute_result"
    }
   ],
   "source": [
    "res = optimize.minimize(opt_function_gpd, -0.00007, args=(data), method='Nelder-Mead', tol=1e-8, options={'disp':True})\n",
    "res.x"
   ]
  },
  {
   "cell_type": "code",
   "execution_count": 89,
   "metadata": {},
   "outputs": [
    {
     "data": {
      "text/plain": [
       "(0.00093171044399552, 0, 12.192762604144477)"
      ]
     },
     "execution_count": 89,
     "metadata": {},
     "output_type": "execute_result"
    }
   ],
   "source": [
    "genpareto.fit(data, floc=0)"
   ]
  },
  {
   "cell_type": "code",
   "execution_count": 108,
   "metadata": {},
   "outputs": [
    {
     "data": {
      "text/plain": [
       "(-0.0009318439724662177, 12.19279616413758)"
      ]
     },
     "execution_count": 108,
     "metadata": {},
     "output_type": "execute_result"
    }
   ],
   "source": [
    "get_k_alpha(res.x[0], data)"
   ]
  },
  {
   "cell_type": "code",
   "execution_count": 91,
   "metadata": {},
   "outputs": [],
   "source": [
    "def get_A2(data, k, alpha):\n",
    "    N = len(data)\n",
    "    s = 0\n",
    "    for i in range(1, N+1):\n",
    "        s = s + (2*i-1)*(np.log(genpareto.cdf(data[i-1], k, 0, alpha)) + np.log(1-genpareto.cdf(data[N-i], k, 0, alpha)))\n",
    "    s = -1/N*s - N\n",
    "    return s\n",
    "\n",
    "def get_W2(data, k, alpha):\n",
    "    N = len(data)\n",
    "    s = 1/(12*N)\n",
    "    for i in range(1, N+1):\n",
    "        s = s + (genpareto.cdf(data[i-1], k, 0, alpha) - (2*i-1)/(2*N))**2\n",
    "    \n",
    "    return s"
   ]
  },
  {
   "cell_type": "code",
   "execution_count": 110,
   "metadata": {},
   "outputs": [
    {
     "data": {
      "text/plain": [
       "(0.23322760298404213, 1.467144830583237)"
      ]
     },
     "execution_count": 110,
     "metadata": {},
     "output_type": "execute_result"
    }
   ],
   "source": [
    "get_W2(sorted(data), -0.006, 12.14), get_A2(sorted(data), -0.006, 12.14)"
   ]
  },
  {
   "cell_type": "code",
   "execution_count": 93,
   "metadata": {},
   "outputs": [
    {
     "data": {
      "text/plain": [
       "(0.2303640036495989, 1.4560321678490453)"
      ]
     },
     "execution_count": 93,
     "metadata": {},
     "output_type": "execute_result"
    }
   ],
   "source": [
    "get_W2(sorted(data), 0.00093171044399552, 12.192762604144477), get_A2(sorted(data), 0.00093171044399552, 12.192762604144477)"
   ]
  },
  {
   "cell_type": "code",
   "execution_count": 103,
   "metadata": {},
   "outputs": [],
   "source": [
    "def F_func(x, k, alpha):\n",
    "    return 1 - (1-k*x/alpha)**(1/k)"
   ]
  },
  {
   "cell_type": "code",
   "execution_count": 104,
   "metadata": {},
   "outputs": [],
   "source": [
    "def get_Z(data, k, alpha):\n",
    "    res = []\n",
    "    for x in data:\n",
    "#         res.append(genpareto.cdf(x, k, 0, alpha))\n",
    "        res.append(F_func(x, k, alpha))\n",
    "    return np.array(res)"
   ]
  },
  {
   "cell_type": "code",
   "execution_count": 105,
   "metadata": {},
   "outputs": [
    {
     "data": {
      "text/plain": [
       "array([0.00816808, 0.02430481, 0.03227454, 0.03227454, 0.04801942,\n",
       "       0.04801942, 0.05579563, 0.07874555, 0.086271  , 0.086271  ,\n",
       "       0.086271  , 0.10848085, 0.11576362, 0.13015134, 0.13015134,\n",
       "       0.13015134, 0.13015134, 0.14430516, 0.16510564, 0.16510564,\n",
       "       0.18540095, 0.18540095, 0.18540095, 0.19865658, 0.20520336,\n",
       "       0.24337701, 0.25569006, 0.29144099, 0.35258783, 0.35258783,\n",
       "       0.36832936, 0.43688121, 0.45057494, 0.50210266, 0.52212054,\n",
       "       0.5337432 , 0.54880195, 0.55614812, 0.57399497, 0.58435708,\n",
       "       0.59446736, 0.61395679, 0.62334772, 0.62642703, 0.65587015,\n",
       "       0.66424237, 0.68558678, 0.68558678, 0.69323667, 0.69323667,\n",
       "       0.7079831 , 0.74810722, 0.78449983, 0.80790904, 0.80948045,\n",
       "       0.81563873, 0.82877748, 0.83701268, 0.84738068, 0.87673822,\n",
       "       0.87673822, 0.89103363, 0.89192551, 0.89455762, 0.89542068,\n",
       "       0.89627669, 0.91484657, 0.92026655, 0.94968929, 0.95441768,\n",
       "       0.95937593, 0.99481452])"
      ]
     },
     "execution_count": 105,
     "metadata": {},
     "output_type": "execute_result"
    }
   ],
   "source": [
    "Z = get_Z(sorted(data), 0.00093171044399552, 12.192762604144477)\n",
    "# Z = get_Z(sorted(data), 0.006, 12.14)\n",
    "Z"
   ]
  },
  {
   "cell_type": "code",
   "execution_count": null,
   "metadata": {},
   "outputs": [],
   "source": []
  },
  {
   "cell_type": "code",
   "execution_count": 106,
   "metadata": {},
   "outputs": [
    {
     "data": {
      "text/plain": [
       "GofResult(statistic=0.23101743473906552, pvalue=0.21478804492050874)"
      ]
     },
     "execution_count": 106,
     "metadata": {},
     "output_type": "execute_result"
    }
   ],
   "source": [
    "cvm_test(Z, uniform(0, 1))"
   ]
  },
  {
   "cell_type": "code",
   "execution_count": 107,
   "metadata": {},
   "outputs": [
    {
     "data": {
      "text/plain": [
       "GofResult(statistic=1.4595058932866891, pvalue=0.18647052176387946)"
      ]
     },
     "execution_count": 107,
     "metadata": {},
     "output_type": "execute_result"
    }
   ],
   "source": [
    "ad_test(Z, uniform(0.0, 1.0))"
   ]
  },
  {
   "cell_type": "code",
   "execution_count": 98,
   "metadata": {},
   "outputs": [
    {
     "data": {
      "text/plain": [
       "KstestResult(statistic=0.14205791265082257, pvalue=0.09905351528254956)"
      ]
     },
     "execution_count": 98,
     "metadata": {},
     "output_type": "execute_result"
    }
   ],
   "source": [
    "stats.kstest(Z, stats.uniform(loc=0.0, scale=1.0).cdf)"
   ]
  },
  {
   "cell_type": "code",
   "execution_count": 54,
   "metadata": {},
   "outputs": [
    {
     "data": {
      "text/plain": [
       "72"
      ]
     },
     "execution_count": 54,
     "metadata": {},
     "output_type": "execute_result"
    }
   ],
   "source": [
    "len(data)"
   ]
  },
  {
   "cell_type": "code",
   "execution_count": 68,
   "metadata": {},
   "outputs": [
    {
     "data": {
      "text/plain": [
       "GofResult(statistic=0.65, pvalue=0.03521250000000009)"
      ]
     },
     "execution_count": 68,
     "metadata": {},
     "output_type": "execute_result"
    }
   ],
   "source": [
    " ks_test((0.1, 0.9, 0.1, 0.1), uniform(0, 1))"
   ]
  },
  {
   "cell_type": "code",
   "execution_count": null,
   "metadata": {},
   "outputs": [],
   "source": []
  },
  {
   "cell_type": "code",
   "execution_count": null,
   "metadata": {},
   "outputs": [],
   "source": []
  }
 ],
 "metadata": {
  "kernelspec": {
   "display_name": "Python 3",
   "language": "python",
   "name": "python3"
  },
  "language_info": {
   "codemirror_mode": {
    "name": "ipython",
    "version": 3
   },
   "file_extension": ".py",
   "mimetype": "text/x-python",
   "name": "python",
   "nbconvert_exporter": "python",
   "pygments_lexer": "ipython3",
   "version": "3.7.4"
  }
 },
 "nbformat": 4,
 "nbformat_minor": 2
}
