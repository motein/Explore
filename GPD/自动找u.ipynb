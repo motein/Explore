{
 "cells": [
  {
   "cell_type": "code",
   "execution_count": 21,
   "metadata": {},
   "outputs": [],
   "source": [
    "import pandas as pd\n",
    "import numpy as np\n",
    "from scipy import stats\n",
    "import scipy.optimize as optimize\n",
    "from sympy.solvers import solve\n",
    "from sympy import Symbol, log\n",
    "from scipy.stats import genpareto, norm, uniform\n",
    "from skgof import ks_test, cvm_test, ad_test"
   ]
  },
  {
   "cell_type": "code",
   "execution_count": 2,
   "metadata": {},
   "outputs": [
    {
     "data": {
      "text/html": [
       "<div>\n",
       "<style scoped>\n",
       "    .dataframe tbody tr th:only-of-type {\n",
       "        vertical-align: middle;\n",
       "    }\n",
       "\n",
       "    .dataframe tbody tr th {\n",
       "        vertical-align: top;\n",
       "    }\n",
       "\n",
       "    .dataframe thead th {\n",
       "        text-align: right;\n",
       "    }\n",
       "</style>\n",
       "<table border=\"1\" class=\"dataframe\">\n",
       "  <thead>\n",
       "    <tr style=\"text-align: right;\">\n",
       "      <th></th>\n",
       "      <th>all</th>\n",
       "      <th>Nitrides</th>\n",
       "      <th>Oxides</th>\n",
       "      <th>OxySulphides (complex)</th>\n",
       "      <th>Sulphides</th>\n",
       "    </tr>\n",
       "  </thead>\n",
       "  <tbody>\n",
       "    <tr>\n",
       "      <th>0</th>\n",
       "      <td>25.444124</td>\n",
       "      <td>6.100337</td>\n",
       "      <td>25.444124</td>\n",
       "      <td>11.997444</td>\n",
       "      <td>22.186109</td>\n",
       "    </tr>\n",
       "    <tr>\n",
       "      <th>1</th>\n",
       "      <td>33.860000</td>\n",
       "      <td>10.650000</td>\n",
       "      <td>33.860000</td>\n",
       "      <td>16.710000</td>\n",
       "      <td>24.080000</td>\n",
       "    </tr>\n",
       "    <tr>\n",
       "      <th>2</th>\n",
       "      <td>31.553676</td>\n",
       "      <td>3.455058</td>\n",
       "      <td>31.553676</td>\n",
       "      <td>8.748672</td>\n",
       "      <td>28.105617</td>\n",
       "    </tr>\n",
       "    <tr>\n",
       "      <th>3</th>\n",
       "      <td>11032.140099</td>\n",
       "      <td>6.755921</td>\n",
       "      <td>25.485441</td>\n",
       "      <td>9.064078</td>\n",
       "      <td>11032.140099</td>\n",
       "    </tr>\n",
       "    <tr>\n",
       "      <th>4</th>\n",
       "      <td>57.325893</td>\n",
       "      <td>5.365266</td>\n",
       "      <td>57.325893</td>\n",
       "      <td>10.499416</td>\n",
       "      <td>40.298737</td>\n",
       "    </tr>\n",
       "    <tr>\n",
       "      <th>5</th>\n",
       "      <td>33.053769</td>\n",
       "      <td>5.299798</td>\n",
       "      <td>33.053769</td>\n",
       "      <td>8.627179</td>\n",
       "      <td>31.309305</td>\n",
       "    </tr>\n",
       "    <tr>\n",
       "      <th>6</th>\n",
       "      <td>44.920000</td>\n",
       "      <td>4.990000</td>\n",
       "      <td>44.920000</td>\n",
       "      <td>10.360000</td>\n",
       "      <td>35.040000</td>\n",
       "    </tr>\n",
       "    <tr>\n",
       "      <th>7</th>\n",
       "      <td>45.125219</td>\n",
       "      <td>25.110689</td>\n",
       "      <td>45.125219</td>\n",
       "      <td>11.997396</td>\n",
       "      <td>27.665857</td>\n",
       "    </tr>\n",
       "    <tr>\n",
       "      <th>8</th>\n",
       "      <td>34.182777</td>\n",
       "      <td>8.627179</td>\n",
       "      <td>22.043353</td>\n",
       "      <td>14.318688</td>\n",
       "      <td>34.182777</td>\n",
       "    </tr>\n",
       "    <tr>\n",
       "      <th>9</th>\n",
       "      <td>77.280000</td>\n",
       "      <td>9.690000</td>\n",
       "      <td>49.900000</td>\n",
       "      <td>10.830000</td>\n",
       "      <td>77.280000</td>\n",
       "    </tr>\n",
       "    <tr>\n",
       "      <th>10</th>\n",
       "      <td>81.174087</td>\n",
       "      <td>7.725707</td>\n",
       "      <td>19.616224</td>\n",
       "      <td>12.457388</td>\n",
       "      <td>81.174087</td>\n",
       "    </tr>\n",
       "    <tr>\n",
       "      <th>11</th>\n",
       "      <td>36.505256</td>\n",
       "      <td>9.368809</td>\n",
       "      <td>36.041857</td>\n",
       "      <td>11.850582</td>\n",
       "      <td>36.505256</td>\n",
       "    </tr>\n",
       "    <tr>\n",
       "      <th>12</th>\n",
       "      <td>44.360000</td>\n",
       "      <td>4.760000</td>\n",
       "      <td>35.770000</td>\n",
       "      <td>19.330000</td>\n",
       "      <td>41.800000</td>\n",
       "    </tr>\n",
       "    <tr>\n",
       "      <th>13</th>\n",
       "      <td>47.080000</td>\n",
       "      <td>6.310000</td>\n",
       "      <td>32.280000</td>\n",
       "      <td>14.110000</td>\n",
       "      <td>22.180000</td>\n",
       "    </tr>\n",
       "    <tr>\n",
       "      <th>14</th>\n",
       "      <td>116.412074</td>\n",
       "      <td>9.064078</td>\n",
       "      <td>34.397814</td>\n",
       "      <td>13.870765</td>\n",
       "      <td>16.966949</td>\n",
       "    </tr>\n",
       "    <tr>\n",
       "      <th>15</th>\n",
       "      <td>23.620000</td>\n",
       "      <td>13.890000</td>\n",
       "      <td>23.620000</td>\n",
       "      <td>9.920000</td>\n",
       "      <td>16.460000</td>\n",
       "    </tr>\n",
       "    <tr>\n",
       "      <th>16</th>\n",
       "      <td>63.821745</td>\n",
       "      <td>7.725726</td>\n",
       "      <td>25.194416</td>\n",
       "      <td>16.118063</td>\n",
       "      <td>25.485441</td>\n",
       "    </tr>\n",
       "    <tr>\n",
       "      <th>17</th>\n",
       "      <td>43.574590</td>\n",
       "      <td>7.208371</td>\n",
       "      <td>43.574590</td>\n",
       "      <td>10.124841</td>\n",
       "      <td>14.658569</td>\n",
       "    </tr>\n",
       "    <tr>\n",
       "      <th>18</th>\n",
       "      <td>62.620000</td>\n",
       "      <td>7.440000</td>\n",
       "      <td>21.960000</td>\n",
       "      <td>17.500000</td>\n",
       "      <td>62.620000</td>\n",
       "    </tr>\n",
       "    <tr>\n",
       "      <th>19</th>\n",
       "      <td>42.230000</td>\n",
       "      <td>19.520000</td>\n",
       "      <td>34.440000</td>\n",
       "      <td>11.640000</td>\n",
       "      <td>42.230000</td>\n",
       "    </tr>\n",
       "    <tr>\n",
       "      <th>20</th>\n",
       "      <td>108.986164</td>\n",
       "      <td>8.627179</td>\n",
       "      <td>93.805010</td>\n",
       "      <td>12.818541</td>\n",
       "      <td>108.986164</td>\n",
       "    </tr>\n",
       "    <tr>\n",
       "      <th>21</th>\n",
       "      <td>63.929226</td>\n",
       "      <td>6.381351</td>\n",
       "      <td>27.139739</td>\n",
       "      <td>9.808112</td>\n",
       "      <td>63.929226</td>\n",
       "    </tr>\n",
       "    <tr>\n",
       "      <th>22</th>\n",
       "      <td>51.220000</td>\n",
       "      <td>5.410000</td>\n",
       "      <td>23.510000</td>\n",
       "      <td>19.840000</td>\n",
       "      <td>51.220000</td>\n",
       "    </tr>\n",
       "    <tr>\n",
       "      <th>23</th>\n",
       "      <td>88.045831</td>\n",
       "      <td>5.365266</td>\n",
       "      <td>31.015433</td>\n",
       "      <td>4.512297</td>\n",
       "      <td>88.045831</td>\n",
       "    </tr>\n",
       "  </tbody>\n",
       "</table>\n",
       "</div>"
      ],
      "text/plain": [
       "             all   Nitrides     Oxides  OxySulphides (complex)     Sulphides\n",
       "0      25.444124   6.100337  25.444124               11.997444     22.186109\n",
       "1      33.860000  10.650000  33.860000               16.710000     24.080000\n",
       "2      31.553676   3.455058  31.553676                8.748672     28.105617\n",
       "3   11032.140099   6.755921  25.485441                9.064078  11032.140099\n",
       "4      57.325893   5.365266  57.325893               10.499416     40.298737\n",
       "5      33.053769   5.299798  33.053769                8.627179     31.309305\n",
       "6      44.920000   4.990000  44.920000               10.360000     35.040000\n",
       "7      45.125219  25.110689  45.125219               11.997396     27.665857\n",
       "8      34.182777   8.627179  22.043353               14.318688     34.182777\n",
       "9      77.280000   9.690000  49.900000               10.830000     77.280000\n",
       "10     81.174087   7.725707  19.616224               12.457388     81.174087\n",
       "11     36.505256   9.368809  36.041857               11.850582     36.505256\n",
       "12     44.360000   4.760000  35.770000               19.330000     41.800000\n",
       "13     47.080000   6.310000  32.280000               14.110000     22.180000\n",
       "14    116.412074   9.064078  34.397814               13.870765     16.966949\n",
       "15     23.620000  13.890000  23.620000                9.920000     16.460000\n",
       "16     63.821745   7.725726  25.194416               16.118063     25.485441\n",
       "17     43.574590   7.208371  43.574590               10.124841     14.658569\n",
       "18     62.620000   7.440000  21.960000               17.500000     62.620000\n",
       "19     42.230000  19.520000  34.440000               11.640000     42.230000\n",
       "20    108.986164   8.627179  93.805010               12.818541    108.986164\n",
       "21     63.929226   6.381351  27.139739                9.808112     63.929226\n",
       "22     51.220000   5.410000  23.510000               19.840000     51.220000\n",
       "23     88.045831   5.365266  31.015433                4.512297     88.045831"
      ]
     },
     "execution_count": 2,
     "metadata": {},
     "output_type": "execute_result"
    }
   ],
   "source": [
    "doc = pd.read_csv('max_value.csv')\n",
    "doc"
   ]
  },
  {
   "cell_type": "code",
   "execution_count": 18,
   "metadata": {},
   "outputs": [],
   "source": [
    "def clean_data_with_MAD(col_data):\n",
    "    mad = stats.median_absolute_deviation(col_data)\n",
    "    _mad = np.abs(col_data - np.median(col_data)) / mad\n",
    "    data = pd.Series([col_data[i] for i in range(len(_mad)) if (_mad[i] < 3)])\n",
    "\n",
    "    return data\n",
    "\n",
    "def get_minus_mu_data(u0, data):\n",
    "    Xi = []\n",
    "    for i in data:\n",
    "        if i > u0:\n",
    "            Xi.append(i-u0)\n",
    "    return np.array(Xi)\n",
    "\n",
    "def get_Z(data, k, alpha):\n",
    "    res = []\n",
    "    for x in data:\n",
    "        res.append(genpareto.cdf(x, k, 0, alpha))\n",
    "    return np.array(res)"
   ]
  },
  {
   "cell_type": "code",
   "execution_count": 8,
   "metadata": {},
   "outputs": [],
   "source": [
    "data = sorted(doc['all'].tolist())\n",
    "data = clean_data_with_MAD(data)"
   ]
  },
  {
   "cell_type": "code",
   "execution_count": 9,
   "metadata": {},
   "outputs": [
    {
     "data": {
      "text/plain": [
       "0     23.620000\n",
       "1     25.444124\n",
       "2     31.553676\n",
       "3     33.053769\n",
       "4     33.860000\n",
       "5     34.182777\n",
       "6     36.505256\n",
       "7     42.230000\n",
       "8     43.574590\n",
       "9     44.360000\n",
       "10    44.920000\n",
       "11    45.125219\n",
       "12    47.080000\n",
       "13    51.220000\n",
       "14    57.325893\n",
       "15    62.620000\n",
       "16    63.821745\n",
       "17    63.929226\n",
       "18    77.280000\n",
       "19    81.174087\n",
       "20    88.045831\n",
       "dtype: float64"
      ]
     },
     "execution_count": 9,
     "metadata": {},
     "output_type": "execute_result"
    }
   ],
   "source": [
    "data"
   ]
  },
  {
   "cell_type": "code",
   "execution_count": 11,
   "metadata": {},
   "outputs": [
    {
     "data": {
      "text/plain": [
       "0     23.620000\n",
       "1     25.444124\n",
       "2     31.553676\n",
       "3     33.053769\n",
       "4     33.860000\n",
       "5     34.182777\n",
       "6     36.505256\n",
       "7     42.230000\n",
       "8     43.574590\n",
       "9     44.360000\n",
       "10    44.920000\n",
       "11    45.125219\n",
       "12    47.080000\n",
       "13    51.220000\n",
       "14    57.325893\n",
       "15    62.620000\n",
       "16    63.821745\n",
       "17    63.929226\n",
       "18    77.280000\n",
       "19    81.174087\n",
       "20    88.045831\n",
       "dtype: float64"
      ]
     },
     "execution_count": 11,
     "metadata": {},
     "output_type": "execute_result"
    }
   ],
   "source": [
    "col_data=sorted(doc['all'].tolist())\n",
    "data = clean_data_with_MAD(col_data)\n",
    "data"
   ]
  },
  {
   "cell_type": "code",
   "execution_count": 10,
   "metadata": {},
   "outputs": [],
   "source": [
    "n = len(data)\n",
    "m = n - 1"
   ]
  },
  {
   "cell_type": "code",
   "execution_count": 24,
   "metadata": {},
   "outputs": [],
   "source": [
    "X = get_minus_mu_data(data[0], data)\n",
    "res = genpareto.fit(X, floc=0)\n",
    "k, alpha = res[0], res[2]"
   ]
  },
  {
   "cell_type": "code",
   "execution_count": 26,
   "metadata": {},
   "outputs": [
    {
     "data": {
      "text/plain": [
       "(array([0.03886649, 0.16557544, 0.19584633, 0.21197501, 0.21840439,\n",
       "        0.26419181, 0.37339449, 0.39826161, 0.41264533, 0.42283642,\n",
       "        0.42655752, 0.46163409, 0.53366005, 0.6339466 , 0.71467674,\n",
       "        0.73213476, 0.73367984, 0.90202992, 0.94055162, 0.99116901]), 20)"
      ]
     },
     "execution_count": 26,
     "metadata": {},
     "output_type": "execute_result"
    }
   ],
   "source": [
    "Z = get_Z(X, k, alpha)\n",
    "Z, len(Z)"
   ]
  },
  {
   "cell_type": "code",
   "execution_count": 27,
   "metadata": {},
   "outputs": [
    {
     "data": {
      "text/plain": [
       "GofResult(statistic=0.06895473215916077, pvalue=0.7636297786590774)"
      ]
     },
     "execution_count": 27,
     "metadata": {},
     "output_type": "execute_result"
    }
   ],
   "source": [
    "cvm_test(Z, uniform(0, 1))"
   ]
  },
  {
   "cell_type": "code",
   "execution_count": 34,
   "metadata": {},
   "outputs": [
    {
     "data": {
      "text/plain": [
       "0.8356794734405651"
      ]
     },
     "execution_count": 34,
     "metadata": {},
     "output_type": "execute_result"
    }
   ],
   "source": [
    "ad_test(Z, uniform(0, 1))[1]"
   ]
  },
  {
   "cell_type": "code",
   "execution_count": 40,
   "metadata": {},
   "outputs": [],
   "source": [
    "def one_round(u0, data):\n",
    "    X = get_minus_mu_data(u0, data)\n",
    "    res = genpareto.fit(X, floc=0)\n",
    "    k, alpha = res[0], res[2]\n",
    "    Z = get_Z(X, k, alpha)\n",
    "    p_w = cvm_test(Z, uniform(0, 1))[1]\n",
    "    p_a = ad_test(Z, uniform(0, 1))[1]\n",
    "    print(p_w, p_a)\n",
    "    return p_w, p_a"
   ]
  },
  {
   "cell_type": "code",
   "execution_count": 45,
   "metadata": {},
   "outputs": [
    {
     "name": "stdout",
     "output_type": "stream",
     "text": [
      "0.7636297786590774 0.8356794734405651\n",
      "0.6968489697601508 0.7159446643865592\n",
      "0.8172828464522051 0.8782724428685935\n",
      "0.7899867741039017 0.8328625720107135\n",
      "0.7562135129484509 0.8265912413467977\n",
      "0.6619442281656926 0.7491414715841764\n",
      "0.5933585189847828 0.6243201537571534\n",
      "0.5540367479289444 0.5160658577033204\n",
      "0.5531252446239563 0.4058247450451735\n",
      "0.1760573812218944 0.00670526587189102\n",
      "0.5585163916534972 0.010309272149950255\n",
      "0.5303994772094777 0.02068938701288181\n",
      "0.32334785333029403 0.0\n",
      "0.4407129034968411 0.017628326910053116\n",
      "0.34328852912615393 0.011048810569262546\n",
      "0.5354759897436578 0.0\n",
      "0.7484364361905145 0.003438260650994618\n",
      "0.7205894028334519 0.012015025501692422\n",
      "0.6071088058392676 0.0003090038637676429\n",
      "3.584285779290042e-08 3.584285779290042e-08\n"
     ]
    }
   ],
   "source": [
    "p_w_list = []\n",
    "p_a_list = []\n",
    "for i in range(m):\n",
    "    p_w, p_a = one_round(data[i], data)\n",
    "    p_w_list.append(p_w)\n",
    "    p_a_list.append(p_a)\n",
    "\n",
    "p_w_list = np.array(p_w_list)\n",
    "p_a_list = np.array(p_a_list)    "
   ]
  },
  {
   "cell_type": "code",
   "execution_count": 49,
   "metadata": {},
   "outputs": [
    {
     "name": "stdout",
     "output_type": "stream",
     "text": [
      "1.4423559686397156\n",
      "1.3179400583303864\n",
      "1.445232015838589\n",
      "1.4740702043265026\n",
      "1.4615486614289595\n",
      "1.3987146164714779\n",
      "1.3274444375142096\n",
      "1.2624537234269584\n",
      "1.2116785222622148\n",
      "1.1098761089262608\n",
      "1.083306861461632\n",
      "1.056020697773258\n",
      "1.0048343328651792\n",
      "0.9745670482475142\n",
      "0.9376299462635885\n",
      "0.926949451592305\n",
      "0.9536029887086578\n",
      "0.9714624284793003\n",
      "0.9695024356692047\n",
      "0.9210273156778875\n"
     ]
    }
   ],
   "source": [
    "kres_list = []\n",
    "for k in range(m):\n",
    "#     print(p_w_list[:k+1])\n",
    "    kres = -1/(k+1) *np.sum(np.log(1-p_w_list[:k+1]))\n",
    "    print(kres)\n",
    "    kres_list.append(kres)"
   ]
  },
  {
   "cell_type": "code",
   "execution_count": 56,
   "metadata": {},
   "outputs": [
    {
     "data": {
      "text/plain": [
       "3"
      ]
     },
     "execution_count": 56,
     "metadata": {},
     "output_type": "execute_result"
    }
   ],
   "source": [
    "max_value = max(kres_list)\n",
    "k_cap = kres_list.index(max_value)\n",
    "k_cap"
   ]
  },
  {
   "cell_type": "code",
   "execution_count": 54,
   "metadata": {},
   "outputs": [
    {
     "data": {
      "text/plain": [
       "70.55171127446096"
      ]
     },
     "execution_count": 54,
     "metadata": {},
     "output_type": "execute_result"
    }
   ],
   "source": [
    "3.3596052987838547*len(data)"
   ]
  },
  {
   "cell_type": "code",
   "execution_count": 67,
   "metadata": {},
   "outputs": [],
   "source": [
    "x = Symbol('x')"
   ]
  },
  {
   "cell_type": "code",
   "execution_count": 69,
   "metadata": {},
   "outputs": [
    {
     "data": {
      "text/plain": [
       "sympy.core.mul.Mul"
      ]
     },
     "execution_count": 69,
     "metadata": {},
     "output_type": "execute_result"
    }
   ],
   "source": []
  },
  {
   "cell_type": "code",
   "execution_count": 91,
   "metadata": {},
   "outputs": [
    {
     "data": {
      "text/latex": [
       "$\\displaystyle \\log{\\left(1 - 88.045831198687 x \\right)} + \\log{\\left(1 - 81.1740869389311 x \\right)} + \\log{\\left(1 - 77.28 x \\right)} + \\log{\\left(1 - 63.9292261535768 x \\right)} + \\log{\\left(1 - 63.8217449908651 x \\right)} + \\log{\\left(1 - 62.62 x \\right)} + \\log{\\left(1 - 57.3258926877592 x \\right)} + \\log{\\left(1 - 51.22 x \\right)} + \\log{\\left(1 - 47.08 x \\right)} + \\log{\\left(1 - 45.1252187450655 x \\right)} + \\log{\\left(1 - 44.92 x \\right)} + \\log{\\left(1 - 44.36 x \\right)} + \\log{\\left(1 - 43.5745902469986 x \\right)} + \\log{\\left(1 - 42.23 x \\right)} + \\log{\\left(1 - 36.505255851362 x \\right)} + \\log{\\left(1 - 34.1827770198136 x \\right)} + \\log{\\left(1 - 33.86 x \\right)} + \\log{\\left(1 - 33.0537685064112 x \\right)} + \\log{\\left(1 - 31.5536764398981 x \\right)} + \\log{\\left(1 - 25.4441235717141 x \\right)} + \\log{\\left(1 - 23.62 x \\right)} + 70.551711274461$"
      ],
      "text/plain": [
       "log(1 - 88.045831198687*x) + log(1 - 81.1740869389311*x) + log(1 - 77.28*x) + log(1 - 63.9292261535768*x) + log(1 - 63.8217449908651*x) + log(1 - 62.62*x) + log(1 - 57.3258926877592*x) + log(1 - 51.22*x) + log(1 - 47.08*x) + log(1 - 45.1252187450655*x) + log(1 - 44.92*x) + log(1 - 44.36*x) + log(1 - 43.5745902469986*x) + log(1 - 42.23*x) + log(1 - 36.505255851362*x) + log(1 - 34.1827770198136*x) + log(1 - 33.86*x) + log(1 - 33.0537685064112*x) + log(1 - 31.5536764398981*x) + log(1 - 25.4441235717141*x) + log(1 - 23.62*x) + 70.551711274461"
      ]
     },
     "execution_count": 91,
     "metadata": {},
     "output_type": "execute_result"
    }
   ],
   "source": []
  },
  {
   "cell_type": "code",
   "execution_count": null,
   "metadata": {},
   "outputs": [],
   "source": [
    "solve(f(x, np.array(data)), x)"
   ]
  },
  {
   "cell_type": "code",
   "execution_count": null,
   "metadata": {},
   "outputs": [],
   "source": []
  }
 ],
 "metadata": {
  "kernelspec": {
   "display_name": "Python 3",
   "language": "python",
   "name": "python3"
  },
  "language_info": {
   "codemirror_mode": {
    "name": "ipython",
    "version": 3
   },
   "file_extension": ".py",
   "mimetype": "text/x-python",
   "name": "python",
   "nbconvert_exporter": "python",
   "pygments_lexer": "ipython3",
   "version": "3.7.4"
  }
 },
 "nbformat": 4,
 "nbformat_minor": 2
}
