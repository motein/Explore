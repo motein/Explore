{
 "cells": [
  {
   "cell_type": "code",
   "execution_count": 15,
   "metadata": {},
   "outputs": [],
   "source": [
    "import pandas as pd\n",
    "import numpy as np\n",
    "from scipy import stats, integrate\n",
    "import scipy.optimize as optimize\n",
    "from sympy.solvers import solve"
   ]
  },
  {
   "cell_type": "code",
   "execution_count": 22,
   "metadata": {},
   "outputs": [],
   "source": [
    "def asymptotic_r(s, t):\n",
    "    return min(s, t) - s*t\n",
    "\n",
    "def asymptotic_r2(s, t):\n",
    "    return asymptotic_r(s, t)*asymptotic_r(s, t)\n",
    "\n",
    "# J(x) = stats.norm.ppf(x, loc=0, scale=1)\n",
    "def J(x):\n",
    "    return stats.norm.ppf(x, loc=0, scale=1)"
   ]
  },
  {
   "cell_type": "code",
   "execution_count": 42,
   "metadata": {},
   "outputs": [],
   "source": [
    "def asymptotic_B(s):\n",
    "    d = (2*np.pi)**(-0.5)\n",
    "    return d* np.exp(-J(s)**2/2)\n",
    "\n",
    "def asymptotic_b(s, t):\n",
    "    return -asymptotic_B(s)*asymptotic_B(t)\n",
    "\n",
    "def asymptotic_b2(s, t):\n",
    "    return asymptotic_b(s, t)*asymptotic_b(s, t)"
   ]
  },
  {
   "cell_type": "code",
   "execution_count": 8,
   "metadata": {},
   "outputs": [],
   "source": [
    "def asymptotic_C(s):\n",
    "    d = (2*np.pi)**(-0.5)\n",
    "    return d*J(s)/np.sqrt(2)*np.exp(-J(s)**2/2)\n",
    "\n",
    "def asymptotic_c(s, t):\n",
    "    return -asymptotic_C(s)*asymptotic_C(t)"
   ]
  },
  {
   "cell_type": "code",
   "execution_count": 10,
   "metadata": {},
   "outputs": [],
   "source": [
    "def asymptotic_w(s, t):\n",
    "    return 1 / np.sqrt((s-s**2)*(t-t**2))\n",
    "\n",
    "def asymptotic_a(s, t):\n",
    "    return 1/12 - ((s-s**2)+(t-t**2))/2"
   ]
  },
  {
   "cell_type": "code",
   "execution_count": 11,
   "metadata": {},
   "outputs": [],
   "source": [
    "def asymptotic_E(s):\n",
    "    return asymptotic_B(s) - 1/(2*np.sqrt(np.pi))\n",
    "\n",
    "def asymptotic_e(s, t):\n",
    "    return - asymptotic_E(s)*asymptotic_E(t)"
   ]
  },
  {
   "cell_type": "code",
   "execution_count": 44,
   "metadata": {},
   "outputs": [
    {
     "data": {
      "text/plain": [
       "0.011111111176491346"
      ]
     },
     "execution_count": 44,
     "metadata": {},
     "output_type": "execute_result"
    }
   ],
   "source": [
    "R2 = integrate.dblquad(asymptotic_r2, 0, 1, 0, 1)[0]\n",
    "R2"
   ]
  },
  {
   "cell_type": "code",
   "execution_count": 25,
   "metadata": {},
   "outputs": [],
   "source": [
    "def rb_integrant(s, t):\n",
    "    return asymptotic_r(s, t) * asymptotic_b(s, t)"
   ]
  },
  {
   "cell_type": "code",
   "execution_count": 45,
   "metadata": {},
   "outputs": [
    {
     "data": {
      "text/plain": [
       "-0.009242109191915164"
      ]
     },
     "execution_count": 45,
     "metadata": {},
     "output_type": "execute_result"
    }
   ],
   "source": [
    "RB = integrate.dblquad(rb_integrant, 0, 1, 0, 1)[0]\n",
    "RB"
   ]
  },
  {
   "cell_type": "code",
   "execution_count": 46,
   "metadata": {},
   "outputs": [
    {
     "data": {
      "text/plain": [
       "0.008443431969796553"
      ]
     },
     "execution_count": 46,
     "metadata": {},
     "output_type": "execute_result"
    }
   ],
   "source": [
    "B2 = integrate.dblquad(asymptotic_b2, 0, 1, 0, 1)[0]\n",
    "B2"
   ]
  },
  {
   "cell_type": "code",
   "execution_count": 27,
   "metadata": {},
   "outputs": [
    {
     "data": {
      "text/plain": [
       "(0.08333334012579308, 1.4710818197186507e-08)"
      ]
     },
     "execution_count": 27,
     "metadata": {},
     "output_type": "execute_result"
    }
   ],
   "source": [
    "integrate.dblquad(asymptotic_r, 0, 1, 0, 1)"
   ]
  },
  {
   "cell_type": "code",
   "execution_count": 28,
   "metadata": {},
   "outputs": [
    {
     "data": {
      "text/plain": [
       "(-0.07957747157665053, 1.4875099508039924e-08)"
      ]
     },
     "execution_count": 28,
     "metadata": {},
     "output_type": "execute_result"
    }
   ],
   "source": [
    "integrate.dblquad(asymptotic_b, 0, 1, 0, 1)"
   ]
  },
  {
   "cell_type": "code",
   "execution_count": 29,
   "metadata": {},
   "outputs": [
    {
     "data": {
      "text/plain": [
       "0.0037558685491425464"
      ]
     },
     "execution_count": 29,
     "metadata": {},
     "output_type": "execute_result"
    }
   ],
   "source": [
    "0.08333334012579308-0.07957747157665053"
   ]
  },
  {
   "cell_type": "markdown",
   "metadata": {},
   "source": [
    "- Calculate u=K1\n",
    "- $\\displaystyle \\Large K_j = s^{j-1}(j-1)!\\int_0^1 \\rho_j(s,s) ds$"
   ]
  },
  {
   "cell_type": "code",
   "execution_count": 35,
   "metadata": {},
   "outputs": [],
   "source": [
    "def K1_1st_part(s):\n",
    "    return s*(1-s)\n",
    "\n",
    "def K1_2nd_part(s):\n",
    "    return np.exp(-J(s)**2)"
   ]
  },
  {
   "cell_type": "code",
   "execution_count": 32,
   "metadata": {},
   "outputs": [
    {
     "data": {
      "text/plain": [
       "0.15915494309189535"
      ]
     },
     "execution_count": 32,
     "metadata": {},
     "output_type": "execute_result"
    }
   ],
   "source": [
    "d = (2*np.pi)**(-0.5)\n",
    "dd = d*d\n",
    "dd"
   ]
  },
  {
   "cell_type": "code",
   "execution_count": 38,
   "metadata": {},
   "outputs": [
    {
     "data": {
      "text/plain": [
       "0.16666666666666669"
      ]
     },
     "execution_count": 38,
     "metadata": {},
     "output_type": "execute_result"
    }
   ],
   "source": [
    "k1_1 = integrate.quad(K1_1st_part, 0, 1)[0]\n",
    "k1_1"
   ]
  },
  {
   "cell_type": "code",
   "execution_count": 39,
   "metadata": {},
   "outputs": [
    {
     "data": {
      "text/plain": [
       "0.5773502691888512"
      ]
     },
     "execution_count": 39,
     "metadata": {},
     "output_type": "execute_result"
    }
   ],
   "source": [
    "k1_2 = integrate.quad(K1_2nd_part, 0, 1)[0]\n",
    "k1_2"
   ]
  },
  {
   "cell_type": "code",
   "execution_count": 41,
   "metadata": {},
   "outputs": [
    {
     "data": {
      "text/plain": [
       "0.07477851742982461"
      ]
     },
     "execution_count": 41,
     "metadata": {},
     "output_type": "execute_result"
    }
   ],
   "source": [
    "K1 = k1_1 -dd * k1_2\n",
    "K1"
   ]
  },
  {
   "cell_type": "code",
   "execution_count": 47,
   "metadata": {},
   "outputs": [
    {
     "data": {
      "text/plain": [
       "0.0021406495249151405"
      ]
     },
     "execution_count": 47,
     "metadata": {},
     "output_type": "execute_result"
    }
   ],
   "source": [
    "K2 = 2*(R2+2*RB+B2)\n",
    "K2"
   ]
  },
  {
   "cell_type": "code",
   "execution_count": null,
   "metadata": {},
   "outputs": [],
   "source": []
  }
 ],
 "metadata": {
  "kernelspec": {
   "display_name": "Python 3",
   "language": "python",
   "name": "python3"
  },
  "language_info": {
   "codemirror_mode": {
    "name": "ipython",
    "version": 3
   },
   "file_extension": ".py",
   "mimetype": "text/x-python",
   "name": "python",
   "nbconvert_exporter": "python",
   "pygments_lexer": "ipython3",
   "version": "3.7.4"
  }
 },
 "nbformat": 4,
 "nbformat_minor": 2
}
