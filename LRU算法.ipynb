{
 "cells": [
  {
   "cell_type": "code",
   "execution_count": 2,
   "metadata": {},
   "outputs": [],
   "source": [
    "from collections import OrderedDict"
   ]
  },
  {
   "cell_type": "code",
   "execution_count": 33,
   "metadata": {},
   "outputs": [],
   "source": [
    "class LRUCache:\n",
    "    def __init__(self, capacity):\n",
    "        self.cache = OrderedDict()\n",
    "        self.capacity = capacity\n",
    "        \n",
    "    def get(self, key):\n",
    "        if key not in self.cache:\n",
    "            return None\n",
    "        else:\n",
    "            self.cache.move_to_end(key)\n",
    "            return self.cache[key]\n",
    " \n",
    "    def put(self, key, value):\n",
    "        self.cache[key] = value\n",
    "        self.cache.move_to_end(key)\n",
    "        if len(self.cache) > self.capacity:\n",
    "            return self.cache.popitem(last = False)\n",
    "        else:\n",
    "            return None"
   ]
  },
  {
   "cell_type": "code",
   "execution_count": 34,
   "metadata": {},
   "outputs": [],
   "source": [
    "# RUNNER\n",
    "# initializing our cache with the capacity of 2\n",
    "cache = LRUCache(3)"
   ]
  },
  {
   "cell_type": "code",
   "execution_count": 22,
   "metadata": {},
   "outputs": [
    {
     "name": "stdout",
     "output_type": "stream",
     "text": [
      "OrderedDict([('h', 1)])\n"
     ]
    }
   ],
   "source": [
    "cache.put('h', 1)\n",
    "print(cache.cache)"
   ]
  },
  {
   "cell_type": "code",
   "execution_count": 10,
   "metadata": {},
   "outputs": [
    {
     "name": "stdout",
     "output_type": "stream",
     "text": [
      "OrderedDict([('h', 1), ('w', 1)])\n"
     ]
    }
   ],
   "source": [
    "cache.put('w', 1)\n",
    "print(cache.cache)"
   ]
  },
  {
   "cell_type": "code",
   "execution_count": 11,
   "metadata": {},
   "outputs": [
    {
     "name": "stdout",
     "output_type": "stream",
     "text": [
      "OrderedDict([('h', 1), ('w', 1), ('a', 1)])\n"
     ]
    }
   ],
   "source": [
    "cache.put('a', 1)\n",
    "print(cache.cache)"
   ]
  },
  {
   "cell_type": "code",
   "execution_count": 12,
   "metadata": {},
   "outputs": [
    {
     "name": "stdout",
     "output_type": "stream",
     "text": [
      "OrderedDict([('w', 1), ('a', 1), ('b', 1)])\n"
     ]
    }
   ],
   "source": [
    "cache.put('b', 1)\n",
    "print(cache.cache)"
   ]
  },
  {
   "cell_type": "code",
   "execution_count": 26,
   "metadata": {},
   "outputs": [
    {
     "name": "stdout",
     "output_type": "stream",
     "text": [
      "OrderedDict([('c', 1), ('d', 1), ('f', 2)])\n"
     ]
    }
   ],
   "source": [
    "cache.put('f', 2)\n",
    "print(cache.cache)"
   ]
  },
  {
   "cell_type": "code",
   "execution_count": 15,
   "metadata": {},
   "outputs": [
    {
     "name": "stdout",
     "output_type": "stream",
     "text": [
      "OrderedDict([('b', 2), ('f', 2), ('a', 1)])\n"
     ]
    }
   ],
   "source": [
    "cache.put('a', 1)\n",
    "print(cache.cache)"
   ]
  },
  {
   "cell_type": "code",
   "execution_count": 35,
   "metadata": {},
   "outputs": [
    {
     "name": "stdout",
     "output_type": "stream",
     "text": [
      "More2\n",
      "None\n",
      "OrderedDict([('m', 2)])\n"
     ]
    }
   ],
   "source": [
    "print(cache.put('m', 2))\n",
    "print(cache.cache)"
   ]
  },
  {
   "cell_type": "code",
   "execution_count": null,
   "metadata": {},
   "outputs": [],
   "source": []
  }
 ],
 "metadata": {
  "kernelspec": {
   "display_name": "Python 3",
   "language": "python",
   "name": "python3"
  },
  "language_info": {
   "codemirror_mode": {
    "name": "ipython",
    "version": 3
   },
   "file_extension": ".py",
   "mimetype": "text/x-python",
   "name": "python",
   "nbconvert_exporter": "python",
   "pygments_lexer": "ipython3",
   "version": "3.8.5"
  }
 },
 "nbformat": 4,
 "nbformat_minor": 4
}
