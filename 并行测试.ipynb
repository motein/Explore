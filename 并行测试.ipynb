{
 "cells": [
  {
   "cell_type": "code",
   "execution_count": 9,
   "metadata": {},
   "outputs": [],
   "source": [
    "import asyncio\n",
    "import threading\n",
    "import time"
   ]
  },
  {
   "cell_type": "code",
   "execution_count": 10,
   "metadata": {},
   "outputs": [],
   "source": [
    "async def calcEnergyDistance():\n",
    "    print('Hello ...')\n",
    "    time.sleep(1)\n",
    "    print('... World!')"
   ]
  },
  {
   "cell_type": "code",
   "execution_count": 11,
   "metadata": {},
   "outputs": [],
   "source": [
    "def async_between_callback(action):\n",
    "    loop = asyncio.new_event_loop()\n",
    "    asyncio.set_event_loop(loop)\n",
    "\n",
    "    loop.run_until_complete(action)\n",
    "    loop.close()"
   ]
  },
  {
   "cell_type": "code",
   "execution_count": 22,
   "metadata": {},
   "outputs": [
    {
     "name": "stdout",
     "output_type": "stream",
     "text": [
      "Hello ...\n",
      "Hello ...Hello ...\n",
      "\n",
      "Hello ...Hello ...\n",
      "Hello ...\n",
      "\n",
      "Hello ...Hello ...Hello ...\n",
      "\n",
      "\n",
      "Hello ...\n",
      "Hello ...\n",
      "Hello ...\n",
      "Hello ...Hello ...\n",
      "Hello ...\n",
      "\n",
      "Hello ...Hello ...\n",
      "Hello ...\n",
      "\n",
      "Hello ...\n",
      "Hello ...\n",
      "Hello ...\n",
      "Hello ...\n",
      "Hello ...Hello ...\n",
      "\n",
      "Hello ...Hello ...\n",
      "\n",
      "Hello ...\n",
      "Hello ...\n",
      "Hello ...Hello ...\n",
      "\n",
      "Hello ...\n",
      "Hello ...Hello ...\n",
      "\n",
      "Hello ...Hello ...\n",
      "\n",
      "Hello ...\n",
      "Hello ...Hello ...\n",
      "\n",
      "Hello ...\n",
      "Hello ...\n",
      "Hello ...\n",
      "Hello ...\n",
      "Hello ...\n",
      "Hello ...Hello ...\n",
      "\n",
      "Hello ...\n",
      "Hello ...\n",
      "Hello ...\n",
      "Hello ...\n",
      "Hello ...\n",
      "... World!\n",
      "... World!... World!\n",
      "\n",
      "... World!... World!... World!\n",
      "\n",
      "\n",
      "... World!... World!\n",
      "\n",
      "... World!... World!\n",
      "\n",
      "... World!\n",
      "... World!\n",
      "... World!\n",
      "... World!... World!\n",
      "\n",
      "... World!\n",
      "... World!\n",
      "... World!\n",
      "... World!\n",
      "... World!\n",
      "... World!\n",
      "... World!\n",
      "... World!\n",
      "... World!\n",
      "... World!... World!\n",
      "\n",
      "... World!\n",
      "... World!\n",
      "... World!\n",
      "... World!\n",
      "... World!... World!\n",
      "\n",
      "... World!\n",
      "... World!\n",
      "... World!\n",
      "... World!\n",
      "... World!\n",
      "... World!\n",
      "... World!\n",
      "... World!\n",
      "... World!\n",
      "... World!... World!\n",
      "\n",
      "... World!\n",
      "... World!\n",
      "... World!\n",
      "... World!\n",
      "... World!\n",
      "... World!\n",
      "... World!\n"
     ]
    }
   ],
   "source": [
    "threads = []\n",
    "for i in range(50):\n",
    "    _thread = threading.Thread(target=async_between_callback, args=(calcEnergyDistance(),))\n",
    "    threads.append(_thread)\n",
    "for _thread in threads:\n",
    "    _thread.start()\n",
    "for _thread in threads:\n",
    "    _thread.join()"
   ]
  },
  {
   "cell_type": "code",
   "execution_count": 23,
   "metadata": {},
   "outputs": [
    {
     "name": "stdout",
     "output_type": "stream",
     "text": [
      "HH\n"
     ]
    }
   ],
   "source": [
    "print(\"HH\")"
   ]
  },
  {
   "cell_type": "code",
   "execution_count": null,
   "metadata": {},
   "outputs": [],
   "source": []
  }
 ],
 "metadata": {
  "kernelspec": {
   "display_name": "Python 3",
   "language": "python",
   "name": "python3"
  },
  "language_info": {
   "codemirror_mode": {
    "name": "ipython",
    "version": 3
   },
   "file_extension": ".py",
   "mimetype": "text/x-python",
   "name": "python",
   "nbconvert_exporter": "python",
   "pygments_lexer": "ipython3",
   "version": "3.7.4"
  }
 },
 "nbformat": 4,
 "nbformat_minor": 2
}
