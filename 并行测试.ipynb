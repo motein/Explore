{
 "cells": [
  {
   "cell_type": "code",
   "execution_count": 36,
   "metadata": {},
   "outputs": [],
   "source": [
    "import asyncio\n",
    "import threading\n",
    "import time\n",
    "from datetime import timedelta\n",
    "import pandas as pd"
   ]
  },
  {
   "cell_type": "code",
   "execution_count": 37,
   "metadata": {},
   "outputs": [],
   "source": [
    "def timer(start,end):\n",
    "    elapsed = end - start\n",
    "    return str(timedelta(seconds=elapsed))"
   ]
  },
  {
   "cell_type": "code",
   "execution_count": 38,
   "metadata": {},
   "outputs": [],
   "source": [
    "async def calcEnergyDistance(key, data1, data2):\n",
    "    LEN1 = len(data1)\n",
    "    LEN2 = len(data2)\n",
    "    \n",
    "    A = 0\n",
    "    for i in range(LEN1):\n",
    "        for j in range(LEN2):\n",
    "            A = A + abs(data1[i]-data2[j])\n",
    "    A = 2*A/LEN1/LEN2\n",
    "     \n",
    "    B = 0\n",
    "    for i in range(LEN1):\n",
    "        for j in range(LEN1):\n",
    "            B = B + abs(data1[i]-data1[j])\n",
    "    B = B/LEN1/LEN1\n",
    "     \n",
    "    C = 0\n",
    "    for i in range(LEN2):\n",
    "        for j in range(LEN2):\n",
    "            C = C + abs(data2[i]-data2[j])\n",
    "    C = C/LEN2/LEN2\n",
    "    \n",
    "    Abs_Diff_Sum = 0\n",
    "    for i in range(LEN1):\n",
    "        for j in range(LEN2):\n",
    "            Abs_Diff_Sum = Abs_Diff_Sum + abs(data1[i]-data2[j])\n",
    "    ADS = 2*Abs_Diff_Sum/(LEN1*LEN2)\n",
    "     \n",
    "    results[key] = (A-B-C)/A/ADS"
   ]
  },
  {
   "cell_type": "code",
   "execution_count": 52,
   "metadata": {},
   "outputs": [],
   "source": [
    "async def calcEnergyDistance2(key, data1, data2):\n",
    "    LEN1 = len(data1)\n",
    "    LEN2 = len(data2)\n",
    "    \n",
    "    A = 0\n",
    "    B = 0\n",
    "    Abs_Diff_Sum = 0\n",
    "    for i in range(LEN1):\n",
    "        for j in range(LEN2):\n",
    "            A = A + abs(data1[i]-data2[j])\n",
    "            Abs_Diff_Sum = Abs_Diff_Sum + abs(data1[i]-data2[j])\n",
    "        for k in range(LEN1):\n",
    "            B = B + abs(data1[i]-data1[k])\n",
    "            \n",
    "    A = 2*A/LEN1/LEN2\n",
    "    B = B/LEN1/LEN1\n",
    "    ADS = 2*Abs_Diff_Sum/(LEN1*LEN2)\n",
    "     \n",
    "    C = 0\n",
    "    for i in range(LEN2):\n",
    "        for j in range(LEN2):\n",
    "            C = C + abs(data2[i]-data2[j])\n",
    "    C = C/LEN2/LEN2\n",
    "     \n",
    "    results[key] = (A-B-C)/A/ADS"
   ]
  },
  {
   "cell_type": "code",
   "execution_count": 45,
   "metadata": {},
   "outputs": [],
   "source": [
    "def async_between_callback(action):\n",
    "    loop = asyncio.new_event_loop()\n",
    "    asyncio.set_event_loop(loop)\n",
    "\n",
    "    loop.run_until_complete(action)\n",
    "    loop.close()"
   ]
  },
  {
   "cell_type": "code",
   "execution_count": 46,
   "metadata": {},
   "outputs": [],
   "source": [
    "file1 = pd.read_csv(\"file1.csv\")\n",
    "file2 = pd.read_csv(\"file2.csv\")"
   ]
  },
  {
   "cell_type": "code",
   "execution_count": 64,
   "metadata": {},
   "outputs": [
    {
     "name": "stdout",
     "output_type": "stream",
     "text": [
      "Finish within 0:00:09.166951\n"
     ]
    }
   ],
   "source": [
    "ITER = 400\n",
    "NUM = 3\n",
    "params = ['X001', 'X003', 'X008']\n",
    "threads = []\n",
    "results = {}\n",
    "\n",
    "start = time.time()\n",
    "\n",
    "for j in range(ITER):\n",
    "    for i in range(NUM):\n",
    "        param = params[i]\n",
    "        data1 = file1[param].tolist()[:100]\n",
    "        data2 = file2[param].tolist()[:100]\n",
    "        key = \"%s_%s\" % (param, j)\n",
    "        _thread = threading.Thread(target=async_between_callback, args=(calcEnergyDistance(key, data1, data2),))\n",
    "        threads.append(_thread)\n",
    "for _thread in threads:\n",
    "    _thread.start()\n",
    "for _thread in threads:\n",
    "    _thread.join()\n",
    "    \n",
    "end = time.time()\n",
    "\n",
    "print(\"Finish within \" + timer(start, end))\n",
    "# print(results)"
   ]
  },
  {
   "cell_type": "code",
   "execution_count": 63,
   "metadata": {},
   "outputs": [
    {
     "name": "stdout",
     "output_type": "stream",
     "text": [
      "Finish within 0:00:01.821830\n"
     ]
    }
   ],
   "source": [
    "ITER = 100\n",
    "NUM = 3\n",
    "params = ['X001', 'X003', 'X008']\n",
    "threads = []\n",
    "results = {}\n",
    "\n",
    "start = time.time()\n",
    "\n",
    "for j in range(ITER):\n",
    "    for i in range(NUM):\n",
    "        param = params[i]\n",
    "        data1 = file1[param].tolist()[:100]\n",
    "        data2 = file2[param].tolist()[:100]\n",
    "        key = \"%s_%s\" % (param, j)\n",
    "        _thread = threading.Thread(target=async_between_callback, args=(calcEnergyDistance2(key, data1, data2),))\n",
    "        threads.append(_thread)\n",
    "for _thread in threads:\n",
    "    _thread.start()\n",
    "for _thread in threads:\n",
    "    _thread.join()\n",
    "    \n",
    "end = time.time()\n",
    "\n",
    "print(\"Finish within \" + timer(start, end))\n",
    "# print(results)"
   ]
  },
  {
   "cell_type": "code",
   "execution_count": null,
   "metadata": {},
   "outputs": [],
   "source": []
  },
  {
   "cell_type": "code",
   "execution_count": null,
   "metadata": {},
   "outputs": [],
   "source": []
  }
 ],
 "metadata": {
  "kernelspec": {
   "display_name": "Python 3",
   "language": "python",
   "name": "python3"
  },
  "language_info": {
   "codemirror_mode": {
    "name": "ipython",
    "version": 3
   },
   "file_extension": ".py",
   "mimetype": "text/x-python",
   "name": "python",
   "nbconvert_exporter": "python",
   "pygments_lexer": "ipython3",
   "version": "3.8.5"
  }
 },
 "nbformat": 4,
 "nbformat_minor": 2
}
