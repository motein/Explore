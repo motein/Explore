{
 "cells": [
  {
   "cell_type": "code",
   "execution_count": 1,
   "metadata": {},
   "outputs": [],
   "source": [
    "%matplotlib inline\n",
    "import matplotlib.pyplot as plt\n",
    "import numpy as np\n",
    "from scipy.stats import median_absolute_deviation, iqr\n",
    "import pandas as pd\n",
    "import statistics\n",
    "from sklearn.neighbors import KernelDensity\n",
    "import scipy.optimize as optimize\n",
    "import scipy.integrate as integrate"
   ]
  },
  {
   "cell_type": "code",
   "execution_count": 132,
   "metadata": {},
   "outputs": [],
   "source": [
    "N = 150\n",
    "d1 = np.random.normal(loc = 1.0, scale = 1, size = N) # N(0, 1)\n",
    "d2 = np.random.normal(loc = 0.0, scale = 1, size = N) # N(2, 1)"
   ]
  },
  {
   "cell_type": "code",
   "execution_count": 141,
   "metadata": {},
   "outputs": [],
   "source": [
    "def calc_Silverman_bandwidth(data):\n",
    "    IQR = iqr(data)\n",
    "    s = statistics.stdev(data)\n",
    "    s_star = min(s, IQR)\n",
    "    N = len(data)\n",
    "    h = 0.9*s_star*np.power(N, -0.2)\n",
    "    return h\n",
    "\n",
    "# an estimator for the bandwidth\n",
    "# another way.\n",
    "# bandwidth too big, also a big problem.\n",
    "# provide two ways to users. This is also determined by data size."
   ]
  },
  {
   "cell_type": "code",
   "execution_count": 134,
   "metadata": {},
   "outputs": [],
   "source": [
    "def generate_models(d1, d2, band1, band2):\n",
    "    # test_data = np.linspace(np.min(d1), np.max(d1), 1000)# Test Data Set\n",
    "    pdf1 = KernelDensity(bandwidth=band1, kernel='gaussian')\n",
    "    pdf1.fit(d1[:, None]) # (n, 1)\n",
    "\n",
    "    pdf2 = KernelDensity(bandwidth=band2, kernel='gaussian')\n",
    "    pdf2.fit(d2[:, None]) # (n, 1)\n",
    "    return pdf1, pdf2\n",
    "\n",
    "def generate_inital_theta(pdf1, pdf2, N):\n",
    "    mean_1 = np.mean(pdf1.sample(N))\n",
    "    mean_2 = np.mean(pdf2.sample(N))\n",
    "    w = mean_1/mean_2\n",
    "    b = mean_1 - w * mean_2\n",
    "    return np.array([w, b])"
   ]
  },
  {
   "cell_type": "code",
   "execution_count": 135,
   "metadata": {},
   "outputs": [],
   "source": [
    "band1 = calc_Silverman_bandwidth(d1)\n",
    "band2 = calc_Silverman_bandwidth(d2)\n",
    "pdf1, pdf2 = generate_models(d1, d2, band1, band2)"
   ]
  },
  {
   "cell_type": "code",
   "execution_count": 136,
   "metadata": {},
   "outputs": [
    {
     "name": "stdout",
     "output_type": "stream",
     "text": [
      "(1000,)\n"
     ]
    },
    {
     "data": {
      "image/png": "[encoded data removed]",
      "text/plain": [
       "<Figure size 432x288 with 1 Axes>"
      ]
     },
     "metadata": {
      "needs_background": "light"
     },
     "output_type": "display_data"
    }
   ],
   "source": [
    "Wafer_Test = np.linspace(-4, 8, 1000)# Test Data Set\n",
    "# Wafer_Test = np.reshape(pdf2.sample(1000), 1000)\n",
    "\n",
    "logprob1 = pdf1.score_samples(Wafer_Test[:, None])\n",
    "logprob2 = pdf2.score_samples(Wafer_Test[:, None])\n",
    "plt.fill_between(Wafer_Test, np.exp(logprob1), alpha=0.5)\n",
    "plt.fill_between(Wafer_Test, np.exp(logprob2), alpha=0.2)\n",
    "print(np.shape(np.exp(logprob1)))"
   ]
  },
  {
   "cell_type": "markdown",
   "metadata": {},
   "source": [
    "$\\displaystyle \\large \\min \\{ \\sum (|\\text{pdf1}(x)- \\text{pdf2}(wx+b)|)\\}$ \\\n",
    "\\\n",
    "\\\n",
    "暂时不考虑约束条件"
   ]
  },
  {
   "cell_type": "code",
   "execution_count": 137,
   "metadata": {},
   "outputs": [],
   "source": [
    "test_data = pdf2.sample(2000) # test data for optimization\n",
    "def opt_function(x):\n",
    "#     test_data = Wafer_Test[:, None]\n",
    "    res1 = np.exp(pdf1.score_samples(test_data))\n",
    "    res2 = np.exp(pdf2.score_samples(test_data*x[0]+x[1]))\n",
    "    return sum(abs(res1 - res2))"
   ]
  },
  {
   "cell_type": "code",
   "execution_count": 138,
   "metadata": {},
   "outputs": [
    {
     "name": "stdout",
     "output_type": "stream",
     "text": [
      "Optimization terminated successfully.\n",
      "         Current function value: 21.466685\n",
      "         Iterations: 78\n",
      "         Function evaluations: 149\n"
     ]
    },
    {
     "data": {
      "text/plain": [
       "array([ 0.94368547, -0.91925873])"
      ]
     },
     "execution_count": 138,
     "metadata": {},
     "output_type": "execute_result"
    }
   ],
   "source": [
    "x0 = [1, 1]\n",
    "res = optimize.minimize(opt_function, x0, method='Nelder-Mead', tol=1e-8,options={'disp': True})\n",
    "res.x"
   ]
  },
  {
   "cell_type": "code",
   "execution_count": 139,
   "metadata": {},
   "outputs": [
    {
     "data": {
      "text/plain": [
       "21.466685114951115"
      ]
     },
     "execution_count": 139,
     "metadata": {},
     "output_type": "execute_result"
    }
   ],
   "source": [
    "opt_function(res.x)"
   ]
  },
  {
   "cell_type": "code",
   "execution_count": 140,
   "metadata": {},
   "outputs": [
    {
     "name": "stdout",
     "output_type": "stream",
     "text": [
      "(1000,)\n"
     ]
    },
    {
     "data": {
      "image/png": "[encoded data removed]",
      "text/plain": [
       "<Figure size 432x288 with 1 Axes>"
      ]
     },
     "metadata": {
      "needs_background": "light"
     },
     "output_type": "display_data"
    }
   ],
   "source": [
    "logprob1 = pdf1.score_samples(Wafer_Test[:, None])\n",
    "# logprob2 = pdf2.score_samples(Wafer_Test[:, None]*res.x[0]+ res.x[1])\n",
    "logprob2 = pdf2.score_samples(Wafer_Test[:, None]*res.x[0]+ res.x[1])\n",
    "plt.fill_between(Wafer_Test, np.exp(logprob1), alpha=0.5)\n",
    "plt.fill_between(Wafer_Test, np.exp(logprob2), alpha=0.2)\n",
    "print(np.shape(np.exp(logprob1)))"
   ]
  },
  {
   "cell_type": "code",
   "execution_count": 130,
   "metadata": {},
   "outputs": [
    {
     "data": {
      "text/plain": [
       "(0.9903407198402913, 6.049755923606359e-09)"
      ]
     },
     "execution_count": 130,
     "metadata": {},
     "output_type": "execute_result"
    }
   ],
   "source": [
    "def pdf_wapper(x, pdf, w, b):\n",
    "    return np.exp(pdf.score_samples([[x*w+b]]))[0]\n",
    "\n",
    "def cdf_calculation(pdf, w, b):\n",
    "    return integrate.quad(pdf_wapper, -np.inf, np.inf, args=(pdf,w, b))\n",
    "\n",
    "def BCMultiper(x, f1, f2, w, b):\n",
    "    y = np.exp(f1.score_samples([[x]]))[0] * np.exp(f2.score_samples([[x*w+b]]))[0]\n",
    "    return np.sqrt(y)\n",
    "\n",
    "def BC(f1, f2, w, b):\n",
    "    intgrl, abserr = cdf_calculation(pdf2, w, b)\n",
    "#     if abs(intgrl - 1) > 1e-5:\n",
    "#         return (0, 0)\n",
    "    \n",
    "    return integrate.quad(BCMultiper, -np.inf, np.inf, args=(pdf1,pdf2, w, b))\n",
    "\n",
    "BC(pdf1, pdf2, 1, -1)\n",
    "# cdf_calculation(pdf1, 1, 1)"
   ]
  },
  {
   "cell_type": "code",
   "execution_count": 131,
   "metadata": {},
   "outputs": [
    {
     "data": {
      "text/plain": [
       "(1.0484902635217077, -1.2698167327015353)"
      ]
     },
     "execution_count": 131,
     "metadata": {},
     "output_type": "execute_result"
    }
   ],
   "source": [
    "res.x[0], res.x[1]"
   ]
  },
  {
   "cell_type": "code",
   "execution_count": 70,
   "metadata": {},
   "outputs": [
    {
     "data": {
      "text/plain": [
       "(0.9926077429914704, 7.486453581776576e-09)"
      ]
     },
     "execution_count": 70,
     "metadata": {},
     "output_type": "execute_result"
    }
   ],
   "source": [
    "BC(pdf1, pdf2, res.x[0], res.x[1])"
   ]
  },
  {
   "cell_type": "markdown",
   "metadata": {},
   "source": [
    "$\\large \\displaystyle \\min \\{-\\int \\text{pdf1}(x) \\cdot \\text{pdf2}(wx+b) dx\\}\\\\\n",
    "\\int \\text{pdf1}(x) = 1, \\int \\text{pdf2}(wx+b)dx = 1 \\\\\n",
    "\\text{abs}(\\int\\text{pdf2}(wx+b)dx -1) \\leq 10^{-5}\n",
    "$"
   ]
  },
  {
   "cell_type": "code",
   "execution_count": 50,
   "metadata": {},
   "outputs": [],
   "source": [
    "def BC2(f1, f2, w, b):\n",
    "    intgrl, abserr = cdf_calculation(pdf2, w, b)\n",
    "    if abs(intgrl - 1) > 1e-4:\n",
    "        return (0, 0)\n",
    "    \n",
    "    return integrate.quad(BCMultiper, -np.inf, np.inf, args=(pdf1,pdf2, w, b))\n",
    "\n",
    "def opt_function_int(x):\n",
    "    intgrl, abserr = BC2(pdf1, pdf2, x[0], x[1])\n",
    "    return -intgrl"
   ]
  },
  {
   "cell_type": "code",
   "execution_count": 54,
   "metadata": {},
   "outputs": [
    {
     "name": "stdout",
     "output_type": "stream",
     "text": [
      "Warning: Maximum number of iterations has been exceeded.\n"
     ]
    },
    {
     "data": {
      "text/plain": [
       "array([ 1.00009766, -1.88095703])"
      ]
     },
     "execution_count": 54,
     "metadata": {},
     "output_type": "execute_result"
    }
   ],
   "source": [
    "res=optimize.minimize(opt_function_int, [1, -2], method='nelder-mead', tol=1e-8, options={'maxiter':200,'disp':True})\n",
    "res.x"
   ]
  },
  {
   "cell_type": "code",
   "execution_count": 58,
   "metadata": {},
   "outputs": [],
   "source": [
    "# opt_function_int(res.x)"
   ]
  },
  {
   "cell_type": "code",
   "execution_count": 57,
   "metadata": {},
   "outputs": [
    {
     "data": {
      "text/plain": [
       "(0.9932514098798351, 6.569739011683264e-09)"
      ]
     },
     "execution_count": 57,
     "metadata": {},
     "output_type": "execute_result"
    }
   ],
   "source": [
    "BC(pdf1, pdf2, res.x[0], res.x[1])"
   ]
  },
  {
   "cell_type": "markdown",
   "metadata": {},
   "source": [
    "通过峰值判断"
   ]
  },
  {
   "cell_type": "code",
   "execution_count": 17,
   "metadata": {},
   "outputs": [
    {
     "data": {
      "text/plain": [
       "-0.37945526827438664"
      ]
     },
     "execution_count": 17,
     "metadata": {},
     "output_type": "execute_result"
    }
   ],
   "source": [
    "def pdf_wrapper_for_peak(x, pdf):\n",
    "    return -np.exp(pdf.score_samples([x]))[0]\n",
    "\n",
    "pdf_wrapper_for_peak([1], pdf1)"
   ]
  },
  {
   "cell_type": "code",
   "execution_count": 19,
   "metadata": {},
   "outputs": [
    {
     "name": "stdout",
     "output_type": "stream",
     "text": [
      "Optimization terminated successfully.\n",
      "         Current function value: -0.384148\n",
      "         Iterations: 46\n",
      "         Function evaluations: 100\n"
     ]
    },
    {
     "data": {
      "text/plain": [
       "array([1.15002972])"
      ]
     },
     "execution_count": 19,
     "metadata": {},
     "output_type": "execute_result"
    }
   ],
   "source": [
    "res1=optimize.minimize(pdf_wrapper_for_peak, [0], args=(pdf1,), method='nelder-mead',options={'xtol': 1e-10, 'disp':True})\n",
    "res1.x"
   ]
  },
  {
   "cell_type": "code",
   "execution_count": 108,
   "metadata": {},
   "outputs": [
    {
     "data": {
      "text/plain": [
       "0.3805501773244744"
      ]
     },
     "execution_count": 108,
     "metadata": {},
     "output_type": "execute_result"
    }
   ],
   "source": [
    "abs(pdf1_wrapper(res1.x))"
   ]
  },
  {
   "cell_type": "code",
   "execution_count": 109,
   "metadata": {},
   "outputs": [
    {
     "data": {
      "text/plain": [
       "-0.44223650932190667"
      ]
     },
     "execution_count": 109,
     "metadata": {},
     "output_type": "execute_result"
    }
   ],
   "source": [
    "def pdf2_wrapper(x):\n",
    "    return -np.exp(pdf2.score_samples([x]))[0]\n",
    "\n",
    "pdf2_wrapper([2])"
   ]
  },
  {
   "cell_type": "code",
   "execution_count": 110,
   "metadata": {},
   "outputs": [
    {
     "name": "stdout",
     "output_type": "stream",
     "text": [
      "Optimization terminated successfully.\n",
      "         Current function value: -0.447062\n",
      "         Iterations: 47\n",
      "         Function evaluations: 99\n"
     ]
    },
    {
     "data": {
      "text/plain": [
       "array([2.10622787])"
      ]
     },
     "execution_count": 110,
     "metadata": {},
     "output_type": "execute_result"
    }
   ],
   "source": [
    "res2=optimize.minimize(pdf2_wrapper, [0], method='nelder-mead',options={'xtol': 1e-10, 'disp':True})\n",
    "res2.x"
   ]
  },
  {
   "cell_type": "code",
   "execution_count": 111,
   "metadata": {},
   "outputs": [
    {
     "data": {
      "text/plain": [
       "0.44706238739223847"
      ]
     },
     "execution_count": 111,
     "metadata": {},
     "output_type": "execute_result"
    }
   ],
   "source": [
    "abs(pdf2_wrapper(res2.x))"
   ]
  },
  {
   "cell_type": "code",
   "execution_count": 112,
   "metadata": {},
   "outputs": [
    {
     "data": {
      "text/plain": [
       "array([1.28923755])"
      ]
     },
     "execution_count": 112,
     "metadata": {},
     "output_type": "execute_result"
    }
   ],
   "source": [
    "res2.x - res1.x"
   ]
  },
  {
   "cell_type": "code",
   "execution_count": 119,
   "metadata": {},
   "outputs": [
    {
     "data": {
      "text/plain": [
       "(0.43685920601014927, 2.137507623244999e-09)"
      ]
     },
     "execution_count": 119,
     "metadata": {},
     "output_type": "execute_result"
    }
   ],
   "source": [
    "integrate.quad(pdf_wapper, -np.inf, res1.x[0], args=(pdf1, 1, 0))"
   ]
  },
  {
   "cell_type": "code",
   "execution_count": 120,
   "metadata": {},
   "outputs": [
    {
     "data": {
      "text/plain": [
       "(0.529927343147912, 7.641431292894731e-09)"
      ]
     },
     "execution_count": 120,
     "metadata": {},
     "output_type": "execute_result"
    }
   ],
   "source": [
    "integrate.quad(pdf_wapper, -np.inf, res2.x[0], args=(pdf2, 1, 0))"
   ]
  },
  {
   "cell_type": "code",
   "execution_count": 121,
   "metadata": {},
   "outputs": [
    {
     "data": {
      "text/plain": [
       "0.8243756651904149"
      ]
     },
     "execution_count": 121,
     "metadata": {},
     "output_type": "execute_result"
    }
   ],
   "source": [
    "0.43685920601014927/0.529927343147912"
   ]
  },
  {
   "cell_type": "markdown",
   "metadata": {},
   "source": [
    "CDF方法，通过解方程实现。然后，根据分位数，得到方程的解。\n",
    "\n",
    "$\\large \\displaystyle x_2 = ax_1 + b$"
   ]
  },
  {
   "cell_type": "code",
   "execution_count": 150,
   "metadata": {},
   "outputs": [],
   "source": [
    "def cdf1_wrapper(x, *q_v):\n",
    "    v = q_v[0]\n",
    "    return integrate.quad(pdf_wapper, -np.inf, x, args=(pdf1, 1, 0))[0] -v\n",
    "\n",
    "def cdf2_wrapper(x, *q_v):\n",
    "    v = q_v[0]\n",
    "    return integrate.quad(pdf_wapper, -np.inf, x, args=(pdf2, 1, 0))[0] -v"
   ]
  },
  {
   "cell_type": "code",
   "execution_count": 151,
   "metadata": {},
   "outputs": [
    {
     "data": {
      "text/plain": [
       "array([0.98406564])"
      ]
     },
     "execution_count": 151,
     "metadata": {},
     "output_type": "execute_result"
    }
   ],
   "source": [
    "optimize.fsolve(cdf1_wrapper, 0.1, args=(0.5))"
   ]
  },
  {
   "cell_type": "code",
   "execution_count": 152,
   "metadata": {},
   "outputs": [
    {
     "data": {
      "text/plain": [
       "array([2.03918498])"
      ]
     },
     "execution_count": 152,
     "metadata": {},
     "output_type": "execute_result"
    }
   ],
   "source": [
    "optimize.fsolve(cdf2_wrapper, 0.1, args=(0.5))"
   ]
  },
  {
   "cell_type": "code",
   "execution_count": 153,
   "metadata": {},
   "outputs": [
    {
     "data": {
      "text/plain": [
       "array([0.44101427])"
      ]
     },
     "execution_count": 153,
     "metadata": {},
     "output_type": "execute_result"
    }
   ],
   "source": [
    "optimize.fsolve(cdf1_wrapper, 0.1, args=(0.3))"
   ]
  },
  {
   "cell_type": "code",
   "execution_count": 154,
   "metadata": {},
   "outputs": [
    {
     "data": {
      "text/plain": [
       "array([1.54768717])"
      ]
     },
     "execution_count": 154,
     "metadata": {},
     "output_type": "execute_result"
    }
   ],
   "source": [
    "optimize.fsolve(cdf2_wrapper, 0.1, args=(0.3))"
   ]
  },
  {
   "cell_type": "code",
   "execution_count": 155,
   "metadata": {},
   "outputs": [
    {
     "data": {
      "text/plain": [
       "0.9050668816101138"
      ]
     },
     "execution_count": 155,
     "metadata": {},
     "output_type": "execute_result"
    }
   ],
   "source": [
    "a = (2.03918498 - 1.54768717) / (0.98406564-0.44101427)\n",
    "a"
   ]
  },
  {
   "cell_type": "code",
   "execution_count": 156,
   "metadata": {},
   "outputs": [
    {
     "data": {
      "text/plain": [
       "1.148539759905539"
      ]
     },
     "execution_count": 156,
     "metadata": {},
     "output_type": "execute_result"
    }
   ],
   "source": [
    "b = 2.03918498 - a*0.98406564\n",
    "b"
   ]
  },
  {
   "cell_type": "code",
   "execution_count": 157,
   "metadata": {},
   "outputs": [],
   "source": [
    "from sklearn import linear_model"
   ]
  },
  {
   "cell_type": "code",
   "execution_count": 158,
   "metadata": {},
   "outputs": [],
   "source": [
    "model = linear_model.LinearRegression()\n",
    "# nonlinear regression."
   ]
  },
  {
   "cell_type": "code",
   "execution_count": 160,
   "metadata": {},
   "outputs": [
    {
     "data": {
      "text/plain": [
       "LinearRegression(copy_X=True, fit_intercept=True, n_jobs=None, normalize=False)"
      ]
     },
     "execution_count": 160,
     "metadata": {},
     "output_type": "execute_result"
    }
   ],
   "source": [
    "model.fit([[0.44101427], [0.98406564]],[[1.54768717],[2.03918498]])"
   ]
  },
  {
   "cell_type": "code",
   "execution_count": 162,
   "metadata": {},
   "outputs": [
    {
     "data": {
      "text/plain": [
       "(array([[0.90506688]]), array([1.14853976]))"
      ]
     },
     "execution_count": 162,
     "metadata": {},
     "output_type": "execute_result"
    }
   ],
   "source": [
    "model.coef_, model.intercept_"
   ]
  },
  {
   "cell_type": "code",
   "execution_count": 2,
   "metadata": {},
   "outputs": [
    {
     "data": {
      "text/plain": [
       "array([0.88697599])"
      ]
     },
     "execution_count": 2,
     "metadata": {},
     "output_type": "execute_result"
    }
   ],
   "source": [
    "np.random.rand(1)"
   ]
  },
  {
   "cell_type": "code",
   "execution_count": null,
   "metadata": {},
   "outputs": [],
   "source": []
  }
 ],
 "metadata": {
  "kernelspec": {
   "display_name": "Python 3",
   "language": "python",
   "name": "python3"
  },
  "language_info": {
   "codemirror_mode": {
    "name": "ipython",
    "version": 3
   },
   "file_extension": ".py",
   "mimetype": "text/x-python",
   "name": "python",
   "nbconvert_exporter": "python",
   "pygments_lexer": "ipython3",
   "version": "3.7.4"
  }
 },
 "nbformat": 4,
 "nbformat_minor": 2
}
