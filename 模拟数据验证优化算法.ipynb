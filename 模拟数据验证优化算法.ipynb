{
 "cells": [
  {
   "cell_type": "code",
   "execution_count": 28,
   "metadata": {},
   "outputs": [],
   "source": [
    "%matplotlib inline\n",
    "import matplotlib.pyplot as plt\n",
    "import numpy as np\n",
    "from scipy.stats import median_absolute_deviation, iqr\n",
    "import pandas as pd\n",
    "import statistics\n",
    "from sklearn.neighbors import KernelDensity\n",
    "import scipy.optimize as optimize"
   ]
  },
  {
   "cell_type": "code",
   "execution_count": 42,
   "metadata": {},
   "outputs": [],
   "source": [
    "N = 1000\n",
    "d1 = np.random.normal(loc = 1.0, scale = 1.0, size = N) # N(0, 1)\n",
    "d2 = np.random.normal(loc = 2.0, scale = 1.0, size = N) # N(2, 1)"
   ]
  },
  {
   "cell_type": "code",
   "execution_count": 43,
   "metadata": {},
   "outputs": [],
   "source": [
    "def calc_Silverman_bandwidth(data):\n",
    "    IQR = iqr(data)\n",
    "    s = statistics.stdev(data)\n",
    "    s_star = min(s, IQR)\n",
    "    N = len(data)\n",
    "    h = 0.9*s_star*np.power(N, -0.2)\n",
    "    return h"
   ]
  },
  {
   "cell_type": "code",
   "execution_count": 44,
   "metadata": {},
   "outputs": [],
   "source": [
    "def generate_models(d1, d2, band1, band2):\n",
    "    # test_data = np.linspace(np.min(d1), np.max(d1), 1000)# Test Data Set\n",
    "    pdf1 = KernelDensity(bandwidth=band1, kernel='gaussian')\n",
    "    pdf1.fit(d1[:, None]) # (n, 1)\n",
    "\n",
    "    pdf2 = KernelDensity(bandwidth=band2, kernel='gaussian')\n",
    "    pdf2.fit(d2[:, None]) # (n, 1)\n",
    "    return pdf1, pdf2\n",
    "\n",
    "def generate_inital_theta(pdf1, pdf2, N):\n",
    "    mean_1 = np.mean(pdf1.sample(N))\n",
    "    mean_2 = np.mean(pdf2.sample(N))\n",
    "    w = mean_1/mean_2\n",
    "    b = mean_1 - w * mean_2\n",
    "    return np.array([w, b])"
   ]
  },
  {
   "cell_type": "code",
   "execution_count": 45,
   "metadata": {},
   "outputs": [],
   "source": [
    "band1 = calc_Silverman_bandwidth(d1)\n",
    "band2 = calc_Silverman_bandwidth(d2)\n",
    "pdf1, pdf2 = generate_models(d1, d2, band1, band2)"
   ]
  },
  {
   "cell_type": "code",
   "execution_count": 46,
   "metadata": {},
   "outputs": [
    {
     "name": "stdout",
     "output_type": "stream",
     "text": [
      "(1000,)\n"
     ]
    },
    {
     "data": {
      "image/png": "[encoded data removed]",
      "text/plain": [
       "<Figure size 432x288 with 1 Axes>"
      ]
     },
     "metadata": {
      "needs_background": "light"
     },
     "output_type": "display_data"
    }
   ],
   "source": [
    "Wafer_Test = np.linspace(-4, 8, 1000)# Test Data Set\n",
    "\n",
    "logprob1 = pdf1.score_samples(Wafer_Test[:, None])\n",
    "logprob2 = pdf2.score_samples(Wafer_Test[:, None])\n",
    "plt.fill_between(Wafer_Test, np.exp(logprob1), alpha=0.5)\n",
    "plt.fill_between(Wafer_Test, np.exp(logprob2), alpha=0.2)\n",
    "print(np.shape(np.exp(logprob1)))"
   ]
  },
  {
   "cell_type": "code",
   "execution_count": 97,
   "metadata": {},
   "outputs": [],
   "source": [
    "def opt_function(x):\n",
    "    t_data = Wafer_Test[:, None]\n",
    "    res1 = np.exp(pdf1.score_samples(t_data))\n",
    "    res2 = np.exp(pdf1.score_samples(t_data*x[0]+x[1]))\n",
    "    return sum(abs(res1 - res2))"
   ]
  },
  {
   "cell_type": "code",
   "execution_count": 98,
   "metadata": {},
   "outputs": [
    {
     "data": {
      "text/plain": [
       "[1, 1]"
      ]
     },
     "execution_count": 98,
     "metadata": {},
     "output_type": "execute_result"
    }
   ],
   "source": [
    "x0 = [1, 1]\n",
    "x0"
   ]
  },
  {
   "cell_type": "code",
   "execution_count": 99,
   "metadata": {},
   "outputs": [
    {
     "name": "stdout",
     "output_type": "stream",
     "text": [
      "Optimization terminated successfully.\n",
      "         Current function value: 0.000000\n",
      "         Iterations: 91\n",
      "         Function evaluations: 175\n"
     ]
    },
    {
     "data": {
      "text/plain": [
       "array([1.00000000e+00, 3.10258465e-11])"
      ]
     },
     "execution_count": 99,
     "metadata": {},
     "output_type": "execute_result"
    }
   ],
   "source": [
    "res = optimize.minimize(opt_function, x0, method='nelder-mead',options={'xatol': 1e-10, 'disp': True})\n",
    "res.x"
   ]
  },
  {
   "cell_type": "code",
   "execution_count": 91,
   "metadata": {},
   "outputs": [
    {
     "data": {
      "text/plain": [
       "1.75800409894736e-09"
      ]
     },
     "execution_count": 91,
     "metadata": {},
     "output_type": "execute_result"
    }
   ],
   "source": [
    "opt_function(res.x)"
   ]
  },
  {
   "cell_type": "code",
   "execution_count": 93,
   "metadata": {},
   "outputs": [
    {
     "name": "stdout",
     "output_type": "stream",
     "text": [
      "(1000,)\n"
     ]
    },
    {
     "data": {
      "image/png": "[encoded data removed]",
      "text/plain": [
       "<Figure size 432x288 with 1 Axes>"
      ]
     },
     "metadata": {
      "needs_background": "light"
     },
     "output_type": "display_data"
    }
   ],
   "source": [
    "logprob1 = pdf1.score_samples(Wafer_Test[:, None])\n",
    "# logprob2 = pdf2.score_samples(Wafer_Test[:, None]*res.x[0]+ res.x[1])\n",
    "logprob2 = pdf2.score_samples(Wafer_Test[:, None]*1+ 1)\n",
    "plt.fill_between(Wafer_Test, np.exp(logprob1), alpha=0.5)\n",
    "plt.fill_between(Wafer_Test, np.exp(logprob2), alpha=0.2)\n",
    "print(np.shape(np.exp(logprob1)))"
   ]
  },
  {
   "cell_type": "code",
   "execution_count": 94,
   "metadata": {},
   "outputs": [
    {
     "data": {
      "text/plain": [
       "63.27440630720973"
      ]
     },
     "execution_count": 94,
     "metadata": {},
     "output_type": "execute_result"
    }
   ],
   "source": [
    "opt_function([1,1])"
   ]
  },
  {
   "cell_type": "code",
   "execution_count": 69,
   "metadata": {},
   "outputs": [
    {
     "data": {
      "text/plain": [
       "array([0.37955055, 0.20373722])"
      ]
     },
     "execution_count": 69,
     "metadata": {},
     "output_type": "execute_result"
    }
   ],
   "source": [
    "tt = np.array([[1] ,[2]])\n",
    "r1 = np.exp(pdf1.score_samples(tt))\n",
    "r1"
   ]
  },
  {
   "cell_type": "code",
   "execution_count": 88,
   "metadata": {},
   "outputs": [
    {
     "data": {
      "text/plain": [
       "array([0.23727232, 0.38005989])"
      ]
     },
     "execution_count": 88,
     "metadata": {},
     "output_type": "execute_result"
    }
   ],
   "source": [
    "r2 = np.exp(pdf2.score_samples(tt+0))\n",
    "r2"
   ]
  },
  {
   "cell_type": "code",
   "execution_count": 89,
   "metadata": {},
   "outputs": [
    {
     "data": {
      "text/plain": [
       "array([[2],\n",
       "       [3]])"
      ]
     },
     "execution_count": 89,
     "metadata": {},
     "output_type": "execute_result"
    }
   ],
   "source": [
    "tt + 1"
   ]
  },
  {
   "cell_type": "code",
   "execution_count": 90,
   "metadata": {},
   "outputs": [
    {
     "data": {
      "text/plain": [
       "0.3186008952751843"
      ]
     },
     "execution_count": 90,
     "metadata": {},
     "output_type": "execute_result"
    }
   ],
   "source": [
    "sum(abs(r1 - r2))"
   ]
  },
  {
   "cell_type": "code",
   "execution_count": null,
   "metadata": {},
   "outputs": [],
   "source": []
  }
 ],
 "metadata": {
  "kernelspec": {
   "display_name": "Python 3",
   "language": "python",
   "name": "python3"
  },
  "language_info": {
   "codemirror_mode": {
    "name": "ipython",
    "version": 3
   },
   "file_extension": ".py",
   "mimetype": "text/x-python",
   "name": "python",
   "nbconvert_exporter": "python",
   "pygments_lexer": "ipython3",
   "version": "3.7.4"
  }
 },
 "nbformat": 4,
 "nbformat_minor": 2
}
