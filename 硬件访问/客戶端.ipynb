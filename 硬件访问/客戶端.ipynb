{
 "cells": [
  {
   "cell_type": "code",
   "execution_count": 5,
   "metadata": {},
   "outputs": [],
   "source": [
    "import clr\n",
    "from System.Net import NetworkInformation, Dns, Sockets, IPAddress\n",
    "from System import AsyncCallback\n",
    "clr.AddReference('System.Threading')\n",
    "from System.Threading import ManualResetEvent,WaitHandle"
   ]
  },
  {
   "cell_type": "code",
   "execution_count": 11,
   "metadata": {},
   "outputs": [],
   "source": [
    "tcpClient = Sockets.TcpClient()"
   ]
  },
  {
   "cell_type": "code",
   "execution_count": 13,
   "metadata": {},
   "outputs": [
    {
     "ename": "SocketException",
     "evalue": "A connect request was made on an already connected socket\n   at System.Net.Sockets.TcpClient.Connect(String hostname, Int32 port)",
     "output_type": "error",
     "traceback": [
      "\u001b[1;31m---------------------------------------------------------------------------\u001b[0m",
      "\u001b[1;31mSocketException\u001b[0m                           Traceback (most recent call last)",
      "\u001b[1;32m<ipython-input-13-50dad19a5853>\u001b[0m in \u001b[0;36m<module>\u001b[1;34m\u001b[0m\n\u001b[1;32m----> 1\u001b[1;33m \u001b[0mtcpClient\u001b[0m\u001b[1;33m.\u001b[0m\u001b[0mConnect\u001b[0m \u001b[1;33m(\u001b[0m\u001b[1;34m\"127.0.0.1\"\u001b[0m\u001b[1;33m,\u001b[0m \u001b[1;36m10000\u001b[0m\u001b[1;33m)\u001b[0m\u001b[1;33m;\u001b[0m\u001b[1;33m\u001b[0m\u001b[1;33m\u001b[0m\u001b[0m\n\u001b[0m",
      "\u001b[1;31mSocketException\u001b[0m: A connect request was made on an already connected socket\n   at System.Net.Sockets.TcpClient.Connect(String hostname, Int32 port)"
     ]
    }
   ],
   "source": [
    "tcpClient.Connect (\"127.0.0.1\", 10000);"
   ]
  },
  {
   "cell_type": "code",
   "execution_count": null,
   "metadata": {},
   "outputs": [],
   "source": []
  }
 ],
 "metadata": {
  "kernelspec": {
   "display_name": "Python 3",
   "language": "python",
   "name": "python3"
  },
  "language_info": {
   "codemirror_mode": {
    "name": "ipython",
    "version": 3
   },
   "file_extension": ".py",
   "mimetype": "text/x-python",
   "name": "python",
   "nbconvert_exporter": "python",
   "pygments_lexer": "ipython3",
   "version": "3.7.4"
  }
 },
 "nbformat": 4,
 "nbformat_minor": 2
}
