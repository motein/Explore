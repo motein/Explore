{
 "cells": [
  {
   "cell_type": "code",
   "execution_count": 14,
   "metadata": {},
   "outputs": [],
   "source": [
    "#import pythoncom\n",
    "from win32com.client.gencache import EnsureDispatch"
   ]
  },
  {
   "cell_type": "code",
   "execution_count": 15,
   "metadata": {},
   "outputs": [],
   "source": [
    "fwMgr = EnsureDispatch('HNetCfg.FwMgr', 0)"
   ]
  },
  {
   "cell_type": "code",
   "execution_count": 16,
   "metadata": {},
   "outputs": [],
   "source": [
    "profile = fwMgr.LocalPolicy.CurrentProfile"
   ]
  },
  {
   "cell_type": "code",
   "execution_count": 17,
   "metadata": {},
   "outputs": [
    {
     "name": "stdout",
     "output_type": "stream",
     "text": [
      "HTTP Port\n",
      "mDNS Port\n",
      "Hislip Port\n",
      "RPC Port\n",
      "sunrpcAllow\n",
      "sunrpcAllow\n",
      "lxiAllow\n",
      "lxiAllow\n",
      "lxiAllow\n",
      "lxiAllow\n",
      "Keysight Communications Fabric\n",
      "Keysight License Manager Notifications\n",
      "Keysight License Service Alerts\n",
      "Keysight License Service Management\n",
      "Hislip Port\n",
      "mDNS Port\n",
      "HTTP Port\n",
      "Instrument Socket\n",
      "Instrument Telnet\n",
      "Port 3306\n",
      "Port 33060\n"
     ]
    }
   ],
   "source": [
    "for i in profile.GloballyOpenPorts:\n",
    "    print(i.Name)"
   ]
  },
  {
   "cell_type": "code",
   "execution_count": 18,
   "metadata": {},
   "outputs": [
    {
     "name": "stdout",
     "output_type": "stream",
     "text": [
      "<win32com.gen_py.58FBCF7C-E7A9-467C-80B3-FC65E8FCCA08x0x1x0.INetFwOpenPort instance at 0x2953280685512>\n"
     ]
    }
   ],
   "source": [
    "port = EnsureDispatch('HNetCfg.FWOpenPort', 0)\n",
    "print(port)"
   ]
  },
  {
   "cell_type": "code",
   "execution_count": 19,
   "metadata": {},
   "outputs": [
    {
     "name": "stdout",
     "output_type": "stream",
     "text": [
      "True\n"
     ]
    }
   ],
   "source": [
    "print(port.Enabled)"
   ]
  },
  {
   "cell_type": "code",
   "execution_count": null,
   "metadata": {},
   "outputs": [],
   "source": []
  }
 ],
 "metadata": {
  "kernelspec": {
   "display_name": "Python 3",
   "language": "python",
   "name": "python3"
  },
  "language_info": {
   "codemirror_mode": {
    "name": "ipython",
    "version": 3
   },
   "file_extension": ".py",
   "mimetype": "text/x-python",
   "name": "python",
   "nbconvert_exporter": "python",
   "pygments_lexer": "ipython3",
   "version": "3.7.4"
  }
 },
 "nbformat": 4,
 "nbformat_minor": 2
}
