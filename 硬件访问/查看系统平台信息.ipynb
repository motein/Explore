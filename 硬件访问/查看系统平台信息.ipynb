{
 "cells": [
  {
   "cell_type": "markdown",
   "metadata": {},
   "source": [
    "## 参考\n",
    "1. [platform — Access to underlying platform’s identifying](https://docs.python.org/3/library/platform.html)"
   ]
  },
  {
   "cell_type": "code",
   "execution_count": 1,
   "metadata": {},
   "outputs": [],
   "source": [
    "import platform"
   ]
  },
  {
   "cell_type": "code",
   "execution_count": 2,
   "metadata": {},
   "outputs": [
    {
     "name": "stdout",
     "output_type": "stream",
     "text": [
      "uname =  uname_result(system='Windows', node='6CR421WNJQ', release='10', version='10.0.18362', machine='AMD64', processor='Intel64 Family 6 Model 45 Stepping 7, GenuineIntel')\n"
     ]
    }
   ],
   "source": [
    "print(\"uname = \", platform.uname())"
   ]
  },
  {
   "cell_type": "code",
   "execution_count": 3,
   "metadata": {},
   "outputs": [
    {
     "name": "stdout",
     "output_type": "stream",
     "text": [
      "architecture =  ('64bit', 'WindowsPE')\n"
     ]
    }
   ],
   "source": [
    "print(\"architecture = \", platform.architecture())"
   ]
  },
  {
   "cell_type": "code",
   "execution_count": 4,
   "metadata": {},
   "outputs": [
    {
     "name": "stdout",
     "output_type": "stream",
     "text": [
      "machine =  AMD64\n"
     ]
    }
   ],
   "source": [
    "print(\"machine = \", platform.machine())"
   ]
  },
  {
   "cell_type": "code",
   "execution_count": 5,
   "metadata": {},
   "outputs": [
    {
     "name": "stdout",
     "output_type": "stream",
     "text": [
      "node =  6CR421WNJQ\n"
     ]
    }
   ],
   "source": [
    "print(\"node = \", platform.node())"
   ]
  },
  {
   "cell_type": "code",
   "execution_count": 6,
   "metadata": {},
   "outputs": [
    {
     "name": "stdout",
     "output_type": "stream",
     "text": [
      "platformInfo =  Windows-10-10.0.18362-SP0\n"
     ]
    }
   ],
   "source": [
    "print(\"platformInfo = \", platform.platform())"
   ]
  },
  {
   "cell_type": "code",
   "execution_count": 7,
   "metadata": {},
   "outputs": [
    {
     "name": "stdout",
     "output_type": "stream",
     "text": [
      "processor =  Intel64 Family 6 Model 45 Stepping 7, GenuineIntel\n"
     ]
    }
   ],
   "source": [
    "print(\"processor = \", platform.processor())"
   ]
  },
  {
   "cell_type": "code",
   "execution_count": 8,
   "metadata": {},
   "outputs": [
    {
     "name": "stdout",
     "output_type": "stream",
     "text": [
      "system =  Windows\n"
     ]
    }
   ],
   "source": [
    "print(\"system = \", platform.system())"
   ]
  },
  {
   "cell_type": "code",
   "execution_count": 9,
   "metadata": {},
   "outputs": [
    {
     "name": "stdout",
     "output_type": "stream",
     "text": [
      "vesion =  10.0.18362\n"
     ]
    }
   ],
   "source": [
    "print(\"vesion = \", platform.version())"
   ]
  },
  {
   "cell_type": "code",
   "execution_count": 10,
   "metadata": {},
   "outputs": [
    {
     "name": "stdout",
     "output_type": "stream",
     "text": [
      "6CR421WNJQ\n"
     ]
    }
   ],
   "source": [
    "import socket\n",
    "print(socket.gethostname())"
   ]
  },
  {
   "cell_type": "code",
   "execution_count": null,
   "metadata": {},
   "outputs": [],
   "source": []
  }
 ],
 "metadata": {
  "kernelspec": {
   "display_name": "Python 3",
   "language": "python",
   "name": "python3"
  },
  "language_info": {
   "codemirror_mode": {
    "name": "ipython",
    "version": 3
   },
   "file_extension": ".py",
   "mimetype": "text/x-python",
   "name": "python",
   "nbconvert_exporter": "python",
   "pygments_lexer": "ipython3",
   "version": "3.7.4"
  }
 },
 "nbformat": 4,
 "nbformat_minor": 2
}
