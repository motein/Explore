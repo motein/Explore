{
 "cells": [
  {
   "cell_type": "code",
   "execution_count": 44,
   "metadata": {},
   "outputs": [],
   "source": [
    "import clr\n",
    "from System.Net import NetworkInformation, Dns, Sockets, IPAddress\n",
    "from System import AsyncCallback\n",
    "clr.AddReference('System.Threading')\n",
    "from System.Threading import ManualResetEvent,WaitHandle"
   ]
  },
  {
   "cell_type": "code",
   "execution_count": 5,
   "metadata": {},
   "outputs": [
    {
     "data": {
      "text/plain": [
       "True"
      ]
     },
     "execution_count": 5,
     "metadata": {},
     "output_type": "execute_result"
    }
   ],
   "source": [
    "NetworkInformation.NetworkInterface.GetIsNetworkAvailable()"
   ]
  },
  {
   "cell_type": "code",
   "execution_count": 6,
   "metadata": {},
   "outputs": [],
   "source": [
    "b = True\n",
    "def OnNetworkAvailabilityChanged(soruce, args):\n",
    "    print(\"Hello\")\n",
    "    b = False"
   ]
  },
  {
   "cell_type": "code",
   "execution_count": 7,
   "metadata": {},
   "outputs": [],
   "source": [
    "NetworkInformation.NetworkChange.NetworkAvailabilityChanged += OnNetworkAvailabilityChanged"
   ]
  },
  {
   "cell_type": "code",
   "execution_count": 8,
   "metadata": {},
   "outputs": [],
   "source": [
    "NetworkInformation.NetworkChange.NetworkAvailabilityChanged -= OnNetworkAvailabilityChanged"
   ]
  },
  {
   "cell_type": "code",
   "execution_count": 18,
   "metadata": {},
   "outputs": [
    {
     "name": "stdout",
     "output_type": "stream",
     "text": [
      "True\n"
     ]
    }
   ],
   "source": [
    "print(b)"
   ]
  },
  {
   "cell_type": "code",
   "execution_count": 10,
   "metadata": {},
   "outputs": [],
   "source": [
    "class TT:\n",
    "    def OnNetworkAvailabilityChanged(self, soruce, args):\n",
    "        print(\"Hello\")\n",
    "    \n",
    "    def call_me(self):\n",
    "        NetworkInformation.NetworkChange.NetworkAvailabilityChanged += self.OnNetworkAvailabilityChanged"
   ]
  },
  {
   "cell_type": "code",
   "execution_count": 13,
   "metadata": {},
   "outputs": [],
   "source": [
    "t = TT()\n",
    "t.call_me()"
   ]
  },
  {
   "cell_type": "code",
   "execution_count": 26,
   "metadata": {},
   "outputs": [],
   "source": [
    "addresses = Dns.GetHostEntry(\"\").AddressList"
   ]
  },
  {
   "cell_type": "code",
   "execution_count": 27,
   "metadata": {},
   "outputs": [
    {
     "name": "stdout",
     "output_type": "stream",
     "text": [
      "System.Net.IPAddress[]\n"
     ]
    }
   ],
   "source": [
    "print(addresses)"
   ]
  },
  {
   "cell_type": "code",
   "execution_count": 32,
   "metadata": {},
   "outputs": [
    {
     "name": "stdout",
     "output_type": "stream",
     "text": [
      "fe80::8d59:65a4:fe85:51e4%15\n",
      "fe80::2ca2:98c9:a00d:ee83%12\n",
      "fe80::61e7:aad9:cd88:34dc%10\n",
      "fe80::2882:d93b:230a:a0bc%7\n",
      "192.168.56.1\n",
      "True\n",
      "10.66.2.55\n",
      "True\n",
      "192.168.226.1\n",
      "True\n",
      "192.168.247.1\n",
      "True\n"
     ]
    }
   ],
   "source": [
    "for address in addresses:\n",
    "    print(address)\n",
    "    if address.AddressFamily == Sockets.AddressFamily.InterNetwork:\n",
    "        print(True)"
   ]
  },
  {
   "cell_type": "code",
   "execution_count": 16,
   "metadata": {},
   "outputs": [],
   "source": [
    "mTcpListener = Sockets.TcpListener(IPAddress.Any, 10000)"
   ]
  },
  {
   "cell_type": "code",
   "execution_count": 17,
   "metadata": {},
   "outputs": [],
   "source": [
    "mTcpListener.Server.SetSocketOption(Sockets.SocketOptionLevel.Socket, Sockets.SocketOptionName.ReuseAddress, True)"
   ]
  },
  {
   "cell_type": "code",
   "execution_count": 18,
   "metadata": {},
   "outputs": [],
   "source": [
    "mTcpListener.Start()"
   ]
  },
  {
   "cell_type": "code",
   "execution_count": 38,
   "metadata": {},
   "outputs": [],
   "source": [
    "mTcpClientConnected = ManualResetEvent(False)"
   ]
  },
  {
   "cell_type": "code",
   "execution_count": 41,
   "metadata": {},
   "outputs": [],
   "source": [
    "def AcceptTcpClientCallback(ar):\n",
    "    print(ar)\n",
    "    mTcpClientConnected.Set()\n",
    "    \n",
    "class AcceptState:\n",
    "    def __init__(self, listener, server):\n",
    "        self.listener = listener # TcpListener\n",
    "        self.server = server # SocketServer"
   ]
  },
  {
   "cell_type": "code",
   "execution_count": 42,
   "metadata": {},
   "outputs": [],
   "source": [
    "state = AcceptState(mTcpListener, None)"
   ]
  },
  {
   "cell_type": "code",
   "execution_count": 32,
   "metadata": {},
   "outputs": [
    {
     "data": {
      "text/plain": [
       "<System.Net.Sockets.AcceptAsyncResult object at 0x000001D33C864988>"
      ]
     },
     "execution_count": 32,
     "metadata": {},
     "output_type": "execute_result"
    }
   ],
   "source": [
    "mTcpListener.BeginAcceptTcpClient(AsyncCallback(AcceptTcpClientCallback), state)"
   ]
  },
  {
   "cell_type": "code",
   "execution_count": null,
   "metadata": {},
   "outputs": [],
   "source": [
    "WaitHandle.WaitAny([mTcpClientConnected])"
   ]
  },
  {
   "cell_type": "code",
   "execution_count": null,
   "metadata": {},
   "outputs": [],
   "source": []
  }
 ],
 "metadata": {
  "kernelspec": {
   "display_name": "Python 3",
   "language": "python",
   "name": "python3"
  },
  "language_info": {
   "codemirror_mode": {
    "name": "ipython",
    "version": 3
   },
   "file_extension": ".py",
   "mimetype": "text/x-python",
   "name": "python",
   "nbconvert_exporter": "python",
   "pygments_lexer": "ipython3",
   "version": "3.7.4"
  }
 },
 "nbformat": 4,
 "nbformat_minor": 2
}
