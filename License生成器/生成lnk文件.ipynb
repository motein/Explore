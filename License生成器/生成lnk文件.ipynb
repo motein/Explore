{
 "cells": [
  {
   "cell_type": "markdown",
   "metadata": {},
   "source": [
    "## 参考\n",
    "1. [Create shortcut files in Windows 7 using Python](https://stackoverflow.com/questions/26986470/create-shortcut-files-in-windows-7-using-python)\n",
    "2. [create shortcut with Run As Administrator](https://stackoverflow.com/questions/52586790/create-shortcut-with-run-as-administrator)\n",
    "3. [Inno Setup desktop shortcut (link) which has “Run as administrator” advanced property set\n",
    "](https://stackoverflow.com/questions/44073886/inno-setup-desktop-shortcut-link-which-has-run-as-administrator-advanced-pro)"
   ]
  },
  {
   "cell_type": "code",
   "execution_count": 1,
   "metadata": {},
   "outputs": [],
   "source": [
    "import win32com.client\n",
    "import pythoncom\n",
    "import os"
   ]
  },
  {
   "cell_type": "code",
   "execution_count": 13,
   "metadata": {},
   "outputs": [],
   "source": [
    "# pythoncom.CoInitialize() # remove the '#' at the beginning of the line if running in a thread.\n",
    "desktop = r'E:\\TEMP\\Inno' # path to where you want to put the .lnk\n",
    "path = os.path.join(desktop, 'NameOfShortcut.lnk')\n",
    "target = r'E:\\TEMP\\Inno\\ThisIsATest.exe'\n",
    "icon = r'E:\\Workspace\\LicenseGenerator\\LicenseGenerator\\main.ico' # not needed, but nice\n",
    "\n",
    "shell = win32com.client.Dispatch(\"WScript.Shell\")\n",
    "shortcut = shell.CreateShortCut(path)"
   ]
  },
  {
   "cell_type": "code",
   "execution_count": 14,
   "metadata": {},
   "outputs": [
    {
     "data": {
      "text/plain": [
       "(win32com.client.CDispatch,\n",
       " <COMObject <unknown>>,\n",
       " 'E:\\\\TEMP\\\\Inno\\\\ThisIsATest.exe')"
      ]
     },
     "execution_count": 14,
     "metadata": {},
     "output_type": "execute_result"
    }
   ],
   "source": [
    "type(shortcut) , shortcut , shortcut.Targetpath"
   ]
  },
  {
   "cell_type": "code",
   "execution_count": 15,
   "metadata": {},
   "outputs": [],
   "source": [
    "shortcut.Targetpath = target\n",
    "shortcut.IconLocation = icon\n",
    "shortcut.WindowStyle = 7 # 7 - Minimized, 3 - Maximized, 1 - Normal\n",
    "shortcut.save()"
   ]
  },
  {
   "cell_type": "code",
   "execution_count": 16,
   "metadata": {},
   "outputs": [],
   "source": [
    "with open(path, \"rb\") as f2:\n",
    "    ba = bytearray(f2.read())"
   ]
  },
  {
   "cell_type": "code",
   "execution_count": 17,
   "metadata": {},
   "outputs": [],
   "source": [
    "ba[0x15] = ba[0x15] | 0x20"
   ]
  },
  {
   "cell_type": "code",
   "execution_count": 19,
   "metadata": {},
   "outputs": [],
   "source": [
    "with open(path, \"wb\") as f3:\n",
    "    f3.write(ba)"
   ]
  },
  {
   "cell_type": "code",
   "execution_count": null,
   "metadata": {},
   "outputs": [],
   "source": []
  }
 ],
 "metadata": {
  "kernelspec": {
   "display_name": "Python 3",
   "language": "python",
   "name": "python3"
  },
  "language_info": {
   "codemirror_mode": {
    "name": "ipython",
    "version": 3
   },
   "file_extension": ".py",
   "mimetype": "text/x-python",
   "name": "python",
   "nbconvert_exporter": "python",
   "pygments_lexer": "ipython3",
   "version": "3.7.4"
  }
 },
 "nbformat": 4,
 "nbformat_minor": 2
}
