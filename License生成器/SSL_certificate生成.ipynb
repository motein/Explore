{
 "cells": [
  {
   "cell_type": "markdown",
   "metadata": {},
   "source": [
    "## 参考\n",
    "1. [Generic cryptographic module](https://www.pyopenssl.org/en/stable/api/crypto.html)\n",
    "2. [Certificate Attributes](https://docs.oracle.com/cd/E24191_01/common/tutorials/authz_cert_attributes.html)\n",
    "3. [源码](https://github.com/moses-palmer/truepy)"
   ]
  },
  {
   "cell_type": "code",
   "execution_count": 257,
   "metadata": {},
   "outputs": [],
   "source": [
    "from OpenSSL import crypto, SSL\n",
    "from cryptography.hazmat import backends\n",
    "from cryptography.hazmat.primitives import serialization\n",
    "\n",
    "from truepy import LicenseData, License\n",
    "import datetime\n",
    "\n",
    "from os import path\n",
    "from lxml import etree\n",
    "import time\n",
    "\n",
    "import json\n",
    "import ast"
   ]
  },
  {
   "cell_type": "code",
   "execution_count": 213,
   "metadata": {},
   "outputs": [],
   "source": [
    "def generate_certificate(\n",
    "    emailAddress=\"motein@qq.com\",\n",
    "    commonName=\"EnvisionNano Cert\",\n",
    "    countryName=\"CN\",\n",
    "    localityName=\"Lower Xiehe Street 888, Shuangliu District\",\n",
    "    stateOrProvinceName=\"Sichuan\",\n",
    "    organizationName=\"EnvisionNano, Inc.\",\n",
    "    organizationUnitName=\"R&D\",\n",
    "    serialNumber=0,\n",
    "    validityStartInSeconds=0,\n",
    "    validityEndInSeconds=9*365*24*60*60,\n",
    "    KEY_FILE = \"private.pem\",\n",
    "    CERT_FILE=\"certificate.pem\"):\n",
    "    #can look at generated file using openssl:\n",
    "    #openssl x509 -inform pem -in certificate.pem -noout -text\n",
    "    # create a key pair\n",
    "    k = crypto.PKey()\n",
    "    k.generate_key(crypto.TYPE_RSA, 4096)\n",
    "    # create a self-signed cert\n",
    "    cert = crypto.X509()\n",
    "    cert.get_subject().C = countryName\n",
    "    cert.get_subject().ST = stateOrProvinceName\n",
    "    cert.get_subject().L = localityName\n",
    "    cert.get_subject().O = organizationName\n",
    "    cert.get_subject().OU = organizationUnitName\n",
    "    cert.get_subject().CN = commonName\n",
    "    cert.get_subject().emailAddress = emailAddress\n",
    "    cert.set_serial_number(serialNumber)\n",
    "    cert.gmtime_adj_notBefore(0)\n",
    "    cert.gmtime_adj_notAfter(validityEndInSeconds)\n",
    "    cert.set_issuer(cert.get_subject())\n",
    "    cert.set_pubkey(k)\n",
    "    cert.sign(k, 'sha512')\n",
    "    tt = crypto.dump_certificate(crypto.FILETYPE_PEM, cert)\n",
    "    print(type(tt),len(tt))\n",
    "    with open(CERT_FILE, \"wt\") as f:\n",
    "        f.write(crypto.dump_certificate(crypto.FILETYPE_PEM, cert).decode(\"utf-8\"))\n",
    "    with open(KEY_FILE, \"wt\") as f:\n",
    "        f.write(crypto.dump_privatekey(crypto.FILETYPE_PEM, k).decode(\"utf-8\"))"
   ]
  },
  {
   "cell_type": "code",
   "execution_count": 214,
   "metadata": {},
   "outputs": [
    {
     "name": "stdout",
     "output_type": "stream",
     "text": [
      "<class 'bytes'> 2110\n"
     ]
    }
   ],
   "source": [
    "generate_certificate()"
   ]
  },
  {
   "cell_type": "code",
   "execution_count": 215,
   "metadata": {},
   "outputs": [],
   "source": [
    "with open('certificate.pem', 'rb') as f:\n",
    "    certificate = f.read()"
   ]
  },
  {
   "cell_type": "code",
   "execution_count": 216,
   "metadata": {},
   "outputs": [],
   "source": [
    "with open('private.pem', 'rb') as f:\n",
    "    key = serialization.load_pem_private_key(\n",
    "        f.read(),\n",
    "        password=None,\n",
    "        backend=backends.default_backend())"
   ]
  },
  {
   "cell_type": "code",
   "execution_count": 217,
   "metadata": {},
   "outputs": [],
   "source": [
    "DAYS= 186\n",
    "start_time = datetime.datetime.utcnow().strftime('%Y-%m-%dT%H:%M:%S')\n",
    "start_time_obj = datetime.datetime.strptime(start_time, '%Y-%m-%dT%H:%M:%S')\n",
    "end_time_obj = start_time_obj+datetime.timedelta(days=DAYS)\n",
    "end_time = end_time_obj.strftime('%Y-%m-%dT%H:%M:%S')"
   ]
  },
  {
   "cell_type": "code",
   "execution_count": 256,
   "metadata": {},
   "outputs": [
    {
     "name": "stdout",
     "output_type": "stream",
     "text": [
      "{'size': 34, 0: '-----BEGIN CERTIFICATE-----', 1: 'MIIF6DCCA9ACAQAwDQYJKoZIhvcNAQENBQAwgbkxCzAJBgNVBAYTAkNOMRAwDgYD', 2: 'VQQIDAdTaWNodWFuMTMwMQYDVQQHDCpMb3dlciBYaWVoZSBTdHJlZXQgODg4LCBT', 3: 'aHVhbmdsaXUgRGlzdHJpY3QxGzAZBgNVBAoMEkVudmlzaW9uTmFubywgSW5jLjEM', 4: 'MAoGA1UECwwDUiZEMRowGAYDVQQDDBFFbnZpc2lvbk5hbm8gQ2VydDEcMBoGCSqG', 5: 'SIb3DQEJARYNbW90ZWluQHFxLmNvbTAeFw0yMDEyMDcxNzA2MjJaFw0yOTEyMDUx', 6: 'NzA2MjJaMIG5MQswCQYDVQQGEwJDTjEQMA4GA1UECAwHU2ljaHVhbjEzMDEGA1UE', 7: 'BwwqTG93ZXIgWGllaGUgU3RyZWV0IDg4OCwgU2h1YW5nbGl1IERpc3RyaWN0MRsw', 8: 'GQYDVQQKDBJFbnZpc2lvbk5hbm8sIEluYy4xDDAKBgNVBAsMA1ImRDEaMBgGA1UE', 9: 'AwwRRW52aXNpb25OYW5vIENlcnQxHDAaBgkqhkiG9w0BCQEWDW1vdGVpbkBxcS5j', 10: 'b20wggIiMA0GCSqGSIb3DQEBAQUAA4ICDwAwggIKAoICAQDITLurLb/HIpOWcojK', 11: '8fMf2b83ndgXoUuvoVMD1FcNy1qZBrqEZHbTOaNzg+CdclkG9loCoOAzYnilS9rl', 12: 'ohlgbqK5rnHlV2kD0z1WrGWa8e+h/PCiXa4N4FTIIWlfMlODy+6ABPOfhBbgZmFd', 13: 'SVqGE2lC0UxSkv7YtwENH7cuA/KtVDeJBFavdazogzh1C5gRKMU3Ra+pAHJ6/CHc', 14: 'OSulL0dHf039aKT8A13i3F6jGCeP2YCzBKPGREoot6eJZ3xgIbKXlRVNBGU31vWG', 15: 'M3NrZIO6cCzylsvmJbr+LDIGKtKrKoiduUrFuUm9beKf1tQ7VXOojAwkDaMZZj9X', 16: 'MIvPqto04eSLVCiX8Q2tYo8s4igJXj5WoMPfLT3mmC3M6ji2Ax3lS/RERKvjl8zI', 17: '11a7D82CJT1KIY8HJ9BA/k05kRGMMJSkamPtbuFlazVoeK+tr/qv2kqYQtPKdx2O', 18: 'rZ9jFpMM88wR9s+5KMbwLYOCz/ppKdA2Z94mj+ex7qhipelMCLK/nPHHtQD5zC44', 19: 'YHg4m6Eo/rlMW6BjJ/JD73G8tb6u/YfgcE/mpPqjlKGKk7SatjXDDpnkDheU+ROF', 20: 's3o+ioIw96YCN0SxPebiXA7iOBFReHgYUZzhEPOKcGnC/Je0O/yFFj7ldBU8+AVV', 21: '6fk8fNT5RYkJM6ih5Q8EWKwKkQIDAQABMA0GCSqGSIb3DQEBDQUAA4ICAQCadMlu', 22: 'ENG9qDwx3lSO6ca0sOf9kEbRsOVOT6yeCe05/9/guNWHVj9ftuA4aIsxhkwdH5dY', 23: 'gysauTvd8/oTTiYYTEqnrwQwMl7fAKJ/OYP8trQf6R7k8PtybdhkS4/vZ4X96jKH', 24: 'TcBSVRWCXn788lGd8iWnLKGqSaCEmxvUCrWKwr3YVXRZGZGFN7ThNYLxAx9yufd/', 25: 'sBQ75OkGUMUvZxDuXab/aqItWAf5FISNOCGsAZFE0U/yLzx2FR5LEFEDYV4bN/hR', 26: '2xY2CsXtsqlHMbLrvki0kICigvyWbZgsdk5un8MDbkin0E5RKSKY2bEZmw1oRkCr', 27: 'QPwypFiccAtTWMg19vqYk/8QfN0h8WX5xNCMFtQuc9PJA/rkMIbZynnaNv4I/wze', 28: 'xmAtj5bml1vYqz10N9UZ7PlcSkPNcRxU+qUQZcpNe8R3bC34gCn4oOrL5dgAKIjX', 29: 'aAkKo1GgwqvZ/+ohhRSTX45V70Ep6mwH7KMU0p2KccYB5DSa780dTN6llAn0GH/E', 30: 'xp5DBUWvt6xNWCKtHOfuVj+wW6mBwn3n8tD8jAJyXMIuxIXrsBVaoTpYIFdG23xp', 31: '8YCDuBtPjVRyfoxI0XZGt0zZZmelwd68KdihkNAhYqiv7cr9fI36nX9SfkjSpOk7', 32: 'gSafPF4FhXkzhyOor9p50BezbY/SMUEgB7K/Ug==', 33: '-----END CERTIFICATE-----'}\n"
     ]
    }
   ],
   "source": [
    "with open('certificate.pem', 'rb') as f:\n",
    "    ff = f.read().splitlines()\n",
    "    L = len(ff)\n",
    "    dict_v = {}\n",
    "    dict_v[\"size\"] = L\n",
    "    for i in range(L):\n",
    "        dict_v[i] = ff[i].decode('utf-8')\n",
    "    print(str(dict_v))\n",
    "#     print(type(ff), L, ff)"
   ]
  },
  {
   "cell_type": "code",
   "execution_count": 219,
   "metadata": {},
   "outputs": [
    {
     "data": {
      "text/plain": [
       "\"{'size': 34, 0: '-----BEGIN CERTIFICATE-----', 1: 'MIIF6DCCA9ACAQAwDQYJKoZIhvcNAQENBQAwgbkxCzAJBgNVBAYTAkNOMRAwDgYD', 2: 'VQQIDAdTaWNodWFuMTMwMQYDVQQHDCpMb3dlciBYaWVoZSBTdHJlZXQgODg4LCBT', 3: 'aHVhbmdsaXUgRGlzdHJpY3QxGzAZBgNVBAoMEkVudmlzaW9uTmFubywgSW5jLjEM', 4: 'MAoGA1UECwwDUiZEMRowGAYDVQQDDBFFbnZpc2lvbk5hbm8gQ2VydDEcMBoGCSqG', 5: 'SIb3DQEJARYNbW90ZWluQHFxLmNvbTAeFw0yMDEyMDcxNzA2MjJaFw0yOTEyMDUx', 6: 'NzA2MjJaMIG5MQswCQYDVQQGEwJDTjEQMA4GA1UECAwHU2ljaHVhbjEzMDEGA1UE', 7: 'BwwqTG93ZXIgWGllaGUgU3RyZWV0IDg4OCwgU2h1YW5nbGl1IERpc3RyaWN0MRsw', 8: 'GQYDVQQKDBJFbnZpc2lvbk5hbm8sIEluYy4xDDAKBgNVBAsMA1ImRDEaMBgGA1UE', 9: 'AwwRRW52aXNpb25OYW5vIENlcnQxHDAaBgkqhkiG9w0BCQEWDW1vdGVpbkBxcS5j', 10: 'b20wggIiMA0GCSqGSIb3DQEBAQUAA4ICDwAwggIKAoICAQDITLurLb/HIpOWcojK', 11: '8fMf2b83ndgXoUuvoVMD1FcNy1qZBrqEZHbTOaNzg+CdclkG9loCoOAzYnilS9rl', 12: 'ohlgbqK5rnHlV2kD0z1WrGWa8e+h/PCiXa4N4FTIIWlfMlODy+6ABPOfhBbgZmFd', 13: 'SVqGE2lC0UxSkv7YtwENH7cuA/KtVDeJBFavdazogzh1C5gRKMU3Ra+pAHJ6/CHc', 14: 'OSulL0dHf039aKT8A13i3F6jGCeP2YCzBKPGREoot6eJZ3xgIbKXlRVNBGU31vWG', 15: 'M3NrZIO6cCzylsvmJbr+LDIGKtKrKoiduUrFuUm9beKf1tQ7VXOojAwkDaMZZj9X', 16: 'MIvPqto04eSLVCiX8Q2tYo8s4igJXj5WoMPfLT3mmC3M6ji2Ax3lS/RERKvjl8zI', 17: '11a7D82CJT1KIY8HJ9BA/k05kRGMMJSkamPtbuFlazVoeK+tr/qv2kqYQtPKdx2O', 18: 'rZ9jFpMM88wR9s+5KMbwLYOCz/ppKdA2Z94mj+ex7qhipelMCLK/nPHHtQD5zC44', 19: 'YHg4m6Eo/rlMW6BjJ/JD73G8tb6u/YfgcE/mpPqjlKGKk7SatjXDDpnkDheU+ROF', 20: 's3o+ioIw96YCN0SxPebiXA7iOBFReHgYUZzhEPOKcGnC/Je0O/yFFj7ldBU8+AVV', 21: '6fk8fNT5RYkJM6ih5Q8EWKwKkQIDAQABMA0GCSqGSIb3DQEBDQUAA4ICAQCadMlu', 22: 'ENG9qDwx3lSO6ca0sOf9kEbRsOVOT6yeCe05/9/guNWHVj9ftuA4aIsxhkwdH5dY', 23: 'gysauTvd8/oTTiYYTEqnrwQwMl7fAKJ/OYP8trQf6R7k8PtybdhkS4/vZ4X96jKH', 24: 'TcBSVRWCXn788lGd8iWnLKGqSaCEmxvUCrWKwr3YVXRZGZGFN7ThNYLxAx9yufd/', 25: 'sBQ75OkGUMUvZxDuXab/aqItWAf5FISNOCGsAZFE0U/yLzx2FR5LEFEDYV4bN/hR', 26: '2xY2CsXtsqlHMbLrvki0kICigvyWbZgsdk5un8MDbkin0E5RKSKY2bEZmw1oRkCr', 27: 'QPwypFiccAtTWMg19vqYk/8QfN0h8WX5xNCMFtQuc9PJA/rkMIbZynnaNv4I/wze', 28: 'xmAtj5bml1vYqz10N9UZ7PlcSkPNcRxU+qUQZcpNe8R3bC34gCn4oOrL5dgAKIjX', 29: 'aAkKo1GgwqvZ/+ohhRSTX45V70Ep6mwH7KMU0p2KccYB5DSa780dTN6llAn0GH/E', 30: 'xp5DBUWvt6xNWCKtHOfuVj+wW6mBwn3n8tD8jAJyXMIuxIXrsBVaoTpYIFdG23xp', 31: '8YCDuBtPjVRyfoxI0XZGt0zZZmelwd68KdihkNAhYqiv7cr9fI36nX9SfkjSpOk7', 32: 'gSafPF4FhXkzhyOor9p50BezbY/SMUEgB7K/Ug==', 33: '-----END CERTIFICATE-----'}\""
      ]
     },
     "execution_count": 219,
     "metadata": {},
     "output_type": "execute_result"
    }
   ],
   "source": [
    "extra_info = str(dict_v)\n",
    "extra_info"
   ]
  },
  {
   "cell_type": "code",
   "execution_count": 220,
   "metadata": {},
   "outputs": [],
   "source": [
    "\n",
    "# Issue the license\n",
    "local_license = License.issue(\n",
    "    certificate,\n",
    "    key,\n",
    "    license_data=LicenseData(start_time, end_time, info=extra_info))"
   ]
  },
  {
   "cell_type": "code",
   "execution_count": 221,
   "metadata": {},
   "outputs": [],
   "source": [
    "with open('license.key', 'wb') as f:\n",
    "    local_license.store(f, b'motein@XA')"
   ]
  },
  {
   "cell_type": "code",
   "execution_count": 269,
   "metadata": {},
   "outputs": [],
   "source": [
    "def get_certificate(cert='certificate.pem'):\n",
    "    with open(cert, 'rb') as f:\n",
    "        certificate = f.read()\n",
    "        return certificate\n",
    "\n",
    "def is_expired(local_license):\n",
    "    root = etree.fromstring(local_license.encoded.encode('ascii'))\n",
    "#     print(local_license.encoded)\n",
    "    time_value = []\n",
    "    for time_element in root.findall('object/void/object/long'):\n",
    "        time_value.append(int(time_element.text))\n",
    "    if (time.time() * 1000) > max(time_value):\n",
    "        return True\n",
    "    else:\n",
    "        return False\n",
    "\n",
    "def get_certificate_from_license(local_license):\n",
    "    root = etree.fromstring(local_license.encoded.encode('ascii'))\n",
    "    cert_json = None\n",
    "    for time_element in root.findall('object/void'):\n",
    "        if time_element.attrib['property'] == 'info':\n",
    "            child = time_element.find('string')\n",
    "            cert_json = child.text\n",
    "            break\n",
    "#     print(type(cert_json), cert_json)\n",
    "    res = ast.literal_eval(cert_json)\n",
    "#     print(type(res), res)\n",
    "    \n",
    "    store_cert = \"\"\n",
    "    for i in range(res['size']):\n",
    "        store_cert = store_cert + res[i] + '\\t\\n'\n",
    "        \n",
    "#     print(store_cert)\n",
    "    return store_cert.encode('utf-8')\n",
    "\n",
    "def is_valid_license(license_path='license.key'):\n",
    "    if path.exists(license_path) is False:\n",
    "        return False, 'License文件不存在'\n",
    "        \n",
    "#     certificate = get_certificate()\n",
    "    with open(license_path, 'rb') as f:\n",
    "        try:\n",
    "            local_license = License.load(f, b'motein@XA')\n",
    "            certificate = get_certificate_from_license(local_license)\n",
    "            local_license.verify(certificate)\n",
    "        except (License.InvalidSignatureException):\n",
    "            return False, '非法的License'\n",
    "        except Exception:\n",
    "            return False, '验证License失败'\n",
    "        else:\n",
    "            if is_expired(local_license):\n",
    "                return False, 'License已过期'\n",
    "            else:\n",
    "                return True, '合法的License'"
   ]
  },
  {
   "cell_type": "code",
   "execution_count": 270,
   "metadata": {},
   "outputs": [
    {
     "data": {
      "text/plain": [
       "(True, '合法的License')"
      ]
     },
     "execution_count": 270,
     "metadata": {},
     "output_type": "execute_result"
    }
   ],
   "source": [
    "is_valid_license()"
   ]
  },
  {
   "cell_type": "code",
   "execution_count": null,
   "metadata": {},
   "outputs": [],
   "source": []
  },
  {
   "cell_type": "code",
   "execution_count": null,
   "metadata": {},
   "outputs": [],
   "source": []
  },
  {
   "cell_type": "code",
   "execution_count": null,
   "metadata": {},
   "outputs": [],
   "source": []
  },
  {
   "cell_type": "code",
   "execution_count": null,
   "metadata": {},
   "outputs": [],
   "source": []
  }
 ],
 "metadata": {
  "kernelspec": {
   "display_name": "Python 3",
   "language": "python",
   "name": "python3"
  },
  "language_info": {
   "codemirror_mode": {
    "name": "ipython",
    "version": 3
   },
   "file_extension": ".py",
   "mimetype": "text/x-python",
   "name": "python",
   "nbconvert_exporter": "python",
   "pygments_lexer": "ipython3",
   "version": "3.7.6"
  }
 },
 "nbformat": 4,
 "nbformat_minor": 4
}
