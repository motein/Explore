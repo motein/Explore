{
 "cells": [
  {
   "cell_type": "markdown",
   "metadata": {},
   "source": [
    "## 参考\n",
    "1. [Generic cryptographic module](https://www.pyopenssl.org/en/stable/api/crypto.html)\n",
    "2. [Certificate Attributes](https://docs.oracle.com/cd/E24191_01/common/tutorials/authz_cert_attributes.html)\n",
    "3. [源码](https://github.com/moses-palmer/truepy)"
   ]
  },
  {
   "cell_type": "code",
   "execution_count": 1,
   "metadata": {},
   "outputs": [],
   "source": [
    "from OpenSSL import crypto, SSL\n",
    "from cryptography.hazmat import backends\n",
    "from cryptography.hazmat.primitives import serialization\n",
    "\n",
    "from truepy import LicenseData, License\n",
    "import datetime\n",
    "\n",
    "from os import path\n",
    "from lxml import etree\n",
    "import time\n",
    "\n",
    "import json\n",
    "import ast"
   ]
  },
  {
   "cell_type": "code",
   "execution_count": 2,
   "metadata": {},
   "outputs": [],
   "source": [
    "def generate_certificate(\n",
    "    emailAddress=\"motein@qq.com\",\n",
    "    commonName=\"EnvisionNano Cert\",\n",
    "    countryName=\"CN\",\n",
    "    localityName=\"Lower Xiehe Street 888, Shuangliu District\",\n",
    "    stateOrProvinceName=\"Sichuan\",\n",
    "    organizationName=\"EnvisionNano, Inc.\",\n",
    "    organizationUnitName=\"R&D\",\n",
    "    serialNumber=0,\n",
    "    validityStartInSeconds=0,\n",
    "    validityEndInSeconds=9*365*24*60*60,\n",
    "    KEY_FILE = \"private.pem\",\n",
    "    CERT_FILE=\"certificate.pem\"):\n",
    "    #can look at generated file using openssl:\n",
    "    #openssl x509 -inform pem -in certificate.pem -noout -text\n",
    "    # create a key pair\n",
    "    k = crypto.PKey()\n",
    "    k.generate_key(crypto.TYPE_RSA, 4096)\n",
    "    # create a self-signed cert\n",
    "    cert = crypto.X509()\n",
    "    cert.get_subject().C = countryName\n",
    "    cert.get_subject().ST = stateOrProvinceName\n",
    "    cert.get_subject().L = localityName\n",
    "    cert.get_subject().O = organizationName\n",
    "    cert.get_subject().OU = organizationUnitName\n",
    "    cert.get_subject().CN = commonName\n",
    "    cert.get_subject().emailAddress = emailAddress\n",
    "    cert.set_serial_number(serialNumber)\n",
    "    cert.gmtime_adj_notBefore(0)\n",
    "    cert.gmtime_adj_notAfter(validityEndInSeconds)\n",
    "    cert.set_issuer(cert.get_subject())\n",
    "    cert.set_pubkey(k)\n",
    "    cert.sign(k, 'sha512')\n",
    "    tt = crypto.dump_certificate(crypto.FILETYPE_PEM, cert)\n",
    "    print(type(tt),len(tt))\n",
    "    with open(CERT_FILE, \"wt\") as f:\n",
    "        f.write(crypto.dump_certificate(crypto.FILETYPE_PEM, cert).decode(\"utf-8\"))\n",
    "    with open(KEY_FILE, \"wt\") as f:\n",
    "        f.write(crypto.dump_privatekey(crypto.FILETYPE_PEM, k).decode(\"utf-8\"))"
   ]
  },
  {
   "cell_type": "code",
   "execution_count": 3,
   "metadata": {},
   "outputs": [
    {
     "name": "stdout",
     "output_type": "stream",
     "text": [
      "<class 'bytes'> 2110\n"
     ]
    }
   ],
   "source": [
    "generate_certificate()"
   ]
  },
  {
   "cell_type": "code",
   "execution_count": 4,
   "metadata": {},
   "outputs": [],
   "source": [
    "with open('certificate.pem', 'rb') as f:\n",
    "    certificate = f.read()"
   ]
  },
  {
   "cell_type": "code",
   "execution_count": 5,
   "metadata": {},
   "outputs": [],
   "source": [
    "with open('private.pem', 'rb') as f:\n",
    "    key = serialization.load_pem_private_key(\n",
    "        f.read(),\n",
    "        password=None,\n",
    "        backend=backends.default_backend())"
   ]
  },
  {
   "cell_type": "code",
   "execution_count": 6,
   "metadata": {},
   "outputs": [],
   "source": [
    "DAYS= 186\n",
    "start_time = datetime.datetime.utcnow().strftime('%Y-%m-%dT%H:%M:%S')\n",
    "start_time_obj = datetime.datetime.strptime(start_time, '%Y-%m-%dT%H:%M:%S')\n",
    "end_time_obj = start_time_obj+datetime.timedelta(days=DAYS)\n",
    "end_time = end_time_obj.strftime('%Y-%m-%dT%H:%M:%S')"
   ]
  },
  {
   "cell_type": "code",
   "execution_count": 7,
   "metadata": {},
   "outputs": [
    {
     "name": "stdout",
     "output_type": "stream",
     "text": [
      "{'size': 34, 0: '-----BEGIN CERTIFICATE-----', 1: 'MIIF6DCCA9ACAQAwDQYJKoZIhvcNAQENBQAwgbkxCzAJBgNVBAYTAkNOMRAwDgYD', 2: 'VQQIDAdTaWNodWFuMTMwMQYDVQQHDCpMb3dlciBYaWVoZSBTdHJlZXQgODg4LCBT', 3: 'aHVhbmdsaXUgRGlzdHJpY3QxGzAZBgNVBAoMEkVudmlzaW9uTmFubywgSW5jLjEM', 4: 'MAoGA1UECwwDUiZEMRowGAYDVQQDDBFFbnZpc2lvbk5hbm8gQ2VydDEcMBoGCSqG', 5: 'SIb3DQEJARYNbW90ZWluQHFxLmNvbTAeFw0yMDEyMTEwODA4MDBaFw0yOTEyMDkw', 6: 'ODA4MDBaMIG5MQswCQYDVQQGEwJDTjEQMA4GA1UECAwHU2ljaHVhbjEzMDEGA1UE', 7: 'BwwqTG93ZXIgWGllaGUgU3RyZWV0IDg4OCwgU2h1YW5nbGl1IERpc3RyaWN0MRsw', 8: 'GQYDVQQKDBJFbnZpc2lvbk5hbm8sIEluYy4xDDAKBgNVBAsMA1ImRDEaMBgGA1UE', 9: 'AwwRRW52aXNpb25OYW5vIENlcnQxHDAaBgkqhkiG9w0BCQEWDW1vdGVpbkBxcS5j', 10: 'b20wggIiMA0GCSqGSIb3DQEBAQUAA4ICDwAwggIKAoICAQDCohIABmHxvL4OHccS', 11: 'E2BHstp9q8oj9KktUf24ul0+ZzdW32QF+ArmPRbsFiE1IONh63ueCVWldpz2Ficv', 12: 'qjS/cLg9kv+V+w9imWL8AY9F+bSEXJYFrLqZJHVmec2VA5tH4r1BMvqvuzO3TqqG', 13: 'LIo7JSU2BrjBklAU6KRAoHQsKhgj+BBc+LigMLUPUJ5s9lo4x4R/16+esHO3zwn9', 14: 'KflqsB9Hyx9+kDOrtVizmHvy2pLaelZTcR7Fa70fSx889imXBvtntCaHdYESTPaU', 15: 'DXPU5YBskrtrGEby4hfOfI4MKAgh54sQJJJihEKMTQS3hu7dCKFpup7vgxUuJblm', 16: '9TBGG42keCse7jz1qenxnlUFASVL8cU3+8gObX/yEKoFHt9ntt9wtzD3Lf8R1DBE', 17: 'Obglxb1bnLqWoQpqOmsY7HBGfi5m594op+9LNAmwYLucc8wICrq9bp3E1HbjRx5x', 18: 'lsdAbLZc4W/9LixPMUKyuSOkiS+tuQgAscY+aenwrPgS3NauBvSxjFfTTCh0X44d', 19: 'TqzVdgDgiHSLf26liER/OEyClq7fHlCwaQ3y5L1LqshLcLKDkHlusD3/v33/cLc/', 20: 'rqM4hbdKjRZDIWqQToPSP+urFpPen+hFztUeios54e3J71Qd0n6S2w6Rl0jy0QiM', 21: 'WcYZx8jEZwubRWoPtmTKWp3HVQIDAQABMA0GCSqGSIb3DQEBDQUAA4ICAQA3PSM5', 22: 'r1uhHaoytBPCE1lWI0I/ALtkqJWK4x7PcIGew4r+UE9KCg4QLB3wxf5Er37eznRt', 23: 'PZgF2mIPQVUVZiL/YnSVmhl3fvyGj8mc/+TrJElmg0jHJ769VGtBv+rOiZ4A08Fs', 24: 'U1cEVYC9bIeH47F9Jy+DVWSvBRuLI6BYAdsU3ddelCvj80u7gCaqELSKdzYAHoMD', 25: 'VQ35Fse0SttHi2/PLbDXNLlzgBxSrFI6j8D0TwkO2/jQD37rKx+CdE95SDZ0w+54', 26: 'emvHp+2qmIUVut/hxRm2NJFaWLJUU78hFEMbfoff/l6foQcM6Aa60BOUE/0P0DFD', 27: 'bvRKxaTyAY+3RTzII5y0Y2IqdQT8soe9t6YReou6Zi+mhWuC688QZBTSuHUwkuR9', 28: 'HEY9k/R7j1TPr4ZAgg/8Nhy+uCUl+LDUN/ocv94Kinqajajiu7lPxtUFWLeYJdNa', 29: 'CB5gLWTdFL2Nj8sF2qlZdp7K1QS3jY5Nrbs1i6lkvuVz7LCGPZvu4q4k3TYW1RYv', 30: 'XWMwTq3Tq/S03qgaekFza0cH1zMPzl0ms+WJo3oJP7GpVpPZTGtY6UYhTYDyP87C', 31: '4xfzL+T6qMAbJSa9afc6ZWLIxe6qK+Bdu2kYJAnrk3KdJ8DcQKn50I7LDBRpOdYP', 32: 'onUJU3gcSdaGU494K3ePoSVyNYxtfm8K9AIBEQ==', 33: '-----END CERTIFICATE-----'}\n"
     ]
    }
   ],
   "source": [
    "with open('certificate.pem', 'rb') as f:\n",
    "    ff = f.read().splitlines()\n",
    "    L = len(ff)\n",
    "    dict_v = {}\n",
    "    dict_v[\"size\"] = L\n",
    "    for i in range(L):\n",
    "        dict_v[i] = ff[i].decode('utf-8')\n",
    "    print(str(dict_v))\n",
    "#     print(type(ff), L, ff)"
   ]
  },
  {
   "cell_type": "code",
   "execution_count": 8,
   "metadata": {},
   "outputs": [
    {
     "data": {
      "text/plain": [
       "\"{'size': 34, 0: '-----BEGIN CERTIFICATE-----', 1: 'MIIF6DCCA9ACAQAwDQYJKoZIhvcNAQENBQAwgbkxCzAJBgNVBAYTAkNOMRAwDgYD', 2: 'VQQIDAdTaWNodWFuMTMwMQYDVQQHDCpMb3dlciBYaWVoZSBTdHJlZXQgODg4LCBT', 3: 'aHVhbmdsaXUgRGlzdHJpY3QxGzAZBgNVBAoMEkVudmlzaW9uTmFubywgSW5jLjEM', 4: 'MAoGA1UECwwDUiZEMRowGAYDVQQDDBFFbnZpc2lvbk5hbm8gQ2VydDEcMBoGCSqG', 5: 'SIb3DQEJARYNbW90ZWluQHFxLmNvbTAeFw0yMDEyMTEwODA4MDBaFw0yOTEyMDkw', 6: 'ODA4MDBaMIG5MQswCQYDVQQGEwJDTjEQMA4GA1UECAwHU2ljaHVhbjEzMDEGA1UE', 7: 'BwwqTG93ZXIgWGllaGUgU3RyZWV0IDg4OCwgU2h1YW5nbGl1IERpc3RyaWN0MRsw', 8: 'GQYDVQQKDBJFbnZpc2lvbk5hbm8sIEluYy4xDDAKBgNVBAsMA1ImRDEaMBgGA1UE', 9: 'AwwRRW52aXNpb25OYW5vIENlcnQxHDAaBgkqhkiG9w0BCQEWDW1vdGVpbkBxcS5j', 10: 'b20wggIiMA0GCSqGSIb3DQEBAQUAA4ICDwAwggIKAoICAQDCohIABmHxvL4OHccS', 11: 'E2BHstp9q8oj9KktUf24ul0+ZzdW32QF+ArmPRbsFiE1IONh63ueCVWldpz2Ficv', 12: 'qjS/cLg9kv+V+w9imWL8AY9F+bSEXJYFrLqZJHVmec2VA5tH4r1BMvqvuzO3TqqG', 13: 'LIo7JSU2BrjBklAU6KRAoHQsKhgj+BBc+LigMLUPUJ5s9lo4x4R/16+esHO3zwn9', 14: 'KflqsB9Hyx9+kDOrtVizmHvy2pLaelZTcR7Fa70fSx889imXBvtntCaHdYESTPaU', 15: 'DXPU5YBskrtrGEby4hfOfI4MKAgh54sQJJJihEKMTQS3hu7dCKFpup7vgxUuJblm', 16: '9TBGG42keCse7jz1qenxnlUFASVL8cU3+8gObX/yEKoFHt9ntt9wtzD3Lf8R1DBE', 17: 'Obglxb1bnLqWoQpqOmsY7HBGfi5m594op+9LNAmwYLucc8wICrq9bp3E1HbjRx5x', 18: 'lsdAbLZc4W/9LixPMUKyuSOkiS+tuQgAscY+aenwrPgS3NauBvSxjFfTTCh0X44d', 19: 'TqzVdgDgiHSLf26liER/OEyClq7fHlCwaQ3y5L1LqshLcLKDkHlusD3/v33/cLc/', 20: 'rqM4hbdKjRZDIWqQToPSP+urFpPen+hFztUeios54e3J71Qd0n6S2w6Rl0jy0QiM', 21: 'WcYZx8jEZwubRWoPtmTKWp3HVQIDAQABMA0GCSqGSIb3DQEBDQUAA4ICAQA3PSM5', 22: 'r1uhHaoytBPCE1lWI0I/ALtkqJWK4x7PcIGew4r+UE9KCg4QLB3wxf5Er37eznRt', 23: 'PZgF2mIPQVUVZiL/YnSVmhl3fvyGj8mc/+TrJElmg0jHJ769VGtBv+rOiZ4A08Fs', 24: 'U1cEVYC9bIeH47F9Jy+DVWSvBRuLI6BYAdsU3ddelCvj80u7gCaqELSKdzYAHoMD', 25: 'VQ35Fse0SttHi2/PLbDXNLlzgBxSrFI6j8D0TwkO2/jQD37rKx+CdE95SDZ0w+54', 26: 'emvHp+2qmIUVut/hxRm2NJFaWLJUU78hFEMbfoff/l6foQcM6Aa60BOUE/0P0DFD', 27: 'bvRKxaTyAY+3RTzII5y0Y2IqdQT8soe9t6YReou6Zi+mhWuC688QZBTSuHUwkuR9', 28: 'HEY9k/R7j1TPr4ZAgg/8Nhy+uCUl+LDUN/ocv94Kinqajajiu7lPxtUFWLeYJdNa', 29: 'CB5gLWTdFL2Nj8sF2qlZdp7K1QS3jY5Nrbs1i6lkvuVz7LCGPZvu4q4k3TYW1RYv', 30: 'XWMwTq3Tq/S03qgaekFza0cH1zMPzl0ms+WJo3oJP7GpVpPZTGtY6UYhTYDyP87C', 31: '4xfzL+T6qMAbJSa9afc6ZWLIxe6qK+Bdu2kYJAnrk3KdJ8DcQKn50I7LDBRpOdYP', 32: 'onUJU3gcSdaGU494K3ePoSVyNYxtfm8K9AIBEQ==', 33: '-----END CERTIFICATE-----'}\""
      ]
     },
     "execution_count": 8,
     "metadata": {},
     "output_type": "execute_result"
    }
   ],
   "source": [
    "extra_info = str(dict_v)\n",
    "extra_info"
   ]
  },
  {
   "cell_type": "code",
   "execution_count": 9,
   "metadata": {},
   "outputs": [
    {
     "name": "stderr",
     "output_type": "stream",
     "text": [
      "C:\\Anaconda3\\lib\\site-packages\\truepy\\_license.py:171: CryptographyDeprecationWarning: signer and verifier have been deprecated. Please use sign and verify instead.\n",
      "  getattr(hashes, digest)())\n"
     ]
    }
   ],
   "source": [
    "\n",
    "# Issue the license\n",
    "local_license = License.issue(\n",
    "    certificate,\n",
    "    key,\n",
    "    license_data=LicenseData(start_time, end_time, info=extra_info))"
   ]
  },
  {
   "cell_type": "code",
   "execution_count": 10,
   "metadata": {},
   "outputs": [],
   "source": [
    "with open('license.key', 'wb') as f:\n",
    "    local_license.store(f, b'motein@XA')"
   ]
  },
  {
   "cell_type": "code",
   "execution_count": 18,
   "metadata": {},
   "outputs": [],
   "source": [
    "def get_certificate(cert='certificate.pem'):\n",
    "    with open(cert, 'rb') as f:\n",
    "        certificate = f.read()\n",
    "        return certificate\n",
    "\n",
    "def is_expired(local_license):\n",
    "    root = etree.fromstring(local_license.encoded.encode('ascii'))\n",
    "#     print(local_license.encoded)\n",
    "    time_value = []\n",
    "    for time_element in root.findall('object/void/object/long'):\n",
    "        time_value.append(int(time_element.text))\n",
    "    if (time.time() * 1000) > max(time_value):\n",
    "        return True\n",
    "    else:\n",
    "        return False\n",
    "\n",
    "def get_certificate_from_license(local_license):\n",
    "    root = etree.fromstring(local_license.encoded.encode('ascii'))\n",
    "    cert_json = None\n",
    "    for time_element in root.findall('object/void'):\n",
    "        if time_element.attrib['property'] == 'info':\n",
    "            child = time_element.find('string')\n",
    "            cert_json = child.text\n",
    "            break\n",
    "#     print(type(cert_json), cert_json)\n",
    "    res = ast.literal_eval(cert_json)\n",
    "#     print(type(res), res)\n",
    "    \n",
    "    store_cert = \"\"\n",
    "    for i in range(res['size']):\n",
    "        store_cert = store_cert + res[i] + '\\t\\n'\n",
    "        \n",
    "#     print(store_cert)\n",
    "    return store_cert.encode('utf-8')\n",
    "\n",
    "def is_valid_license(license_path='license.key'):\n",
    "    if path.exists(license_path) is False:\n",
    "        return False, 'License文件不存在'\n",
    "        \n",
    "#     certificate = get_certificate()\n",
    "    with open(license_path, 'rb') as f:\n",
    "        try:\n",
    "            local_license = License.load(f, b'motein@XA')\n",
    "            certificate = get_certificate_from_license(local_license)\n",
    "            local_license.verify(certificate)\n",
    "        except (License.InvalidSignatureException):\n",
    "            return False, '非法的License'\n",
    "        except Exception:\n",
    "            return False, '验证License失败'\n",
    "        else:\n",
    "            if is_expired(local_license):\n",
    "                return False, 'License已过期'\n",
    "            else:\n",
    "                return True, '合法的License'"
   ]
  },
  {
   "cell_type": "code",
   "execution_count": 19,
   "metadata": {},
   "outputs": [
    {
     "data": {
      "text/plain": [
       "(False, '验证License失败')"
      ]
     },
     "execution_count": 19,
     "metadata": {},
     "output_type": "execute_result"
    }
   ],
   "source": [
    "is_valid_license()"
   ]
  },
  {
   "cell_type": "code",
   "execution_count": 25,
   "metadata": {},
   "outputs": [
    {
     "name": "stdout",
     "output_type": "stream",
     "text": [
      "<class '_io.BufferedReader'>\n",
      "13 10 <class 'bytes'>\n",
      "b'motein@XA'\n"
     ]
    }
   ],
   "source": [
    "with open('license.key', 'rb') as f:\n",
    "    print(type(f))\n",
    "    lines = f.readlines()\n",
    "    print(len(lines), len(lines[0]), type(lines[0]))\n",
    "    print(lines[0].strip())\n",
    "    f.seek(10)\n",
    "    local_license = License.load(f, lines[0].strip())\n",
    "    local_license.verify(certificate)"
   ]
  },
  {
   "cell_type": "code",
   "execution_count": null,
   "metadata": {},
   "outputs": [],
   "source": []
  },
  {
   "cell_type": "code",
   "execution_count": null,
   "metadata": {},
   "outputs": [],
   "source": []
  },
  {
   "cell_type": "code",
   "execution_count": null,
   "metadata": {},
   "outputs": [],
   "source": []
  }
 ],
 "metadata": {
  "kernelspec": {
   "display_name": "Python 3",
   "language": "python",
   "name": "python3"
  },
  "language_info": {
   "codemirror_mode": {
    "name": "ipython",
    "version": 3
   },
   "file_extension": ".py",
   "mimetype": "text/x-python",
   "name": "python",
   "nbconvert_exporter": "python",
   "pygments_lexer": "ipython3",
   "version": "3.7.4"
  }
 },
 "nbformat": 4,
 "nbformat_minor": 4
}
