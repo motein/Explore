{
 "cells": [
  {
   "cell_type": "code",
   "execution_count": 6,
   "metadata": {},
   "outputs": [],
   "source": [
    "import sys\n",
    "import os\n",
    "import shutil\n",
    "import getopt\n",
    "import json\n",
    "import subprocess"
   ]
  },
  {
   "cell_type": "code",
   "execution_count": 29,
   "metadata": {},
   "outputs": [],
   "source": [
    "def create_rc_file(file_description, file_version, product_version, isEN):\n",
    "    '''\n",
    "    create Resource Versoin\n",
    "    '''\n",
    "    import datetime\n",
    "    now = datetime.datetime.now()\n",
    "    with open(\"resource.rc\", 'w', encoding = 'utf-8') as f:\n",
    "        f.write(\"1 VERSIONINFO\\n\")\n",
    "        f.write(\"FILEVERSION    {0}\\n\".format(file_version.replace('.', ',')))\n",
    "        f.write(\"PRODUCTVERSION 1,0,0,0\\n\")\n",
    "        f.write(\"{\\n\")\n",
    "        f.write('    BLOCK \"StringFileInfo\"\\n')\n",
    "        f.write(\"    {\\n\")\n",
    "        if isEN:\n",
    "            f.write('        BLOCK \"040904b0\"\\n')\n",
    "        else: # NEUTRAL\n",
    "            f.write('        BLOCK \"000004b0\"\\n')\n",
    "        f.write('        {\\n')\n",
    "        f.write('            VALUE \"CompanyName\",        \"Envision Nano Inc.\\\\0\"\\n')\n",
    "        f.write('            VALUE \"FileDescription\",    \"{0}\\\\0\"\\n'.format(file_description))\n",
    "        f.write('            VALUE \"FileVersion\",        \"{0}\\\\0\"\\n'.format(file_version))\n",
    "        f.write('            VALUE \"LegalCopyright\",     \"©  Envision Nano Inc. 2017-{0}\\\\0\"\\n'.format(now.year))\n",
    "        f.write('            VALUE \"ProductName\",        \"Product License Generator\\\\0\"\\n')\n",
    "        f.write('            VALUE \"ProductVersion\",     \"{0}\\\\0\"\\n'.format(product_version))\n",
    "        f.write(\"        }\\n\")\n",
    "        f.write(\"    }\\n\")\n",
    "        f.write('    BLOCK \"VarFileInfo\"\\n')\n",
    "        f.write('    {\\n')\n",
    "        if isEN:\n",
    "            f.write('        VALUE \"Translation\", 0x409, 1200\\n')\n",
    "        else:\n",
    "            f.write('        VALUE \"Translation\", 0x000, 1200\\n')\n",
    "        f.write('    }\\n')\n",
    "        f.write('}\\n')"
   ]
  },
  {
   "cell_type": "code",
   "execution_count": 30,
   "metadata": {},
   "outputs": [],
   "source": [
    "file_description = 'Generate Product License'\n",
    "file_version = '1.0.0.0'\n",
    "product_version = '1.0.0.0'\n",
    "isEN = True"
   ]
  },
  {
   "cell_type": "code",
   "execution_count": 31,
   "metadata": {},
   "outputs": [],
   "source": [
    "create_rc_file(file_description, file_version, product_version, isEN)"
   ]
  },
  {
   "cell_type": "code",
   "execution_count": null,
   "metadata": {},
   "outputs": [],
   "source": [
    "compile_cmd = ['windres','resource.rc', 'resource']\n",
    "with subprocess.Popen(compile_cmd, stdout=subprocess.PIPE, stderr=subprocess.STDOUT) as p:\n",
    "    for line in p.stdout.readlines():\n",
    "        print (str(line))"
   ]
  },
  {
   "cell_type": "code",
   "execution_count": 32,
   "metadata": {},
   "outputs": [],
   "source": [
    "compile_cmd = ['ResourceHacker.exe','-open', \"resource.rc\", '-save', \"resource.res\", '-action', 'compile']\n",
    "with subprocess.Popen(compile_cmd, stdout=subprocess.PIPE, stderr=subprocess.STDOUT) as p:\n",
    "    for line in p.stdout.readlines():\n",
    "        print (str(line))"
   ]
  },
  {
   "cell_type": "code",
   "execution_count": 18,
   "metadata": {},
   "outputs": [],
   "source": [
    "update_cmd = ['ResourceHacker.exe','-open', file_description, '-save', file_description, '-action', 'modify','-resource', 'resource.Res']\n",
    "with subprocess.Popen(update_cmd, stdout=subprocess.PIPE, stderr=subprocess.STDOUT) as p:\n",
    "    for line in p.stdout.readlines():\n",
    "        print (str(line))"
   ]
  },
  {
   "cell_type": "code",
   "execution_count": null,
   "metadata": {},
   "outputs": [],
   "source": []
  }
 ],
 "metadata": {
  "kernelspec": {
   "display_name": "Python 3",
   "language": "python",
   "name": "python3"
  },
  "language_info": {
   "codemirror_mode": {
    "name": "ipython",
    "version": 3
   },
   "file_extension": ".py",
   "mimetype": "text/x-python",
   "name": "python",
   "nbconvert_exporter": "python",
   "pygments_lexer": "ipython3",
   "version": "3.7.6"
  }
 },
 "nbformat": 4,
 "nbformat_minor": 4
}
