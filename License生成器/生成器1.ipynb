{
 "cells": [
  {
   "cell_type": "markdown",
   "metadata": {},
   "source": [
    "## 参考\n",
    "1. [Make a Key Generator in Python](https://www.youtube.com/watch?v=fJV2K5MqzTE)\n",
    "\n",
    "## 内容\n",
    "其实没啥大用"
   ]
  },
  {
   "cell_type": "code",
   "execution_count": 6,
   "metadata": {},
   "outputs": [],
   "source": [
    "import random\n",
    "import pyperclip"
   ]
  },
  {
   "cell_type": "code",
   "execution_count": 9,
   "metadata": {},
   "outputs": [
    {
     "name": "stdout",
     "output_type": "stream",
     "text": [
      "9308-3614-8124-5562\n"
     ]
    }
   ],
   "source": [
    "# generate Keys\n",
    "\n",
    "key = (f'{random.randrange(1000, 9999)}-{random.randrange(1000, 9999)}-{random.randrange(1000, 9999)}-{random.randrange(1000, 9999)}')\n",
    "print(key)"
   ]
  },
  {
   "cell_type": "code",
   "execution_count": 8,
   "metadata": {},
   "outputs": [],
   "source": [
    "# let python copy the key\n",
    "pyperclip.copy(key)"
   ]
  },
  {
   "cell_type": "code",
   "execution_count": 10,
   "metadata": {},
   "outputs": [],
   "source": [
    "def keygen():\n",
    "    key = (f'{random.randrange(1000, 9999)}-{random.randrange(1000, 9999)}-{random.randrange(1000, 9999)}-{random.randrange(1000, 9999)}')\n",
    "    print(key + \"|copied to clipboard\")\n",
    "    # let python copy the key\n",
    "    pyperclip.copy(key)"
   ]
  },
  {
   "cell_type": "code",
   "execution_count": null,
   "metadata": {},
   "outputs": [],
   "source": [
    "# store the code up tehre in fucntion\n",
    "# create if press enter print key\n",
    "# make it in a While loop\n",
    "\n",
    "while True:\n",
    "    user = input(\">>\")\n",
    "    if user == \"\":\n",
    "        keygen()\n",
    "    elif user == \"exit\":\n",
    "        exit()\n",
    "    else:\n",
    "        print(\"unknown command\")"
   ]
  },
  {
   "cell_type": "code",
   "execution_count": null,
   "metadata": {},
   "outputs": [],
   "source": [
    "# "
   ]
  }
 ],
 "metadata": {
  "kernelspec": {
   "display_name": "Python 3",
   "language": "python",
   "name": "python3"
  },
  "language_info": {
   "codemirror_mode": {
    "name": "ipython",
    "version": 3
   },
   "file_extension": ".py",
   "mimetype": "text/x-python",
   "name": "python",
   "nbconvert_exporter": "python",
   "pygments_lexer": "ipython3",
   "version": "3.7.6"
  }
 },
 "nbformat": 4,
 "nbformat_minor": 4
}
