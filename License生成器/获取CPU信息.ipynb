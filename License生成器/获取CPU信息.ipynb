{
 "cells": [
  {
   "cell_type": "markdown",
   "metadata": {},
   "source": [
    "### 参考\n",
    "1. [How to get CPU serial number on Windows using Python?](https://stackoverflow.com/questions/46130851/how-to-get-cpu-serial-number-on-windows-using-python)\n",
    "[Query CPU ID from Python?](https://stackoverflow.com/questions/3056674/query-cpu-id-from-python)"
   ]
  },
  {
   "cell_type": "code",
   "execution_count": 1,
   "metadata": {},
   "outputs": [
    {
     "name": "stdout",
     "output_type": "stream",
     "text": [
      "{'python_version': '3.7.4.final.0 (64 bit)', 'cpuinfo_version': [7, 0, 0], 'cpuinfo_version_string': '7.0.0', 'arch': 'X86_64', 'bits': 64, 'count': 8, 'arch_string_raw': 'AMD64', 'vendor_id_raw': 'GenuineIntel', 'brand_raw': 'Intel(R) Xeon(R) CPU E5-1620 0 @ 3.60GHz', 'hz_advertised_friendly': '3.6000 GHz', 'hz_actual_friendly': '3.6010 GHz', 'hz_advertised': [3600000000, 0], 'hz_actual': [3601000000, 0], 'l2_cache_size': 1048576, 'stepping': 7, 'model': 45, 'family': 6, 'l3_cache_size': 10485760, 'flags': ['acpi', 'aes', 'apic', 'avx', 'clflush', 'cmov', 'cx16', 'cx8', 'dca', 'de', 'ds_cpl', 'dtes64', 'dts', 'est', 'fpu', 'fxsr', 'ht', 'ia64', 'lahf_lm', 'mca', 'mce', 'mmx', 'monitor', 'msr', 'mtrr', 'osxsave', 'pae', 'pat', 'pbe', 'pcid', 'pclmulqdq', 'pdcm', 'pge', 'pni', 'popcnt', 'pse', 'pse36', 'sep', 'serial', 'smx', 'ss', 'sse', 'sse2', 'sse4_1', 'sse4_2', 'ssse3', 'tm', 'tm2', 'tsc', 'tscdeadline', 'vme', 'vmx', 'x2apic', 'xsave', 'xtpr'], 'l2_cache_line_size': 256, 'l2_cache_associativity': 6}\n"
     ]
    }
   ],
   "source": [
    "import cpuinfo\n",
    "info = cpuinfo.get_cpu_info()\n",
    "print(info)"
   ]
  },
  {
   "cell_type": "code",
   "execution_count": 21,
   "metadata": {},
   "outputs": [
    {
     "name": "stdout",
     "output_type": "stream",
     "text": [
      "<class 'list'> <class 'wmi._wmi_object'>\n",
      "[<_wmi_object: b'\\\\\\\\6CR421WNJQ\\\\root\\\\cimv2:Win32_Processor.DeviceID=\"CPU0\"'>]\n",
      "ProcessorId = \"BFEBFBFF000206D7\"\n",
      " \"BFEBFBFF000206D7\"\n"
     ]
    }
   ],
   "source": [
    "import wmi\n",
    "c = wmi.WMI()\n",
    "info = c.Win32_Processor()\n",
    "print(type(info), type(info[0]))\n",
    "print(info)\n",
    "infos = str(info[0])\n",
    "# print(infos)\n",
    "\n",
    "infos = infos.split(';')\n",
    "for s in infos:\n",
    "    if \"ProcessorId\" in str(s):\n",
    "        print(s.strip())\n",
    "        print(s.split('=')[1])\n",
    "        break\n",
    "\n",
    "# for s in info :\n",
    "#     if \"ProcessorId\" in str(s):\n",
    "#         print(s)"
   ]
  },
  {
   "cell_type": "code",
   "execution_count": 4,
   "metadata": {},
   "outputs": [
    {
     "data": {
      "text/plain": [
       "'Intel64 Family 6 Model 45 Stepping 7, GenuineIntel'"
      ]
     },
     "execution_count": 4,
     "metadata": {},
     "output_type": "execute_result"
    }
   ],
   "source": [
    "import platform\n",
    "platform.processor()"
   ]
  },
  {
   "cell_type": "code",
   "execution_count": null,
   "metadata": {},
   "outputs": [],
   "source": []
  }
 ],
 "metadata": {
  "kernelspec": {
   "display_name": "Python 3",
   "language": "python",
   "name": "python3"
  },
  "language_info": {
   "codemirror_mode": {
    "name": "ipython",
    "version": 3
   },
   "file_extension": ".py",
   "mimetype": "text/x-python",
   "name": "python",
   "nbconvert_exporter": "python",
   "pygments_lexer": "ipython3",
   "version": "3.7.4"
  }
 },
 "nbformat": 4,
 "nbformat_minor": 2
}
