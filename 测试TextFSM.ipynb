{
 "cells": [
  {
   "cell_type": "markdown",
   "metadata": {},
   "source": [
    "## Reference\n",
    "1. [Getting started with TextFSM](https://pyneng.readthedocs.io/en/latest/book/21_textfsm/README.html)"
   ]
  },
  {
   "cell_type": "code",
   "execution_count": 3,
   "metadata": {},
   "outputs": [],
   "source": [
    "import sys\n",
    "import textfsm\n",
    "from tabulate import tabulate"
   ]
  },
  {
   "cell_type": "markdown",
   "metadata": {},
   "source": [
    "`\n",
    "date > output_date\n",
    "`\n",
    "\n",
    "- . - any character\n",
    "- + - one or more repetitions of previous character\n",
    "- \\S - all characters except whitespace\n",
    "- \\w - any letter or number\n",
    "- \\d - any number\n",
    "\n",
    "It is determined by Rule, not by Value definition order."
   ]
  },
  {
   "cell_type": "code",
   "execution_count": 40,
   "metadata": {},
   "outputs": [],
   "source": [
    "template = \"output_template\"\n",
    "output_file = \"output_date\""
   ]
  },
  {
   "cell_type": "code",
   "execution_count": 47,
   "metadata": {},
   "outputs": [
    {
     "name": "stdout",
     "output_type": "stream",
     "text": [
      "[['2021年', '04月', '21日', '星期三', '11:18:15', 'CST']]\n",
      "Year    Month    MonthDay    WeekDay    Time      Timezone\n",
      "------  -------  ----------  ---------  --------  ----------\n",
      "2021年  04月     21日        星期三     11:18:15  CST\n"
     ]
    }
   ],
   "source": [
    "with open(template) as f, open(output_file) as output:\n",
    "    re_table = textfsm.TextFSM(f)\n",
    "    header = re_table.header\n",
    "    result = re_table.ParseText(output.read())\n",
    "    print(result)\n",
    "    print(tabulate(result, headers=header))"
   ]
  },
  {
   "cell_type": "code",
   "execution_count": 54,
   "metadata": {},
   "outputs": [],
   "source": [
    "template = \"cdp_template\"\n",
    "output_file = \"cdp_txt\""
   ]
  },
  {
   "cell_type": "code",
   "execution_count": 61,
   "metadata": {},
   "outputs": [
    {
     "name": "stdout",
     "output_type": "stream",
     "text": [
      "LOCAL_HOST    DEST_HOST    MGMNT_IP    PLATFORM              LOCAL_PORT             REMOTE_PORT         IOS_VERSION\n",
      "------------  -----------  ----------  --------------------  ---------------------  ------------------  -------------\n",
      "SW1           SW2          10.1.1.2    cisco WS-C2960-8TC-L  GigabitEthernet1/0/16  GigabitEthernet0/1  12.2(55)SE9\n",
      "              R1           10.1.1.1    Cisco 3825            GigabitEthernet1/0/22  GigabitEthernet0/0  12.4(24)T1\n",
      "              R2           10.2.2.2    Cisco 2911            GigabitEthernet1/0/21  GigabitEthernet0/0  15.2(2)T1\n"
     ]
    }
   ],
   "source": [
    "with open(template) as f, open(output_file) as output:\n",
    "    re_table = textfsm.TextFSM(f)\n",
    "    header = re_table.header\n",
    "    result = re_table.ParseText(output.read())\n",
    "    print(result)\n",
    "#     print(tabulate(result, headers=header))"
   ]
  },
  {
   "cell_type": "code",
   "execution_count": null,
   "metadata": {},
   "outputs": [],
   "source": []
  }
 ],
 "metadata": {
  "kernelspec": {
   "display_name": "Python 3",
   "language": "python",
   "name": "python3"
  },
  "language_info": {
   "codemirror_mode": {
    "name": "ipython",
    "version": 3
   },
   "file_extension": ".py",
   "mimetype": "text/x-python",
   "name": "python",
   "nbconvert_exporter": "python",
   "pygments_lexer": "ipython3",
   "version": "3.8.5"
  }
 },
 "nbformat": 4,
 "nbformat_minor": 2
}
