{
 "cells": [
  {
   "cell_type": "markdown",
   "metadata": {},
   "source": [
    "## Reference\n",
    "1. [Getting started with TextFSM](https://pyneng.readthedocs.io/en/latest/book/21_textfsm/README.html)"
   ]
  },
  {
   "cell_type": "code",
   "execution_count": 1,
   "metadata": {},
   "outputs": [],
   "source": [
    "import sys\n",
    "import textfsm\n",
    "from tabulate import tabulate"
   ]
  },
  {
   "cell_type": "markdown",
   "metadata": {},
   "source": [
    "`\n",
    "date > output_date\n",
    "`\n",
    "\n",
    "- . - any character\n",
    "- + - one or more repetitions of previous character\n",
    "- \\S - all characters except whitespace\n",
    "- \\w - any letter or number\n",
    "- \\d - any number\n",
    "\n",
    "It is determined by Rule, not by Value definition order."
   ]
  },
  {
   "cell_type": "code",
   "execution_count": 2,
   "metadata": {},
   "outputs": [],
   "source": [
    "def parse_func(template, output_file):\n",
    "    with open(template) as f, open(output_file) as output:\n",
    "        re_table = textfsm.TextFSM(f)\n",
    "        header = re_table.header\n",
    "        result = re_table.ParseText(output.read())\n",
    "#         print(result)\n",
    "        print(tabulate(result, headers=header))"
   ]
  },
  {
   "cell_type": "code",
   "execution_count": 82,
   "metadata": {},
   "outputs": [],
   "source": [
    "template = \"output_template\"\n",
    "output_file = \"output_date\""
   ]
  },
  {
   "cell_type": "code",
   "execution_count": 83,
   "metadata": {},
   "outputs": [
    {
     "name": "stdout",
     "output_type": "stream",
     "text": [
      "Year    Month    MonthDay    WeekDay    Time      Timezone\n",
      "------  -------  ----------  ---------  --------  ----------\n",
      "2021年  04月     21日        星期三     11:18:15  CST\n"
     ]
    }
   ],
   "source": [
    "parse_func(template, output_file)"
   ]
  },
  {
   "cell_type": "code",
   "execution_count": 84,
   "metadata": {},
   "outputs": [],
   "source": [
    "template = \"cdp_template\"\n",
    "output_file = \"cdp_txt\""
   ]
  },
  {
   "cell_type": "code",
   "execution_count": 85,
   "metadata": {},
   "outputs": [
    {
     "name": "stdout",
     "output_type": "stream",
     "text": [
      "LOCAL_HOST    DEST_HOST    MGMNT_IP    PLATFORM              LOCAL_PORT             REMOTE_PORT         IOS_VERSION\n",
      "------------  -----------  ----------  --------------------  ---------------------  ------------------  -------------\n",
      "SW1           SW2          10.1.1.2    cisco WS-C2960-8TC-L  GigabitEthernet1/0/16  GigabitEthernet0/1  12.2(55)SE9\n",
      "SW1           R1           10.1.1.1    Cisco 3825            GigabitEthernet1/0/22  GigabitEthernet0/0  12.4(24)T1\n",
      "SW1           R2           10.2.2.2    Cisco 2911            GigabitEthernet1/0/21  GigabitEthernet0/0  15.2(2)T1\n"
     ]
    }
   ],
   "source": [
    "parse_func(template, output_file)"
   ]
  },
  {
   "cell_type": "code",
   "execution_count": 86,
   "metadata": {},
   "outputs": [],
   "source": [
    "template = \"route_template\"\n",
    "output_file = \"route_txt\""
   ]
  },
  {
   "cell_type": "code",
   "execution_count": 87,
   "metadata": {},
   "outputs": [
    {
     "name": "stdout",
     "output_type": "stream",
     "text": [
      "network    mask      distance    metric  nexthop\n",
      "---------  ------  ----------  --------  ---------\n",
      "10.1.1.0   24             110        20  10.0.12.2\n",
      "10.2.2.0   24             110        20  10.0.13.3\n",
      "10.3.3.3   32             110        11  10.0.12.2\n",
      "10.4.4.4   32             110        11  10.0.13.3\n",
      "                          110        11  10.0.14.4\n",
      "10.5.5.5   32             110        21  10.0.13.3\n",
      "                          110        21  10.0.12.2\n",
      "                          110        21  10.0.14.4\n",
      "10.6.6.0   24             110        20  10.0.13.3\n"
     ]
    }
   ],
   "source": [
    "parse_func(template, output_file)"
   ]
  },
  {
   "cell_type": "code",
   "execution_count": 88,
   "metadata": {},
   "outputs": [],
   "source": [
    "template = \"list_template\"\n",
    "output_file = \"route_txt\""
   ]
  },
  {
   "cell_type": "code",
   "execution_count": 89,
   "metadata": {},
   "outputs": [
    {
     "name": "stdout",
     "output_type": "stream",
     "text": [
      "network      mask    distance    metric  nexthop\n",
      "---------  ------  ----------  --------  ---------------------------------------\n",
      "10.1.1.0       24         110        20  ['10.0.12.2']\n",
      "10.2.2.0       24         110        20  ['10.0.13.3']\n",
      "10.3.3.3       32         110        11  ['10.0.12.2']\n",
      "10.4.4.4       32         110        11  ['10.0.13.3', '10.0.14.4']\n",
      "10.5.5.5       32         110        21  ['10.0.13.3', '10.0.12.2', '10.0.14.4']\n",
      "10.6.6.0       24         110        20  ['10.0.13.3']\n"
     ]
    }
   ],
   "source": [
    "parse_func(template, output_file)"
   ]
  },
  {
   "cell_type": "code",
   "execution_count": 105,
   "metadata": {},
   "outputs": [],
   "source": [
    "template = \"eth_template\"\n",
    "output_file = \"eth_txt\""
   ]
  },
  {
   "cell_type": "code",
   "execution_count": 111,
   "metadata": {},
   "outputs": [
    {
     "name": "stdout",
     "output_type": "stream",
     "text": [
      "CHANNEL    MEMBERS\n",
      "---------  ----------------------------------------\n",
      "Po1        ['Fa0/1', 'Fa0/2', 'Fa0/3']\n",
      "Po3        ['Fa0/11', 'Fa0/12', 'Fa0/13', 'Fa0/14']\n"
     ]
    }
   ],
   "source": [
    "parse_func(template, output_file)"
   ]
  },
  {
   "cell_type": "code",
   "execution_count": 3,
   "metadata": {},
   "outputs": [],
   "source": [
    "template = \"log_template\"\n",
    "output_file = \"log\""
   ]
  },
  {
   "cell_type": "code",
   "execution_count": 5,
   "metadata": {},
   "outputs": [
    {
     "name": "stdout",
     "output_type": "stream",
     "text": [
      "Status    Code    Info\n",
      "--------  ------  -----------------------------\n",
      "PASS      (100)   Testhead Selftest\n",
      "PASS      (110)   Reference Configuration Check\n",
      "PASS      (120)   Relay Test\n",
      "PASS      (121)   HF Matrix Relay Test\n",
      "PASS      (130)   GNDU Test\n",
      "PASS      (131)   SMU V/I Test\n",
      "PASS      (132)   DC Leakage Test\n",
      "PASS      (140)   CMU C/G Test\n",
      "PASS      (141)   CMU DC Bias Test\n",
      "PASS      (150)   DVM Test\n",
      "PASS      (160)   PG Selftest\n",
      "PASS      (161)   PG Connection Test\n",
      "PASS      (221)   Measurement Pin Location Test\n",
      "PASS      (224)   HF Matrix Relay Test\n",
      "FAIL      (100)   Testhead Selftest\n",
      "PASS      (110)   Reference Configuration Check\n",
      "PASS      (120)   Relay Test\n",
      "PASS      (121)   HF Matrix Relay Test\n",
      "PASS      (130)   GNDU Test\n"
     ]
    }
   ],
   "source": [
    "parse_func(template, output_file)"
   ]
  },
  {
   "cell_type": "code",
   "execution_count": 6,
   "metadata": {},
   "outputs": [],
   "source": [
    "template = \"log_template2\"\n",
    "output_file = \"log\""
   ]
  },
  {
   "cell_type": "code",
   "execution_count": 24,
   "metadata": {},
   "outputs": [
    {
     "name": "stdout",
     "output_type": "stream",
     "text": [
      "StartTime                     Status    Code    Info                           EndTime\n",
      "----------------------------  --------  ------  -----------------------------  ----------------------------\n",
      "Mon Mar 15 13:18:47 JST 2021  PASS      (100)   Testhead Selftest              Mon Mar 15 13:18:47 JST 2021\n",
      "Mon Mar 15 13:18:47 JST 2021  PASS      (110)   Reference Configuration Check  Mon Mar 15 13:18:47 JST 2021\n",
      "Mon Mar 15 13:18:47 JST 2021  PASS      (120)   Relay Test                     Mon Mar 15 13:18:47 JST 2021\n",
      "Mon Mar 15 13:18:47 JST 2021  PASS      (121)   HF Matrix Relay Test           Mon Mar 15 13:18:47 JST 2021\n",
      "Mon Mar 15 13:18:47 JST 2021  PASS      (130)   GNDU Test                      Mon Mar 15 13:18:47 JST 2021\n",
      "Mon Mar 15 13:18:47 JST 2021  PASS      (131)   SMU V/I Test                   Mon Mar 15 13:18:47 JST 2021\n",
      "Mon Mar 15 13:18:47 JST 2021  PASS      (132)   DC Leakage Test                Mon Mar 15 13:18:47 JST 2021\n",
      "Mon Mar 15 13:18:47 JST 2021  PASS      (140)   CMU C/G Test                   Mon Mar 15 13:18:47 JST 2021\n",
      "Mon Mar 15 13:18:47 JST 2021  PASS      (141)   CMU DC Bias Test               Mon Mar 15 13:18:47 JST 2021\n",
      "Mon Mar 15 13:18:47 JST 2021  PASS      (150)   DVM Test                       Mon Mar 15 13:18:47 JST 2021\n",
      "Mon Mar 15 13:18:47 JST 2021  PASS      (160)   PG Selftest                    Mon Mar 15 13:18:47 JST 2021\n",
      "Mon Mar 15 13:18:47 JST 2021  PASS      (161)   PG Connection Test             Mon Mar 15 13:18:47 JST 2021\n",
      "Mon Mar 15 13:35:24 JST 2021  PASS      (221)   Measurement Pin Location Test  Mon Mar 15 13:35:24 JST 2021\n",
      "Mon Mar 15 13:41:18 JST 2021  PASS      (224)   HF Matrix Relay Test           Mon Mar 15 13:41:18 JST 2021\n",
      "Tue Mar 16 17:44:32 JST 2021  FAIL      (100)   Testhead Selftest              Tue Mar 16 17:44:32 JST 2021\n",
      "Tue Mar 16 17:44:32 JST 2021  PASS      (110)   Reference Configuration Check  Tue Mar 16 17:44:32 JST 2021\n",
      "Tue Mar 16 17:44:32 JST 2021  PASS      (120)   Relay Test                     Tue Mar 16 17:44:32 JST 2021\n",
      "Tue Mar 16 17:44:32 JST 2021  PASS      (121)   HF Matrix Relay Test           Tue Mar 16 17:44:32 JST 2021\n",
      "Tue Mar 16 17:44:32 JST 2021  PASS      (130)   GNDU Test                      Tue Mar 16 17:44:32 JST 2021\n"
     ]
    }
   ],
   "source": [
    "parse_func(template, output_file)"
   ]
  },
  {
   "cell_type": "code",
   "execution_count": null,
   "metadata": {},
   "outputs": [],
   "source": []
  },
  {
   "cell_type": "code",
   "execution_count": null,
   "metadata": {},
   "outputs": [],
   "source": []
  },
  {
   "cell_type": "code",
   "execution_count": null,
   "metadata": {},
   "outputs": [],
   "source": []
  }
 ],
 "metadata": {
  "kernelspec": {
   "display_name": "Python 3",
   "language": "python",
   "name": "python3"
  },
  "language_info": {
   "codemirror_mode": {
    "name": "ipython",
    "version": 3
   },
   "file_extension": ".py",
   "mimetype": "text/x-python",
   "name": "python",
   "nbconvert_exporter": "python",
   "pygments_lexer": "ipython3",
   "version": "3.7.4"
  }
 },
 "nbformat": 4,
 "nbformat_minor": 2
}
