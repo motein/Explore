{
 "cells": [
  {
   "cell_type": "markdown",
   "metadata": {},
   "source": [
    "### 参考\n",
    "1. [Optimize](https://docs.scipy.org/doc/scipy/reference/tutorial/optimize.html)\n",
    "2. [Constrained Optimization demystified, with implementation in Python.](https://towardsdatascience.com/constrained-optimization-demystified-with-implementation-in-python-235639546fa9)\n",
    "3. [雅可比矩阵](https://baike.baidu.com/item/%E9%9B%85%E5%8F%AF%E6%AF%94%E7%9F%A9%E9%98%B5/10753754?fromtitle=%E9%9B%85%E5%85%8B%E6%AF%94%E7%9F%A9%E9%98%B5&fromid=5726542&fr=aladdin)\n",
    "4. [Jacobian矩阵和Hessian矩阵](https://www.cnblogs.com/wangyarui/p/6407604.html)"
   ]
  },
  {
   "cell_type": "code",
   "execution_count": 1,
   "metadata": {},
   "outputs": [],
   "source": [
    "import numpy as np\n",
    "import scipy.optimize as optimize\n",
    "import scipy.integrate as integrate"
   ]
  },
  {
   "cell_type": "markdown",
   "metadata": {},
   "source": [
    "$\\large \\displaystyle \\min_{x_0,x_1} 100(x_1-x_0^2)^2 + (1-x_0)^2 \\\\\n",
    "subject \\quad to: \\\\\n",
    "x_0+2x_1\\leq 1\\\\\n",
    "x_0^2 + x_1 \\leq 1\\\\\n",
    "x_0^2-x_1 \\leq 1\\\\\n",
    "2x_0+x_1 = 1\\\\\n",
    "0 \\leq x_0 \\leq 1\\\\\n",
    "-0.5 \\leq x_1 \\leq 2.0$"
   ]
  },
  {
   "cell_type": "code",
   "execution_count": 20,
   "metadata": {},
   "outputs": [],
   "source": [
    "def rosen(x):\n",
    "    \"\"\"The Rosenbrock function\"\"\"\n",
    "    return sum(100.0*(x[1:]-x[:-1]**2.0)**2.0 + (1-x[:-1])**2.0)\n",
    "\n",
    "def rosen_der(x):\n",
    "    xm = x[1:-1]\n",
    "    xm_m1 = x[:-2]\n",
    "    xm_p1 = x[2:]\n",
    "    der = np.zeros_like(x)\n",
    "    der[1:-1] = 200*(xm-xm_m1**2) - 400*(xm_p1 - xm**2)*xm - 2*(1-xm)\n",
    "    der[0] = -400*x[0]*(x[1]-x[0]**2) - 2*(1-x[0])\n",
    "    der[-1] = 200*(x[-1]-x[-2]**2)\n",
    "    return der\n",
    "\n",
    "def rosen_hess(x):\n",
    "    x = np.asarray(x)\n",
    "    H = np.diag(-400*x[:-1],1) - np.diag(400*x[:-1],-1)\n",
    "    diagonal = np.zeros_like(x)\n",
    "    diagonal[0] = 1200*x[0]**2-400*x[1]+2\n",
    "    diagonal[-1] = 200\n",
    "    diagonal[1:-1] = 202 + 1200*x[1:-1]**2 - 400*x[2:]\n",
    "    H = H + np.diag(diagonal)\n",
    "    return H"
   ]
  },
  {
   "cell_type": "markdown",
   "metadata": {},
   "source": [
    "---\n",
    "$0\\leq x_0 \\leq 1\\\\\n",
    "-0.5 \\leq x_1 \\leq 2.0$"
   ]
  },
  {
   "cell_type": "code",
   "execution_count": 2,
   "metadata": {},
   "outputs": [],
   "source": [
    "from scipy.optimize import Bounds\n",
    "bounds = Bounds([0, -0.5], [1.0, 2.0])"
   ]
  },
  {
   "cell_type": "markdown",
   "metadata": {},
   "source": [
    "$x_0+2x_1 \\leq 1\\\\\n",
    "2x_0+x_1 = 1 \\\\\n",
    "\\Longrightarrow \\\\\n",
    "\\begin{bmatrix}\n",
    "   -\\infty \\\\\n",
    "   1\n",
    "\\end{bmatrix} \\leq \\begin{bmatrix}\n",
    "   1 & 2 \\\\\n",
    "   2 & 1\n",
    "\\end{bmatrix} \\begin{bmatrix}\n",
    "   x_0\\\\\n",
    "   x_1\n",
    "\\end{bmatrix} \\leq \\begin{bmatrix}\n",
    "   1 \\\\\n",
    "   1\n",
    "\\end{bmatrix}$"
   ]
  },
  {
   "cell_type": "code",
   "execution_count": 3,
   "metadata": {},
   "outputs": [],
   "source": [
    "from scipy.optimize import LinearConstraint\n",
    "linear_constraint = LinearConstraint([[1, 2], [2, 1]], [-np.inf, 1], [1, 1])"
   ]
  },
  {
   "cell_type": "markdown",
   "metadata": {},
   "source": [
    "$c(x) = \\begin{bmatrix}\n",
    "   x_0^2+x_1 \\\\\n",
    "   x_0^2-x_1\n",
    "\\end{bmatrix} \\leq \n",
    "\\begin{bmatrix}\n",
    "   1 \\\\\n",
    "   1\n",
    "\\end{bmatrix} \\\\\n",
    "\\Longrightarrow \\\\\n",
    "J(x) = \\begin{bmatrix}\n",
    "   2x_0 & 1 \\\\\n",
    "   2x_0 & -1\n",
    "\\end{bmatrix} \\\\\n",
    "\\Longrightarrow \\\\\n",
    "H(x, v) = \\sum_{i=0}^1 v_i \\nabla^2c_i(x)=v_0\\begin{bmatrix}\n",
    "   2 & 0\\\\\n",
    "   0 & 0\n",
    "\\end{bmatrix} + v_1 \\begin{bmatrix}\n",
    "   2 & 0 \\\\\n",
    "   0 & 0\n",
    "\\end{bmatrix}$"
   ]
  },
  {
   "cell_type": "code",
   "execution_count": 4,
   "metadata": {},
   "outputs": [],
   "source": [
    "def cons_f(x):\n",
    "    return [x[0]**2 + x[1], x[0]**2 - x[1]]\n",
    "\n",
    "def cons_J(x):\n",
    "    return [[2*x[0], 1], [2*x[0], -1]]\n",
    "\n",
    "def cons_H(x, v):\n",
    "    return v[0]*np.array([[2, 0], [0, 0]]) + v[1]*np.array([[2, 0], [0, 0]])"
   ]
  },
  {
   "cell_type": "code",
   "execution_count": 5,
   "metadata": {},
   "outputs": [],
   "source": [
    "from scipy.optimize import NonlinearConstraint\n",
    "nonlinear_constraint = NonlinearConstraint(cons_f, -np.inf, 1, jac=cons_J, hess=cons_H)"
   ]
  },
  {
   "cell_type": "code",
   "execution_count": 6,
   "metadata": {},
   "outputs": [],
   "source": [
    "from scipy.sparse import csc_matrix\n",
    "\n",
    "def cons_H_sparse(x, v):\n",
    "    return v[0]*csc_matrix([[2, 0], [0, 0]]) + v[1]*csc_matrix([[2, 0], [0, 0]])\n",
    "\n",
    "nonlinear_constraint2 = NonlinearConstraint(cons_f, -np.inf, 1, jac=cons_J, hess=cons_H_sparse)"
   ]
  },
  {
   "cell_type": "code",
   "execution_count": 7,
   "metadata": {},
   "outputs": [],
   "source": [
    "from scipy.sparse.linalg import LinearOperator\n",
    "\n",
    "def cons_H_linear_operator(x, v):\n",
    "    def matvec(p):\n",
    "\n",
    "        return np.array([p[0]*2*(v[0]+v[1]), 0])\n",
    "\n",
    "    return LinearOperator((2, 2), matvec=matvec)\n",
    "\n",
    "nonlinear_constraint3 = NonlinearConstraint(cons_f, -np.inf, 1, jac=cons_J, hess=cons_H_linear_operator)"
   ]
  },
  {
   "cell_type": "markdown",
   "metadata": {},
   "source": [
    "如果海森矩阵不好算的话"
   ]
  },
  {
   "cell_type": "code",
   "execution_count": 8,
   "metadata": {},
   "outputs": [],
   "source": [
    "from scipy.optimize import BFGS\n",
    "nonlinear_constraint3 = NonlinearConstraint(cons_f, -np.inf, 1, jac=cons_J, hess=BFGS())"
   ]
  },
  {
   "cell_type": "markdown",
   "metadata": {},
   "source": [
    "使用有限微分估算"
   ]
  },
  {
   "cell_type": "code",
   "execution_count": 9,
   "metadata": {},
   "outputs": [],
   "source": [
    "nonlinear_constraint4 = NonlinearConstraint(cons_f, -np.inf, 1, jac=cons_J, hess='2-point')"
   ]
  },
  {
   "cell_type": "markdown",
   "metadata": {},
   "source": [
    "雅克比矩阵也可以用有限微分估算"
   ]
  },
  {
   "cell_type": "code",
   "execution_count": 10,
   "metadata": {},
   "outputs": [],
   "source": [
    "nonlinear_constraint5 = NonlinearConstraint(cons_f, -np.inf, 1, jac='2-point', hess=BFGS())"
   ]
  },
  {
   "cell_type": "code",
   "execution_count": 21,
   "metadata": {},
   "outputs": [
    {
     "name": "stdout",
     "output_type": "stream",
     "text": [
      "`gtol` termination condition is satisfied.\n",
      "Number of iterations: 12, function evaluations: 8, CG iterations: 7, optimality: 2.99e-09, constraint violation: 0.00e+00, execution time: 0.065 s.\n"
     ]
    }
   ],
   "source": [
    "x0 = np.array([0.5, 0])\n",
    "res = optimize.minimize(rosen, x0, method='trust-constr', jac=rosen_der, hess=rosen_hess,\n",
    "               constraints=[linear_constraint, nonlinear_constraint],\n",
    "               options={'verbose': 1}, bounds=bounds)"
   ]
  },
  {
   "cell_type": "code",
   "execution_count": 22,
   "metadata": {},
   "outputs": [
    {
     "data": {
      "text/plain": [
       "array([0.41494531, 0.17010937])"
      ]
     },
     "execution_count": 22,
     "metadata": {},
     "output_type": "execute_result"
    }
   ],
   "source": [
    "res.x"
   ]
  },
  {
   "cell_type": "code",
   "execution_count": 24,
   "metadata": {},
   "outputs": [
    {
     "name": "stdout",
     "output_type": "stream",
     "text": [
      "`gtol` termination condition is satisfied.\n",
      "Number of iterations: 12, function evaluations: 24, CG iterations: 7, optimality: 4.52e-09, constraint violation: 0.00e+00, execution time: 0.04 s.\n"
     ]
    }
   ],
   "source": [
    "from scipy.optimize import SR1\n",
    "res = optimize.minimize(rosen, x0, method='trust-constr',  jac=\"2-point\", hess=SR1(),\n",
    "               constraints=[linear_constraint, nonlinear_constraint],\n",
    "               options={'verbose': 1}, bounds=bounds)"
   ]
  },
  {
   "cell_type": "code",
   "execution_count": 25,
   "metadata": {},
   "outputs": [
    {
     "data": {
      "text/plain": [
       "array([0.41494531, 0.17010937])"
      ]
     },
     "execution_count": 25,
     "metadata": {},
     "output_type": "execute_result"
    }
   ],
   "source": [
    "res.x"
   ]
  },
  {
   "cell_type": "code",
   "execution_count": null,
   "metadata": {},
   "outputs": [],
   "source": []
  }
 ],
 "metadata": {
  "kernelspec": {
   "display_name": "Python 3",
   "language": "python",
   "name": "python3"
  },
  "language_info": {
   "codemirror_mode": {
    "name": "ipython",
    "version": 3
   },
   "file_extension": ".py",
   "mimetype": "text/x-python",
   "name": "python",
   "nbconvert_exporter": "python",
   "pygments_lexer": "ipython3",
   "version": "3.7.4"
  }
 },
 "nbformat": 4,
 "nbformat_minor": 2
}
